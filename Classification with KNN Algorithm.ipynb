{
 "cells": [
  {
   "cell_type": "markdown",
   "metadata": {},
   "source": [
    "### Classification with KNN algorithm"
   ]
  },
  {
   "cell_type": "code",
   "execution_count": 1,
   "metadata": {
    "tags": []
   },
   "outputs": [],
   "source": [
    "import numpy as np\n",
    "import pandas as pd\n",
    "import random\n",
    "import matplotlib.pyplot as plt\n",
    "from sklearn import preprocessing\n",
    "from collections import Counter"
   ]
  },
  {
   "cell_type": "code",
   "execution_count": 2,
   "metadata": {
    "tags": []
   },
   "outputs": [
    {
     "data": {
      "text/html": [
       "<div>\n",
       "<style scoped>\n",
       "    .dataframe tbody tr th:only-of-type {\n",
       "        vertical-align: middle;\n",
       "    }\n",
       "\n",
       "    .dataframe tbody tr th {\n",
       "        vertical-align: top;\n",
       "    }\n",
       "\n",
       "    .dataframe thead th {\n",
       "        text-align: right;\n",
       "    }\n",
       "</style>\n",
       "<table border=\"1\" class=\"dataframe\">\n",
       "  <thead>\n",
       "    <tr style=\"text-align: right;\">\n",
       "      <th></th>\n",
       "      <th>Gender</th>\n",
       "      <th>Income</th>\n",
       "      <th>Age</th>\n",
       "      <th>Rentals</th>\n",
       "      <th>Avg Per Visit</th>\n",
       "      <th>Genre</th>\n",
       "      <th>Incidentals</th>\n",
       "    </tr>\n",
       "    <tr>\n",
       "      <th>Cust ID</th>\n",
       "      <th></th>\n",
       "      <th></th>\n",
       "      <th></th>\n",
       "      <th></th>\n",
       "      <th></th>\n",
       "      <th></th>\n",
       "      <th></th>\n",
       "    </tr>\n",
       "  </thead>\n",
       "  <tbody>\n",
       "    <tr>\n",
       "      <th>1</th>\n",
       "      <td>M</td>\n",
       "      <td>45000</td>\n",
       "      <td>25</td>\n",
       "      <td>32</td>\n",
       "      <td>2.5</td>\n",
       "      <td>Action</td>\n",
       "      <td>Yes</td>\n",
       "    </tr>\n",
       "    <tr>\n",
       "      <th>2</th>\n",
       "      <td>F</td>\n",
       "      <td>54000</td>\n",
       "      <td>33</td>\n",
       "      <td>12</td>\n",
       "      <td>3.4</td>\n",
       "      <td>Drama</td>\n",
       "      <td>No</td>\n",
       "    </tr>\n",
       "    <tr>\n",
       "      <th>3</th>\n",
       "      <td>F</td>\n",
       "      <td>32000</td>\n",
       "      <td>20</td>\n",
       "      <td>42</td>\n",
       "      <td>1.6</td>\n",
       "      <td>Comedy</td>\n",
       "      <td>No</td>\n",
       "    </tr>\n",
       "    <tr>\n",
       "      <th>4</th>\n",
       "      <td>F</td>\n",
       "      <td>59000</td>\n",
       "      <td>70</td>\n",
       "      <td>16</td>\n",
       "      <td>4.2</td>\n",
       "      <td>Drama</td>\n",
       "      <td>Yes</td>\n",
       "    </tr>\n",
       "    <tr>\n",
       "      <th>5</th>\n",
       "      <td>M</td>\n",
       "      <td>37000</td>\n",
       "      <td>35</td>\n",
       "      <td>25</td>\n",
       "      <td>3.2</td>\n",
       "      <td>Action</td>\n",
       "      <td>Yes</td>\n",
       "    </tr>\n",
       "  </tbody>\n",
       "</table>\n",
       "</div>"
      ],
      "text/plain": [
       "        Gender  Income  Age  Rentals  Avg Per Visit   Genre Incidentals\n",
       "Cust ID                                                                \n",
       "1            M   45000   25       32            2.5  Action         Yes\n",
       "2            F   54000   33       12            3.4   Drama          No\n",
       "3            F   32000   20       42            1.6  Comedy          No\n",
       "4            F   59000   70       16            4.2   Drama         Yes\n",
       "5            M   37000   35       25            3.2  Action         Yes"
      ]
     },
     "execution_count": 2,
     "metadata": {},
     "output_type": "execute_result"
    }
   ],
   "source": [
    "# Load a CSV file\n",
    "vstable = pd.read_csv(\"http://facweb.cs.depaul.edu/mobasher/classes/csc478/data/Video_Store_2.csv\", index_col = 0)\n",
    "vstable.head(5)"
   ]
  },
  {
   "cell_type": "code",
   "execution_count": 3,
   "metadata": {
    "tags": []
   },
   "outputs": [
    {
     "data": {
      "text/html": [
       "<div>\n",
       "<style scoped>\n",
       "    .dataframe tbody tr th:only-of-type {\n",
       "        vertical-align: middle;\n",
       "    }\n",
       "\n",
       "    .dataframe tbody tr th {\n",
       "        vertical-align: top;\n",
       "    }\n",
       "\n",
       "    .dataframe thead th {\n",
       "        text-align: right;\n",
       "    }\n",
       "</style>\n",
       "<table border=\"1\" class=\"dataframe\">\n",
       "  <thead>\n",
       "    <tr style=\"text-align: right;\">\n",
       "      <th></th>\n",
       "      <th>Gender</th>\n",
       "      <th>Income</th>\n",
       "      <th>Age</th>\n",
       "      <th>Rentals</th>\n",
       "      <th>Avg Per Visit</th>\n",
       "      <th>Genre</th>\n",
       "      <th>Incidentals</th>\n",
       "    </tr>\n",
       "    <tr>\n",
       "      <th>Cust ID</th>\n",
       "      <th></th>\n",
       "      <th></th>\n",
       "      <th></th>\n",
       "      <th></th>\n",
       "      <th></th>\n",
       "      <th></th>\n",
       "      <th></th>\n",
       "    </tr>\n",
       "  </thead>\n",
       "  <tbody>\n",
       "    <tr>\n",
       "      <th>17</th>\n",
       "      <td>M</td>\n",
       "      <td>36000</td>\n",
       "      <td>35</td>\n",
       "      <td>28</td>\n",
       "      <td>3.5</td>\n",
       "      <td>Drama</td>\n",
       "      <td>Yes</td>\n",
       "    </tr>\n",
       "    <tr>\n",
       "      <th>18</th>\n",
       "      <td>F</td>\n",
       "      <td>6000</td>\n",
       "      <td>16</td>\n",
       "      <td>39</td>\n",
       "      <td>1.8</td>\n",
       "      <td>Action</td>\n",
       "      <td>Yes</td>\n",
       "    </tr>\n",
       "    <tr>\n",
       "      <th>21</th>\n",
       "      <td>F</td>\n",
       "      <td>47000</td>\n",
       "      <td>52</td>\n",
       "      <td>11</td>\n",
       "      <td>3.1</td>\n",
       "      <td>Drama</td>\n",
       "      <td>No</td>\n",
       "    </tr>\n",
       "    <tr>\n",
       "      <th>35</th>\n",
       "      <td>M</td>\n",
       "      <td>74000</td>\n",
       "      <td>29</td>\n",
       "      <td>43</td>\n",
       "      <td>4.6</td>\n",
       "      <td>Action</td>\n",
       "      <td>Yes</td>\n",
       "    </tr>\n",
       "    <tr>\n",
       "      <th>8</th>\n",
       "      <td>M</td>\n",
       "      <td>74000</td>\n",
       "      <td>25</td>\n",
       "      <td>31</td>\n",
       "      <td>2.4</td>\n",
       "      <td>Action</td>\n",
       "      <td>Yes</td>\n",
       "    </tr>\n",
       "    <tr>\n",
       "      <th>34</th>\n",
       "      <td>F</td>\n",
       "      <td>29000</td>\n",
       "      <td>32</td>\n",
       "      <td>19</td>\n",
       "      <td>2.9</td>\n",
       "      <td>Action</td>\n",
       "      <td>Yes</td>\n",
       "    </tr>\n",
       "    <tr>\n",
       "      <th>48</th>\n",
       "      <td>F</td>\n",
       "      <td>52000</td>\n",
       "      <td>47</td>\n",
       "      <td>14</td>\n",
       "      <td>1.6</td>\n",
       "      <td>Drama</td>\n",
       "      <td>No</td>\n",
       "    </tr>\n",
       "    <tr>\n",
       "      <th>2</th>\n",
       "      <td>F</td>\n",
       "      <td>54000</td>\n",
       "      <td>33</td>\n",
       "      <td>12</td>\n",
       "      <td>3.4</td>\n",
       "      <td>Drama</td>\n",
       "      <td>No</td>\n",
       "    </tr>\n",
       "    <tr>\n",
       "      <th>38</th>\n",
       "      <td>M</td>\n",
       "      <td>41000</td>\n",
       "      <td>38</td>\n",
       "      <td>20</td>\n",
       "      <td>3.3</td>\n",
       "      <td>Drama</td>\n",
       "      <td>Yes</td>\n",
       "    </tr>\n",
       "    <tr>\n",
       "      <th>46</th>\n",
       "      <td>F</td>\n",
       "      <td>57000</td>\n",
       "      <td>43</td>\n",
       "      <td>9</td>\n",
       "      <td>1.1</td>\n",
       "      <td>Drama</td>\n",
       "      <td>No</td>\n",
       "    </tr>\n",
       "  </tbody>\n",
       "</table>\n",
       "</div>"
      ],
      "text/plain": [
       "        Gender  Income  Age  Rentals  Avg Per Visit   Genre Incidentals\n",
       "Cust ID                                                                \n",
       "17           M   36000   35       28            3.5   Drama         Yes\n",
       "18           F    6000   16       39            1.8  Action         Yes\n",
       "21           F   47000   52       11            3.1   Drama          No\n",
       "35           M   74000   29       43            4.6  Action         Yes\n",
       "8            M   74000   25       31            2.4  Action         Yes\n",
       "34           F   29000   32       19            2.9  Action         Yes\n",
       "48           F   52000   47       14            1.6   Drama          No\n",
       "2            F   54000   33       12            3.4   Drama          No\n",
       "38           M   41000   38       20            3.3   Drama         Yes\n",
       "46           F   57000   43        9            1.1   Drama          No"
      ]
     },
     "execution_count": 3,
     "metadata": {},
     "output_type": "execute_result"
    }
   ],
   "source": [
    "# Randomly permute the index\n",
    "random.seed(37)\n",
    "vs = vstable.reindex(np.random.permutation(vstable.index))\n",
    "vs.head(10)"
   ]
  },
  {
   "cell_type": "code",
   "execution_count": 4,
   "metadata": {},
   "outputs": [
    {
     "data": {
      "text/plain": [
       "Cust ID\n",
       "17    Yes\n",
       "18    Yes\n",
       "21     No\n",
       "35    Yes\n",
       "8     Yes\n",
       "Name: Incidentals, dtype: object"
      ]
     },
     "execution_count": 4,
     "metadata": {},
     "output_type": "execute_result"
    }
   ],
   "source": [
    "# Extract the target variable\n",
    "vs_target = vs['Incidentals']\n",
    "vs_target.head(5)"
   ]
  },
  {
   "cell_type": "code",
   "execution_count": 5,
   "metadata": {
    "tags": []
   },
   "outputs": [
    {
     "data": {
      "text/html": [
       "<div>\n",
       "<style scoped>\n",
       "    .dataframe tbody tr th:only-of-type {\n",
       "        vertical-align: middle;\n",
       "    }\n",
       "\n",
       "    .dataframe tbody tr th {\n",
       "        vertical-align: top;\n",
       "    }\n",
       "\n",
       "    .dataframe thead th {\n",
       "        text-align: right;\n",
       "    }\n",
       "</style>\n",
       "<table border=\"1\" class=\"dataframe\">\n",
       "  <thead>\n",
       "    <tr style=\"text-align: right;\">\n",
       "      <th></th>\n",
       "      <th>Income</th>\n",
       "      <th>Age</th>\n",
       "      <th>Rentals</th>\n",
       "      <th>Avg Per Visit</th>\n",
       "      <th>Gender_F</th>\n",
       "      <th>Gender_M</th>\n",
       "      <th>Genre_Action</th>\n",
       "      <th>Genre_Comedy</th>\n",
       "      <th>Genre_Drama</th>\n",
       "    </tr>\n",
       "    <tr>\n",
       "      <th>Cust ID</th>\n",
       "      <th></th>\n",
       "      <th></th>\n",
       "      <th></th>\n",
       "      <th></th>\n",
       "      <th></th>\n",
       "      <th></th>\n",
       "      <th></th>\n",
       "      <th></th>\n",
       "      <th></th>\n",
       "    </tr>\n",
       "  </thead>\n",
       "  <tbody>\n",
       "    <tr>\n",
       "      <th>17</th>\n",
       "      <td>36000</td>\n",
       "      <td>35</td>\n",
       "      <td>28</td>\n",
       "      <td>3.5</td>\n",
       "      <td>0</td>\n",
       "      <td>1</td>\n",
       "      <td>0</td>\n",
       "      <td>0</td>\n",
       "      <td>1</td>\n",
       "    </tr>\n",
       "    <tr>\n",
       "      <th>18</th>\n",
       "      <td>6000</td>\n",
       "      <td>16</td>\n",
       "      <td>39</td>\n",
       "      <td>1.8</td>\n",
       "      <td>1</td>\n",
       "      <td>0</td>\n",
       "      <td>1</td>\n",
       "      <td>0</td>\n",
       "      <td>0</td>\n",
       "    </tr>\n",
       "    <tr>\n",
       "      <th>21</th>\n",
       "      <td>47000</td>\n",
       "      <td>52</td>\n",
       "      <td>11</td>\n",
       "      <td>3.1</td>\n",
       "      <td>1</td>\n",
       "      <td>0</td>\n",
       "      <td>0</td>\n",
       "      <td>0</td>\n",
       "      <td>1</td>\n",
       "    </tr>\n",
       "    <tr>\n",
       "      <th>35</th>\n",
       "      <td>74000</td>\n",
       "      <td>29</td>\n",
       "      <td>43</td>\n",
       "      <td>4.6</td>\n",
       "      <td>0</td>\n",
       "      <td>1</td>\n",
       "      <td>1</td>\n",
       "      <td>0</td>\n",
       "      <td>0</td>\n",
       "    </tr>\n",
       "    <tr>\n",
       "      <th>8</th>\n",
       "      <td>74000</td>\n",
       "      <td>25</td>\n",
       "      <td>31</td>\n",
       "      <td>2.4</td>\n",
       "      <td>0</td>\n",
       "      <td>1</td>\n",
       "      <td>1</td>\n",
       "      <td>0</td>\n",
       "      <td>0</td>\n",
       "    </tr>\n",
       "    <tr>\n",
       "      <th>34</th>\n",
       "      <td>29000</td>\n",
       "      <td>32</td>\n",
       "      <td>19</td>\n",
       "      <td>2.9</td>\n",
       "      <td>1</td>\n",
       "      <td>0</td>\n",
       "      <td>1</td>\n",
       "      <td>0</td>\n",
       "      <td>0</td>\n",
       "    </tr>\n",
       "    <tr>\n",
       "      <th>48</th>\n",
       "      <td>52000</td>\n",
       "      <td>47</td>\n",
       "      <td>14</td>\n",
       "      <td>1.6</td>\n",
       "      <td>1</td>\n",
       "      <td>0</td>\n",
       "      <td>0</td>\n",
       "      <td>0</td>\n",
       "      <td>1</td>\n",
       "    </tr>\n",
       "    <tr>\n",
       "      <th>2</th>\n",
       "      <td>54000</td>\n",
       "      <td>33</td>\n",
       "      <td>12</td>\n",
       "      <td>3.4</td>\n",
       "      <td>1</td>\n",
       "      <td>0</td>\n",
       "      <td>0</td>\n",
       "      <td>0</td>\n",
       "      <td>1</td>\n",
       "    </tr>\n",
       "    <tr>\n",
       "      <th>38</th>\n",
       "      <td>41000</td>\n",
       "      <td>38</td>\n",
       "      <td>20</td>\n",
       "      <td>3.3</td>\n",
       "      <td>0</td>\n",
       "      <td>1</td>\n",
       "      <td>0</td>\n",
       "      <td>0</td>\n",
       "      <td>1</td>\n",
       "    </tr>\n",
       "    <tr>\n",
       "      <th>46</th>\n",
       "      <td>57000</td>\n",
       "      <td>43</td>\n",
       "      <td>9</td>\n",
       "      <td>1.1</td>\n",
       "      <td>1</td>\n",
       "      <td>0</td>\n",
       "      <td>0</td>\n",
       "      <td>0</td>\n",
       "      <td>1</td>\n",
       "    </tr>\n",
       "  </tbody>\n",
       "</table>\n",
       "</div>"
      ],
      "text/plain": [
       "         Income  Age  Rentals  Avg Per Visit  Gender_F  Gender_M  \\\n",
       "Cust ID                                                            \n",
       "17        36000   35       28            3.5         0         1   \n",
       "18         6000   16       39            1.8         1         0   \n",
       "21        47000   52       11            3.1         1         0   \n",
       "35        74000   29       43            4.6         0         1   \n",
       "8         74000   25       31            2.4         0         1   \n",
       "34        29000   32       19            2.9         1         0   \n",
       "48        52000   47       14            1.6         1         0   \n",
       "2         54000   33       12            3.4         1         0   \n",
       "38        41000   38       20            3.3         0         1   \n",
       "46        57000   43        9            1.1         1         0   \n",
       "\n",
       "         Genre_Action  Genre_Comedy  Genre_Drama  \n",
       "Cust ID                                           \n",
       "17                  0             0            1  \n",
       "18                  1             0            0  \n",
       "21                  0             0            1  \n",
       "35                  1             0            0  \n",
       "8                   1             0            0  \n",
       "34                  1             0            0  \n",
       "48                  0             0            1  \n",
       "2                   0             0            1  \n",
       "38                  0             0            1  \n",
       "46                  0             0            1  "
      ]
     },
     "execution_count": 5,
     "metadata": {},
     "output_type": "execute_result"
    }
   ],
   "source": [
    "# Create dummy variables\n",
    "vs = pd.get_dummies(vs[['Gender','Income','Age','Rentals','Avg Per Visit','Genre']], dtype = 'int')\n",
    "vs.head(10)"
   ]
  },
  {
   "cell_type": "code",
   "execution_count": 6,
   "metadata": {
    "tags": []
   },
   "outputs": [
    {
     "name": "stdout",
     "output_type": "stream",
     "text": [
      "Train Set:\n",
      "         Income  Age  Rentals  Avg Per Visit  Gender_F  Gender_M  \\\n",
      "Cust ID                                                            \n",
      "17        36000   35       28            3.5         0         1   \n",
      "18         6000   16       39            1.8         1         0   \n",
      "21        47000   52       11            3.1         1         0   \n",
      "35        74000   29       43            4.6         0         1   \n",
      "8         74000   25       31            2.4         0         1   \n",
      "\n",
      "         Genre_Action  Genre_Comedy  Genre_Drama  \n",
      "Cust ID                                           \n",
      "17                  0             0            1  \n",
      "18                  1             0            0  \n",
      "21                  0             0            1  \n",
      "35                  1             0            0  \n",
      "8                   1             0            0  \n",
      "\n",
      "\n",
      "Test Set:\n",
      "         Income  Age  Rentals  Avg Per Visit  Gender_F  Gender_M  \\\n",
      "Cust ID                                                            \n",
      "10        65000   40       21            3.3         1         0   \n",
      "11        41000   22       48            2.3         1         0   \n",
      "27        62000   47       32            3.6         1         0   \n",
      "20        12000   16       23            2.2         0         1   \n",
      "12        26000   22       32            2.9         1         0   \n",
      "\n",
      "         Genre_Action  Genre_Comedy  Genre_Drama  \n",
      "Cust ID                                           \n",
      "10                  0             0            1  \n",
      "11                  0             0            1  \n",
      "27                  0             0            1  \n",
      "20                  1             0            0  \n",
      "12                  1             0            0  \n"
     ]
    }
   ],
   "source": [
    "# Split the DataFrame into training and testing sets\n",
    "size = int(0.8 * len(vs))\n",
    "vs_train = vs[:size]\n",
    "vs_test = vs[size:]\n",
    "print(\"Train Set:\")\n",
    "print(vs_train.head(5))\n",
    "print(\"\\n\")\n",
    "print(\"Test Set:\")\n",
    "print(vs_test.head(5))"
   ]
  },
  {
   "cell_type": "code",
   "execution_count": 7,
   "metadata": {
    "tags": []
   },
   "outputs": [
    {
     "name": "stdout",
     "output_type": "stream",
     "text": [
      "Train Target:\n",
      "Cust ID\n",
      "17    Yes\n",
      "18    Yes\n",
      "21     No\n",
      "35    Yes\n",
      "8     Yes\n",
      "Name: Incidentals, dtype: object\n",
      "\n",
      "\n",
      "Test Target:\n",
      "Cust ID\n",
      "10     No\n",
      "11    Yes\n",
      "27     No\n",
      "20    Yes\n",
      "12    Yes\n",
      "Name: Incidentals, dtype: object\n"
     ]
    }
   ],
   "source": [
    "# Split the target variable into training and testing sets\n",
    "vs_target_train = vs_target[0:int(size)]\n",
    "vs_target_test = vs_target[int(size):len(vs)]\n",
    "print(\"Train Target:\")\n",
    "print(vs_target_train.head(5))\n",
    "print(\"\\n\")\n",
    "print(\"Test Target:\")\n",
    "print(vs_target_test.head(5))"
   ]
  },
  {
   "cell_type": "code",
   "execution_count": 8,
   "metadata": {
    "tags": []
   },
   "outputs": [
    {
     "name": "stdout",
     "output_type": "stream",
     "text": [
      "Normalized Train Data:\n",
      "[[0.39772727 0.36363636 0.48717949 0.66666667 0.         1.\n",
      "  0.         0.         1.        ]\n",
      " [0.05681818 0.01818182 0.76923077 0.19444444 1.         0.\n",
      "  1.         0.         0.        ]\n",
      " [0.52272727 0.67272727 0.05128205 0.55555556 1.         0.\n",
      "  0.         0.         1.        ]\n",
      " [0.82954545 0.25454545 0.87179487 0.97222222 0.         1.\n",
      "  1.         0.         0.        ]\n",
      " [0.82954545 0.18181818 0.56410256 0.36111111 0.         1.\n",
      "  1.         0.         0.        ]]\n",
      "\n",
      "\n",
      "Normalized Test Data:\n",
      "[[0.72727273 0.45454545 0.30769231 0.61111111 1.         0.\n",
      "  0.         0.         1.        ]\n",
      " [0.45454545 0.12727273 1.         0.33333333 1.         0.\n",
      "  0.         0.         1.        ]\n",
      " [0.69318182 0.58181818 0.58974359 0.69444444 1.         0.\n",
      "  0.         0.         1.        ]\n",
      " [0.125      0.01818182 0.35897436 0.30555556 0.         1.\n",
      "  1.         0.         0.        ]\n",
      " [0.28409091 0.12727273 0.58974359 0.5        1.         0.\n",
      "  1.         0.         0.        ]]\n"
     ]
    }
   ],
   "source": [
    "# Normalization\n",
    "min_max_scaler = preprocessing.MinMaxScaler()\n",
    "min_max_scaler.fit(vs_train) # Fit the scaler to the training data\n",
    "vs_train_norm = min_max_scaler.transform(vs_train) # Transform training data with the scaler\n",
    "vs_test_norm = min_max_scaler.transform(vs_test) # Transform test data with the scaler\n",
    "print(\"Normalized Train Data:\")\n",
    "print(vs_train_norm[:5])\n",
    "print(\"\\n\")\n",
    "print(\"Normalized Test Data:\")\n",
    "print(vs_test_norm[:5])"
   ]
  },
  {
   "cell_type": "code",
   "execution_count": 9,
   "metadata": {
    "tags": []
   },
   "outputs": [
    {
     "name": "stdout",
     "output_type": "stream",
     "text": [
      "Train Target:\n",
      "['Yes' 'Yes' 'No' 'Yes' 'Yes' 'Yes' 'No' 'No' 'Yes' 'No' 'Yes' 'No' 'Yes'\n",
      " 'Yes' 'No' 'Yes' 'Yes' 'No' 'Yes' 'No' 'Yes' 'No' 'No' 'No' 'No' 'No'\n",
      " 'No' 'No' 'No' 'Yes' 'No' 'Yes' 'No' 'No' 'Yes' 'No' 'Yes' 'Yes' 'No'\n",
      " 'Yes']\n",
      "\n",
      "\n",
      "Test Target:\n",
      "['No' 'Yes' 'No' 'Yes' 'Yes' 'Yes' 'Yes' 'No' 'Yes' 'Yes']\n"
     ]
    }
   ],
   "source": [
    "# Convert to NumPy arrays\n",
    "vs_target_train = np.array(vs_target_train)\n",
    "vs_target_test = np.array(vs_target_test)\n",
    "print(\"Train Target:\")\n",
    "print(vs_target_train)\n",
    "print(\"\\n\")\n",
    "print(\"Test Target:\")\n",
    "print(vs_target_test)"
   ]
  },
  {
   "cell_type": "code",
   "execution_count": 10,
   "metadata": {},
   "outputs": [],
   "source": [
    "def knn_search(x, D, K, measure):\n",
    "\n",
    "    \"\"\"\n",
    "    Find K nearest neighbors of an instance x among the instances in D.\n",
    "     \n",
    "    Parameters:\n",
    "    x : array-like\n",
    "        The instance for which one wants to find neighbors.\n",
    "    D : array-like\n",
    "        The dataset containing instances to search through.\n",
    "    K : int\n",
    "        The number of nearest neighbors to return.\n",
    "    measure : int\n",
    "        Distance measure to use (0 for Euclidean Distance, 1 for Cosine Similarity).\n",
    "          \n",
    "    Returns:\n",
    "    tuple:\n",
    "        A tuple containing the indices of the K nearest neighbors and their distances.         \n",
    "    \"\"\"\n",
    "    \n",
    "    if measure == 0: \n",
    "        dists = np.sqrt(((D - x) ** 2).sum(axis = 1)) # Calculate Euclidean Distances\n",
    "\n",
    "    elif measure == 1: \n",
    "        D_norm = np.array([np.linalg.norm(D[i]) for i in range(len(D))]) # Compute the norms of each instance in D\n",
    "        x_norm = np.linalg.norm(x) # Compute the norm of the instance x\n",
    "        sims = np.dot(D, x) / (D_norm * x_norm) # Calculate Cosine Similarity\n",
    "        dists = 1 - sims # Convert cosine similarity to distance\n",
    "    \n",
    "    # Get the indices of the sorted distances\n",
    "    idx = np.argsort(dists)\n",
    "\n",
    "    return idx[:K], dists"
   ]
  },
  {
   "cell_type": "code",
   "execution_count": 11,
   "metadata": {},
   "outputs": [
    {
     "name": "stdout",
     "output_type": "stream",
     "text": [
      "\n",
      "\n",
      "[18  7  2 27  6]\n"
     ]
    },
    {
     "data": {
      "text/html": [
       "<div>\n",
       "<style scoped>\n",
       "    .dataframe tbody tr th:only-of-type {\n",
       "        vertical-align: middle;\n",
       "    }\n",
       "\n",
       "    .dataframe tbody tr th {\n",
       "        vertical-align: top;\n",
       "    }\n",
       "\n",
       "    .dataframe thead th {\n",
       "        text-align: right;\n",
       "    }\n",
       "</style>\n",
       "<table border=\"1\" class=\"dataframe\">\n",
       "  <thead>\n",
       "    <tr style=\"text-align: right;\">\n",
       "      <th></th>\n",
       "      <th>Income</th>\n",
       "      <th>Age</th>\n",
       "      <th>Rentals</th>\n",
       "      <th>Avg Per Visit</th>\n",
       "      <th>Gender_F</th>\n",
       "      <th>Gender_M</th>\n",
       "      <th>Genre_Action</th>\n",
       "      <th>Genre_Comedy</th>\n",
       "      <th>Genre_Drama</th>\n",
       "    </tr>\n",
       "    <tr>\n",
       "      <th>Cust ID</th>\n",
       "      <th></th>\n",
       "      <th></th>\n",
       "      <th></th>\n",
       "      <th></th>\n",
       "      <th></th>\n",
       "      <th></th>\n",
       "      <th></th>\n",
       "      <th></th>\n",
       "      <th></th>\n",
       "    </tr>\n",
       "  </thead>\n",
       "  <tbody>\n",
       "    <tr>\n",
       "      <th>47</th>\n",
       "      <td>69000</td>\n",
       "      <td>35</td>\n",
       "      <td>22</td>\n",
       "      <td>2.8</td>\n",
       "      <td>1</td>\n",
       "      <td>0</td>\n",
       "      <td>0</td>\n",
       "      <td>0</td>\n",
       "      <td>1</td>\n",
       "    </tr>\n",
       "    <tr>\n",
       "      <th>2</th>\n",
       "      <td>54000</td>\n",
       "      <td>33</td>\n",
       "      <td>12</td>\n",
       "      <td>3.4</td>\n",
       "      <td>1</td>\n",
       "      <td>0</td>\n",
       "      <td>0</td>\n",
       "      <td>0</td>\n",
       "      <td>1</td>\n",
       "    </tr>\n",
       "    <tr>\n",
       "      <th>21</th>\n",
       "      <td>47000</td>\n",
       "      <td>52</td>\n",
       "      <td>11</td>\n",
       "      <td>3.1</td>\n",
       "      <td>1</td>\n",
       "      <td>0</td>\n",
       "      <td>0</td>\n",
       "      <td>0</td>\n",
       "      <td>1</td>\n",
       "    </tr>\n",
       "    <tr>\n",
       "      <th>7</th>\n",
       "      <td>29000</td>\n",
       "      <td>45</td>\n",
       "      <td>19</td>\n",
       "      <td>3.8</td>\n",
       "      <td>1</td>\n",
       "      <td>0</td>\n",
       "      <td>0</td>\n",
       "      <td>0</td>\n",
       "      <td>1</td>\n",
       "    </tr>\n",
       "    <tr>\n",
       "      <th>48</th>\n",
       "      <td>52000</td>\n",
       "      <td>47</td>\n",
       "      <td>14</td>\n",
       "      <td>1.6</td>\n",
       "      <td>1</td>\n",
       "      <td>0</td>\n",
       "      <td>0</td>\n",
       "      <td>0</td>\n",
       "      <td>1</td>\n",
       "    </tr>\n",
       "  </tbody>\n",
       "</table>\n",
       "</div>"
      ],
      "text/plain": [
       "         Income  Age  Rentals  Avg Per Visit  Gender_F  Gender_M  \\\n",
       "Cust ID                                                            \n",
       "47        69000   35       22            2.8         1         0   \n",
       "2         54000   33       12            3.4         1         0   \n",
       "21        47000   52       11            3.1         1         0   \n",
       "7         29000   45       19            3.8         1         0   \n",
       "48        52000   47       14            1.6         1         0   \n",
       "\n",
       "         Genre_Action  Genre_Comedy  Genre_Drama  \n",
       "Cust ID                                           \n",
       "47                  0             0            1  \n",
       "2                   0             0            1  \n",
       "21                  0             0            1  \n",
       "7                   0             0            1  \n",
       "48                  0             0            1  "
      ]
     },
     "execution_count": 11,
     "metadata": {},
     "output_type": "execute_result"
    }
   ],
   "source": [
    "# Finding the k = 5 nearest neighbors using Euclidean Distance\n",
    "neigh_idx, distances = knn_search(vs_test_norm[0], vs_train_norm, 5, 0)\n",
    "print(\"\\n\")\n",
    "print(neigh_idx)\n",
    "vs_train.iloc[neigh_idx]"
   ]
  },
  {
   "cell_type": "code",
   "execution_count": 12,
   "metadata": {
    "tags": []
   },
   "outputs": [
    {
     "name": "stdout",
     "output_type": "stream",
     "text": [
      "[0.17400622 0.29300067 0.39783764 0.4444545  0.54150824]\n",
      "\n",
      "\n",
      "['Yes' 'No' 'No' 'No' 'No']\n",
      "\n",
      "\n",
      "Counter({'No': 4, 'Yes': 1})\n",
      "\n",
      "\n",
      "[('No', 4)]\n"
     ]
    }
   ],
   "source": [
    "print(distances[neigh_idx]) # Display the distances of the K nearest neighbors\n",
    "print(\"\\n\")\n",
    "neigh_labels = vs_target_train[neigh_idx] # Extract the labels of the nearest neighbors\n",
    "print(neigh_labels)\n",
    "print(\"\\n\")\n",
    "print(Counter(neigh_labels)) # Display the count of each label\n",
    "print(\"\\n\")\n",
    "print(Counter(neigh_labels).most_common(1)) # Print the most common label and its occurrence"
   ]
  },
  {
   "cell_type": "code",
   "execution_count": 13,
   "metadata": {
    "tags": []
   },
   "outputs": [],
   "source": [
    "def knn_classify(x, D, K, labels, measure):\n",
    "    \n",
    "    neigh_idx, distances = knn_search(x, D, K, measure) # Find the indices and distances of the K nearest neighbors\n",
    "    neigh_labels = labels[neigh_idx] # Get the labels of the nearest neighbors\n",
    "    count = Counter(neigh_labels) # Count occurrences of each label among the neighbors\n",
    "    \n",
    "    print(\"Labels for top\", K, \"neighbors:\", count.most_common())\n",
    "    \n",
    "    return count.most_common(1)[0][0]"
   ]
  },
  {
   "cell_type": "code",
   "execution_count": 14,
   "metadata": {
    "tags": []
   },
   "outputs": [
    {
     "name": "stdout",
     "output_type": "stream",
     "text": [
      "Labels for top 5 neighbors: [('No', 4), ('Yes', 1)]\n",
      "Predicted Label: No ==> Actual Label: No\n",
      "\n",
      "Labels for top 5 neighbors: [('No', 3), ('Yes', 2)]\n",
      "Predicted Label: No ==> Actual Label: Yes\n",
      "\n",
      "Labels for top 5 neighbors: [('No', 3), ('Yes', 2)]\n",
      "Predicted Label: No ==> Actual Label: No\n",
      "\n",
      "Labels for top 5 neighbors: [('No', 3), ('Yes', 2)]\n",
      "Predicted Label: No ==> Actual Label: Yes\n",
      "\n",
      "Labels for top 5 neighbors: [('Yes', 4), ('No', 1)]\n",
      "Predicted Label: Yes ==> Actual Label: Yes\n",
      "\n",
      "Labels for top 5 neighbors: [('Yes', 3), ('No', 2)]\n",
      "Predicted Label: Yes ==> Actual Label: Yes\n",
      "\n",
      "Labels for top 5 neighbors: [('No', 3), ('Yes', 2)]\n",
      "Predicted Label: No ==> Actual Label: Yes\n",
      "\n",
      "Labels for top 5 neighbors: [('No', 5)]\n",
      "Predicted Label: No ==> Actual Label: No\n",
      "\n",
      "Labels for top 5 neighbors: [('No', 4), ('Yes', 1)]\n",
      "Predicted Label: No ==> Actual Label: Yes\n",
      "\n",
      "Labels for top 5 neighbors: [('Yes', 4), ('No', 1)]\n",
      "Predicted Label: Yes ==> Actual Label: Yes\n",
      "\n",
      "Classification Accuracy: 0.6\n"
     ]
    }
   ],
   "source": [
    "errorCount = 0.0\n",
    "number_of_test_vectors = len(vs_target_test)\n",
    "\n",
    "for i in range(number_of_test_vectors):\n",
    "    classifier_result = knn_classify(vs_test_norm[i, :], vs_train_norm, 5, vs_target_train, 0)\n",
    "    print(\"Predicted Label:\", classifier_result, \"==> Actual Label:\", vs_target_test[i])\n",
    "    print()\n",
    "\n",
    "    if (classifier_result != vs_target_test[i]):\n",
    "          errorCount += 1.0\n",
    "        \n",
    "print(\"Classification Accuracy:\", 1 - (errorCount / float(number_of_test_vectors)))"
   ]
  },
  {
   "cell_type": "code",
   "execution_count": 15,
   "metadata": {
    "tags": []
   },
   "outputs": [],
   "source": [
    "def knn_classify(x, D, K, labels, measure):\n",
    "\n",
    "    neigh_idx, distances = knn_search(x, D, K, measure) # Find the indices and distances of the K nearest neighbors\n",
    "    neigh_labels = labels[neigh_idx] # Get the labels of the nearest neighbors\n",
    "    count = Counter(neigh_labels) # Count occurrences of each label among the neighbors\n",
    "    predicted_label = count.most_common(1)[0][0] # Get the most common label\n",
    "\n",
    "    return neigh_idx, predicted_label"
   ]
  },
  {
   "cell_type": "code",
   "execution_count": 16,
   "metadata": {
    "tags": []
   },
   "outputs": [],
   "source": [
    "def knn_evaluate(test, test_labs, train, train_labs, K, measure):\n",
    "    \n",
    "    \"\"\"\n",
    "    Evaluate the KNN classifier on a given test dataset.\n",
    "     \n",
    "    Parameters:\n",
    "    test : array-like\n",
    "        The test dataset to evaluate.\n",
    "    test_labs : array-like\n",
    "        The actual labels for the test dataset.\n",
    "    train : array-like\n",
    "        The training dataset used for classification.\n",
    "    train_labs : array-like\n",
    "        The labels for the training dataset.\n",
    "    K : int\n",
    "        The number of nearest neighbors to return.\n",
    "    measure : int\n",
    "        Distance measure to use (0 for Euclidean Distance, 1 for Cosine Similarity).\n",
    "\n",
    "          \n",
    "    Returns:\n",
    "    float:\n",
    "        The classification accuracy.         \n",
    "    \"\"\"\n",
    "\n",
    "    T = 0  # Number of correctly classified instances\n",
    "    F = 0  # Number of incorrectly classified instances\n",
    "\n",
    "    for i in range(len(test)):\n",
    "        actual = test_labs[i] # Get the actual label for the current test instance\n",
    "        top_K_neighbors, predicted = knn_classify(test[i], train, K, train_labs, measure) # Classify using KNN\n",
    "        \n",
    "        # Check if the predicted label matches the actual label\n",
    "        if actual == predicted:\n",
    "            T += 1       \n",
    "        else:\n",
    "            F += 1\n",
    "    # Calculate accuracy \n",
    "    accuracy = float(T) / float(T + F) \n",
    "\n",
    "    return accuracy"
   ]
  },
  {
   "cell_type": "code",
   "execution_count": 17,
   "metadata": {
    "tags": []
   },
   "outputs": [
    {
     "name": "stdout",
     "output_type": "stream",
     "text": [
      "Classification Accuracy: 0.6\n"
     ]
    }
   ],
   "source": [
    "# Evaluate the KNN classifier and calculate accuracy on the training and testing dataset\n",
    "accuracy = knn_evaluate(vs_test_norm, vs_target_test, vs_train_norm, vs_target_train, 5, 0) # With Euclidean Distance\n",
    "print(\"Classification Accuracy:\", accuracy)"
   ]
  },
  {
   "cell_type": "code",
   "execution_count": 18,
   "metadata": {
    "tags": []
   },
   "outputs": [
    {
     "name": "stdout",
     "output_type": "stream",
     "text": [
      "Classification Accuracy (Train): 0.775\n"
     ]
    }
   ],
   "source": [
    "# Evaluate the KNN classifier and calculate accuracy on the training dataset\n",
    "accuracy = knn_evaluate(vs_train_norm, vs_target_train, vs_train_norm, vs_target_train, 5, 0) # With Euclidean Distance\n",
    "print(\"Classification Accuracy (Train):\", accuracy)"
   ]
  },
  {
   "cell_type": "code",
   "execution_count": 19,
   "metadata": {
    "tags": []
   },
   "outputs": [
    {
     "name": "stdout",
     "output_type": "stream",
     "text": [
      "Classification Accuracy: 0.5\n"
     ]
    }
   ],
   "source": [
    "# Evaluate the KNN classifier and calculate accuracy on the training and testing dataset\n",
    "accuracy = knn_evaluate(vs_test_norm, vs_target_test, vs_train_norm, vs_target_train, 5, 1) # With Cosine Similarity\n",
    "print(\"Classification Accuracy:\", accuracy)"
   ]
  },
  {
   "cell_type": "code",
   "execution_count": 20,
   "metadata": {
    "tags": []
   },
   "outputs": [
    {
     "name": "stdout",
     "output_type": "stream",
     "text": [
      "[0.7, 0.7, 0.5, 0.6, 0.6, 0.6, 0.7, 0.7, 0.7, 0.7, 0.8, 0.7, 0.8, 0.7, 0.7, 0.7, 0.7, 0.7, 0.7, 0.7, 0.7, 0.8, 0.6, 0.6, 0.6, 0.6, 0.5, 0.5, 0.5, 0.5, 0.6, 0.7, 0.7, 0.6, 0.5, 0.5, 0.5, 0.5, 0.3]\n"
     ]
    }
   ],
   "source": [
    "Euclid = []\n",
    "\n",
    "# Evaluate the KNN classifier for K values ranging from 1 to 39\n",
    "for K in range(1, 40):\n",
    "    Euclid.append(knn_evaluate(vs_test_norm, vs_target_test, vs_train_norm, vs_target_train, K, 0))\n",
    "\n",
    "print(Euclid)"
   ]
  },
  {
   "cell_type": "code",
   "execution_count": 21,
   "metadata": {
    "scrolled": true,
    "tags": []
   },
   "outputs": [
    {
     "data": {
      "image/png": "[encoded data removed]",
      "text/plain": [
       "<Figure size 1000x500 with 1 Axes>"
      ]
     },
     "metadata": {},
     "output_type": "display_data"
    }
   ],
   "source": [
    "# Plot the accuracy against K values\n",
    "Ks = list(range(1, 40))\n",
    "plt.figure(figsize = (10,5))\n",
    "plt.plot(Ks, Euclid, 'r^--', label = 'Euclidean Distance')\n",
    "plt.xlabel('K')\n",
    "plt.ylabel('Accuracy')\n",
    "plt.title('Knn classifier Accuracy')\n",
    "plt.grid(linestyle = '--')\n",
    "plt.xticks(Ks)\n",
    "plt.legend(loc = 'center left', bbox_to_anchor = (1, 0.5))\n",
    "plt.show()"
   ]
  },
  {
   "cell_type": "code",
   "execution_count": null,
   "metadata": {},
   "outputs": [],
   "source": []
  }
 ],
 "metadata": {
  "kernelspec": {
   "display_name": "Python 3 (ipykernel)",
   "language": "python",
   "name": "python3"
  },
  "language_info": {
   "codemirror_mode": {
    "name": "ipython",
    "version": 3
   },
   "file_extension": ".py",
   "mimetype": "text/x-python",
   "name": "python",
   "nbconvert_exporter": "python",
   "pygments_lexer": "ipython3",
   "version": "3.9.11"
  }
 },
 "nbformat": 4,
 "nbformat_minor": 4
}
