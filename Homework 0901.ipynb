{
 "cells": [
  {
   "cell_type": "markdown",
   "metadata": {},
   "source": [
    "## Homework 4"
   ]
  },
  {
   "cell_type": "markdown",
   "metadata": {},
   "source": [
    "### Jaewon Son / 2163284"
   ]
  },
  {
   "cell_type": "markdown",
   "metadata": {},
   "source": [
    "---"
   ]
  },
  {
   "cell_type": "markdown",
   "metadata": {},
   "source": [
    "#### **Q1. PCA for Reduced Dimensionality in Clustering**"
   ]
  },
  {
   "cell_type": "code",
   "execution_count": 1,
   "metadata": {},
   "outputs": [],
   "source": [
    "# Import libraries\n",
    "import pandas as pd\n",
    "import numpy as np\n",
    "import matplotlib.pyplot as plt\n",
    "import matplotlib.cm as cm\n",
    "import warnings\n",
    "\n",
    "from sklearn import metrics\n",
    "from sklearn.cluster import KMeans \n",
    "from sklearn.metrics import silhouette_score, completeness_score, homogeneity_score\n",
    "from sklearn.preprocessing import MinMaxScaler\n",
    "from sklearn.decomposition import PCA\n",
    "\n",
    "warnings.filterwarnings(\"ignore\")"
   ]
  },
  {
   "cell_type": "markdown",
   "metadata": {},
   "source": [
    "---"
   ]
  },
  {
   "cell_type": "markdown",
   "metadata": {},
   "source": [
    "##### Q1.a\n",
    "1. Load in the image data matrix and the numeric class labels from the segmentation class file. \n",
    "2. Using your favorite method, perform min-max normalization on the data matrix."
   ]
  },
  {
   "cell_type": "code",
   "execution_count": 2,
   "metadata": {},
   "outputs": [
    {
     "name": "stdout",
     "output_type": "stream",
     "text": [
      "Shape of Data Dataframe: (2100, 19)\n",
      "Shape of Class Dataframe: (2100, 2)\n",
      "Shape of Name Dataframe: (19, 1)\n"
     ]
    }
   ],
   "source": [
    "# File paths\n",
    "file_path1 = \"C:\\\\Users\\\\wodnj\\\\OneDrive\\\\바탕 화면\\\\Programming Machine Learning Applications\\\\DSC 478 - Week 9\\\\Data File\\\\segmentation_data.txt\"\n",
    "file_path2 = \"C:\\\\Users\\\\wodnj\\\\OneDrive\\\\바탕 화면\\\\Programming Machine Learning Applications\\\\DSC 478 - Week 9\\\\Data File\\\\segmentation_classes.txt\"\n",
    "file_path3 = \"C:\\\\Users\\\\wodnj\\\\OneDrive\\\\바탕 화면\\\\Programming Machine Learning Applications\\\\DSC 478 - Week 9\\\\Data File\\\\segmentation_names.txt\"\n",
    "\n",
    "# Load the datasets\n",
    "data_df = pd.read_csv(file_path1, delimiter = \",\", header = None)\n",
    "class_df = pd.read_csv(file_path2, delimiter = r\"\\s+\", header = None, names = [\"Class Label\", \"Numeric Class Label\"])\n",
    "names_df = pd.read_csv(file_path3, header = None)\n",
    "\n",
    "print(\"Shape of Data Dataframe:\", data_df.shape)\n",
    "print(\"Shape of Class Dataframe:\", class_df.shape)\n",
    "print(\"Shape of Name Dataframe:\", names_df.shape)"
   ]
  },
  {
   "cell_type": "code",
   "execution_count": 3,
   "metadata": {},
   "outputs": [
    {
     "name": "stdout",
     "output_type": "stream",
     "text": [
      "         0         1    2    3    4         5         6         7         8   \\\n",
      "0  0.430830  0.741667  0.0  0.0  0.0  0.034221  0.000672  0.027329  0.000856   \n",
      "1  0.335968  0.733333  0.0  0.0  0.0  0.038023  0.000726  0.032298  0.000541   \n",
      "2  0.885375  0.970833  0.0  0.0  0.0  0.115970  0.002213  0.067081  0.001097   \n",
      "3  0.181818  0.920833  0.0  0.0  0.0  0.043726  0.001265  0.022360  0.000645   \n",
      "4  0.379447  0.729167  0.0  0.0  0.0  0.039924  0.000697  0.026087  0.000725   \n",
      "\n",
      "         9         10        11        12        13        14        15  \\\n",
      "0  0.090111  0.079417  0.061119  0.130943  0.731343  0.014118  0.872865   \n",
      "1  0.095791  0.085089  0.068483  0.134840  0.729478  0.023529  0.859583   \n",
      "2  0.085463  0.075365  0.061856  0.120031  0.736940  0.038824  0.827324   \n",
      "3  0.088562  0.080227  0.059647  0.127046  0.748134  0.014118  0.855787   \n",
      "4  0.108701  0.101297  0.078056  0.148090  0.748134  0.010588  0.861480   \n",
      "\n",
      "         16        17        18  \n",
      "0  0.123711  0.508139  0.831849  \n",
      "1  0.127393  0.463329  0.836986  \n",
      "2  0.113402  0.480149  0.844782  \n",
      "3  0.120029  0.500966  0.825889  \n",
      "4  0.139912  0.442661  0.823924  \n"
     ]
    }
   ],
   "source": [
    "# Perform min-max normalization\n",
    "scaler = MinMaxScaler()\n",
    "normalized_data_df = pd.DataFrame(scaler.fit_transform(data_df), columns = data_df.columns)\n",
    "print(normalized_data_df.head())"
   ]
  },
  {
   "cell_type": "markdown",
   "metadata": {},
   "source": [
    "---"
   ]
  },
  {
   "cell_type": "markdown",
   "metadata": {},
   "source": [
    "##### Q1.b\n",
    "1. Using the Kmeans implementation in scikit-learn, perform clustering on the image data.\n",
    "2. Print the cluster centroids.\n",
    "3. To evaluate the clusters, perform silhouette analysis on the clusters.\n",
    "4. Compare the 7 clusters to the 7 pre-assigned classes by computing the completeness and homogeneity values of the generated clusters."
   ]
  },
  {
   "cell_type": "code",
   "execution_count": 4,
   "metadata": {},
   "outputs": [
    {
     "name": "stderr",
     "output_type": "stream",
     "text": [
      "  File \"c:\\Users\\wodnj\\AppData\\Local\\Programs\\Python\\Python39\\lib\\site-packages\\joblib\\externals\\loky\\backend\\context.py\", line 282, in _count_physical_cores\n",
      "    raise ValueError(f\"found {cpu_count_physical} physical cores < 1\")\n"
     ]
    },
    {
     "data": {
      "text/html": [
       "<style>#sk-container-id-1 {\n",
       "  /* Definition of color scheme common for light and dark mode */\n",
       "  --sklearn-color-text: black;\n",
       "  --sklearn-color-line: gray;\n",
       "  /* Definition of color scheme for unfitted estimators */\n",
       "  --sklearn-color-unfitted-level-0: #fff5e6;\n",
       "  --sklearn-color-unfitted-level-1: #f6e4d2;\n",
       "  --sklearn-color-unfitted-level-2: #ffe0b3;\n",
       "  --sklearn-color-unfitted-level-3: chocolate;\n",
       "  /* Definition of color scheme for fitted estimators */\n",
       "  --sklearn-color-fitted-level-0: #f0f8ff;\n",
       "  --sklearn-color-fitted-level-1: #d4ebff;\n",
       "  --sklearn-color-fitted-level-2: #b3dbfd;\n",
       "  --sklearn-color-fitted-level-3: cornflowerblue;\n",
       "\n",
       "  /* Specific color for light theme */\n",
       "  --sklearn-color-text-on-default-background: var(--sg-text-color, var(--theme-code-foreground, var(--jp-content-font-color1, black)));\n",
       "  --sklearn-color-background: var(--sg-background-color, var(--theme-background, var(--jp-layout-color0, white)));\n",
       "  --sklearn-color-border-box: var(--sg-text-color, var(--theme-code-foreground, var(--jp-content-font-color1, black)));\n",
       "  --sklearn-color-icon: #696969;\n",
       "\n",
       "  @media (prefers-color-scheme: dark) {\n",
       "    /* Redefinition of color scheme for dark theme */\n",
       "    --sklearn-color-text-on-default-background: var(--sg-text-color, var(--theme-code-foreground, var(--jp-content-font-color1, white)));\n",
       "    --sklearn-color-background: var(--sg-background-color, var(--theme-background, var(--jp-layout-color0, #111)));\n",
       "    --sklearn-color-border-box: var(--sg-text-color, var(--theme-code-foreground, var(--jp-content-font-color1, white)));\n",
       "    --sklearn-color-icon: #878787;\n",
       "  }\n",
       "}\n",
       "\n",
       "#sk-container-id-1 {\n",
       "  color: var(--sklearn-color-text);\n",
       "}\n",
       "\n",
       "#sk-container-id-1 pre {\n",
       "  padding: 0;\n",
       "}\n",
       "\n",
       "#sk-container-id-1 input.sk-hidden--visually {\n",
       "  border: 0;\n",
       "  clip: rect(1px 1px 1px 1px);\n",
       "  clip: rect(1px, 1px, 1px, 1px);\n",
       "  height: 1px;\n",
       "  margin: -1px;\n",
       "  overflow: hidden;\n",
       "  padding: 0;\n",
       "  position: absolute;\n",
       "  width: 1px;\n",
       "}\n",
       "\n",
       "#sk-container-id-1 div.sk-dashed-wrapped {\n",
       "  border: 1px dashed var(--sklearn-color-line);\n",
       "  margin: 0 0.4em 0.5em 0.4em;\n",
       "  box-sizing: border-box;\n",
       "  padding-bottom: 0.4em;\n",
       "  background-color: var(--sklearn-color-background);\n",
       "}\n",
       "\n",
       "#sk-container-id-1 div.sk-container {\n",
       "  /* jupyter's `normalize.less` sets `[hidden] { display: none; }`\n",
       "     but bootstrap.min.css set `[hidden] { display: none !important; }`\n",
       "     so we also need the `!important` here to be able to override the\n",
       "     default hidden behavior on the sphinx rendered scikit-learn.org.\n",
       "     See: https://github.com/scikit-learn/scikit-learn/issues/21755 */\n",
       "  display: inline-block !important;\n",
       "  position: relative;\n",
       "}\n",
       "\n",
       "#sk-container-id-1 div.sk-text-repr-fallback {\n",
       "  display: none;\n",
       "}\n",
       "\n",
       "div.sk-parallel-item,\n",
       "div.sk-serial,\n",
       "div.sk-item {\n",
       "  /* draw centered vertical line to link estimators */\n",
       "  background-image: linear-gradient(var(--sklearn-color-text-on-default-background), var(--sklearn-color-text-on-default-background));\n",
       "  background-size: 2px 100%;\n",
       "  background-repeat: no-repeat;\n",
       "  background-position: center center;\n",
       "}\n",
       "\n",
       "/* Parallel-specific style estimator block */\n",
       "\n",
       "#sk-container-id-1 div.sk-parallel-item::after {\n",
       "  content: \"\";\n",
       "  width: 100%;\n",
       "  border-bottom: 2px solid var(--sklearn-color-text-on-default-background);\n",
       "  flex-grow: 1;\n",
       "}\n",
       "\n",
       "#sk-container-id-1 div.sk-parallel {\n",
       "  display: flex;\n",
       "  align-items: stretch;\n",
       "  justify-content: center;\n",
       "  background-color: var(--sklearn-color-background);\n",
       "  position: relative;\n",
       "}\n",
       "\n",
       "#sk-container-id-1 div.sk-parallel-item {\n",
       "  display: flex;\n",
       "  flex-direction: column;\n",
       "}\n",
       "\n",
       "#sk-container-id-1 div.sk-parallel-item:first-child::after {\n",
       "  align-self: flex-end;\n",
       "  width: 50%;\n",
       "}\n",
       "\n",
       "#sk-container-id-1 div.sk-parallel-item:last-child::after {\n",
       "  align-self: flex-start;\n",
       "  width: 50%;\n",
       "}\n",
       "\n",
       "#sk-container-id-1 div.sk-parallel-item:only-child::after {\n",
       "  width: 0;\n",
       "}\n",
       "\n",
       "/* Serial-specific style estimator block */\n",
       "\n",
       "#sk-container-id-1 div.sk-serial {\n",
       "  display: flex;\n",
       "  flex-direction: column;\n",
       "  align-items: center;\n",
       "  background-color: var(--sklearn-color-background);\n",
       "  padding-right: 1em;\n",
       "  padding-left: 1em;\n",
       "}\n",
       "\n",
       "\n",
       "/* Toggleable style: style used for estimator/Pipeline/ColumnTransformer box that is\n",
       "clickable and can be expanded/collapsed.\n",
       "- Pipeline and ColumnTransformer use this feature and define the default style\n",
       "- Estimators will overwrite some part of the style using the `sk-estimator` class\n",
       "*/\n",
       "\n",
       "/* Pipeline and ColumnTransformer style (default) */\n",
       "\n",
       "#sk-container-id-1 div.sk-toggleable {\n",
       "  /* Default theme specific background. It is overwritten whether we have a\n",
       "  specific estimator or a Pipeline/ColumnTransformer */\n",
       "  background-color: var(--sklearn-color-background);\n",
       "}\n",
       "\n",
       "/* Toggleable label */\n",
       "#sk-container-id-1 label.sk-toggleable__label {\n",
       "  cursor: pointer;\n",
       "  display: block;\n",
       "  width: 100%;\n",
       "  margin-bottom: 0;\n",
       "  padding: 0.5em;\n",
       "  box-sizing: border-box;\n",
       "  text-align: center;\n",
       "}\n",
       "\n",
       "#sk-container-id-1 label.sk-toggleable__label-arrow:before {\n",
       "  /* Arrow on the left of the label */\n",
       "  content: \"▸\";\n",
       "  float: left;\n",
       "  margin-right: 0.25em;\n",
       "  color: var(--sklearn-color-icon);\n",
       "}\n",
       "\n",
       "#sk-container-id-1 label.sk-toggleable__label-arrow:hover:before {\n",
       "  color: var(--sklearn-color-text);\n",
       "}\n",
       "\n",
       "/* Toggleable content - dropdown */\n",
       "\n",
       "#sk-container-id-1 div.sk-toggleable__content {\n",
       "  max-height: 0;\n",
       "  max-width: 0;\n",
       "  overflow: hidden;\n",
       "  text-align: left;\n",
       "  /* unfitted */\n",
       "  background-color: var(--sklearn-color-unfitted-level-0);\n",
       "}\n",
       "\n",
       "#sk-container-id-1 div.sk-toggleable__content.fitted {\n",
       "  /* fitted */\n",
       "  background-color: var(--sklearn-color-fitted-level-0);\n",
       "}\n",
       "\n",
       "#sk-container-id-1 div.sk-toggleable__content pre {\n",
       "  margin: 0.2em;\n",
       "  border-radius: 0.25em;\n",
       "  color: var(--sklearn-color-text);\n",
       "  /* unfitted */\n",
       "  background-color: var(--sklearn-color-unfitted-level-0);\n",
       "}\n",
       "\n",
       "#sk-container-id-1 div.sk-toggleable__content.fitted pre {\n",
       "  /* unfitted */\n",
       "  background-color: var(--sklearn-color-fitted-level-0);\n",
       "}\n",
       "\n",
       "#sk-container-id-1 input.sk-toggleable__control:checked~div.sk-toggleable__content {\n",
       "  /* Expand drop-down */\n",
       "  max-height: 200px;\n",
       "  max-width: 100%;\n",
       "  overflow: auto;\n",
       "}\n",
       "\n",
       "#sk-container-id-1 input.sk-toggleable__control:checked~label.sk-toggleable__label-arrow:before {\n",
       "  content: \"▾\";\n",
       "}\n",
       "\n",
       "/* Pipeline/ColumnTransformer-specific style */\n",
       "\n",
       "#sk-container-id-1 div.sk-label input.sk-toggleable__control:checked~label.sk-toggleable__label {\n",
       "  color: var(--sklearn-color-text);\n",
       "  background-color: var(--sklearn-color-unfitted-level-2);\n",
       "}\n",
       "\n",
       "#sk-container-id-1 div.sk-label.fitted input.sk-toggleable__control:checked~label.sk-toggleable__label {\n",
       "  background-color: var(--sklearn-color-fitted-level-2);\n",
       "}\n",
       "\n",
       "/* Estimator-specific style */\n",
       "\n",
       "/* Colorize estimator box */\n",
       "#sk-container-id-1 div.sk-estimator input.sk-toggleable__control:checked~label.sk-toggleable__label {\n",
       "  /* unfitted */\n",
       "  background-color: var(--sklearn-color-unfitted-level-2);\n",
       "}\n",
       "\n",
       "#sk-container-id-1 div.sk-estimator.fitted input.sk-toggleable__control:checked~label.sk-toggleable__label {\n",
       "  /* fitted */\n",
       "  background-color: var(--sklearn-color-fitted-level-2);\n",
       "}\n",
       "\n",
       "#sk-container-id-1 div.sk-label label.sk-toggleable__label,\n",
       "#sk-container-id-1 div.sk-label label {\n",
       "  /* The background is the default theme color */\n",
       "  color: var(--sklearn-color-text-on-default-background);\n",
       "}\n",
       "\n",
       "/* On hover, darken the color of the background */\n",
       "#sk-container-id-1 div.sk-label:hover label.sk-toggleable__label {\n",
       "  color: var(--sklearn-color-text);\n",
       "  background-color: var(--sklearn-color-unfitted-level-2);\n",
       "}\n",
       "\n",
       "/* Label box, darken color on hover, fitted */\n",
       "#sk-container-id-1 div.sk-label.fitted:hover label.sk-toggleable__label.fitted {\n",
       "  color: var(--sklearn-color-text);\n",
       "  background-color: var(--sklearn-color-fitted-level-2);\n",
       "}\n",
       "\n",
       "/* Estimator label */\n",
       "\n",
       "#sk-container-id-1 div.sk-label label {\n",
       "  font-family: monospace;\n",
       "  font-weight: bold;\n",
       "  display: inline-block;\n",
       "  line-height: 1.2em;\n",
       "}\n",
       "\n",
       "#sk-container-id-1 div.sk-label-container {\n",
       "  text-align: center;\n",
       "}\n",
       "\n",
       "/* Estimator-specific */\n",
       "#sk-container-id-1 div.sk-estimator {\n",
       "  font-family: monospace;\n",
       "  border: 1px dotted var(--sklearn-color-border-box);\n",
       "  border-radius: 0.25em;\n",
       "  box-sizing: border-box;\n",
       "  margin-bottom: 0.5em;\n",
       "  /* unfitted */\n",
       "  background-color: var(--sklearn-color-unfitted-level-0);\n",
       "}\n",
       "\n",
       "#sk-container-id-1 div.sk-estimator.fitted {\n",
       "  /* fitted */\n",
       "  background-color: var(--sklearn-color-fitted-level-0);\n",
       "}\n",
       "\n",
       "/* on hover */\n",
       "#sk-container-id-1 div.sk-estimator:hover {\n",
       "  /* unfitted */\n",
       "  background-color: var(--sklearn-color-unfitted-level-2);\n",
       "}\n",
       "\n",
       "#sk-container-id-1 div.sk-estimator.fitted:hover {\n",
       "  /* fitted */\n",
       "  background-color: var(--sklearn-color-fitted-level-2);\n",
       "}\n",
       "\n",
       "/* Specification for estimator info (e.g. \"i\" and \"?\") */\n",
       "\n",
       "/* Common style for \"i\" and \"?\" */\n",
       "\n",
       ".sk-estimator-doc-link,\n",
       "a:link.sk-estimator-doc-link,\n",
       "a:visited.sk-estimator-doc-link {\n",
       "  float: right;\n",
       "  font-size: smaller;\n",
       "  line-height: 1em;\n",
       "  font-family: monospace;\n",
       "  background-color: var(--sklearn-color-background);\n",
       "  border-radius: 1em;\n",
       "  height: 1em;\n",
       "  width: 1em;\n",
       "  text-decoration: none !important;\n",
       "  margin-left: 1ex;\n",
       "  /* unfitted */\n",
       "  border: var(--sklearn-color-unfitted-level-1) 1pt solid;\n",
       "  color: var(--sklearn-color-unfitted-level-1);\n",
       "}\n",
       "\n",
       ".sk-estimator-doc-link.fitted,\n",
       "a:link.sk-estimator-doc-link.fitted,\n",
       "a:visited.sk-estimator-doc-link.fitted {\n",
       "  /* fitted */\n",
       "  border: var(--sklearn-color-fitted-level-1) 1pt solid;\n",
       "  color: var(--sklearn-color-fitted-level-1);\n",
       "}\n",
       "\n",
       "/* On hover */\n",
       "div.sk-estimator:hover .sk-estimator-doc-link:hover,\n",
       ".sk-estimator-doc-link:hover,\n",
       "div.sk-label-container:hover .sk-estimator-doc-link:hover,\n",
       ".sk-estimator-doc-link:hover {\n",
       "  /* unfitted */\n",
       "  background-color: var(--sklearn-color-unfitted-level-3);\n",
       "  color: var(--sklearn-color-background);\n",
       "  text-decoration: none;\n",
       "}\n",
       "\n",
       "div.sk-estimator.fitted:hover .sk-estimator-doc-link.fitted:hover,\n",
       ".sk-estimator-doc-link.fitted:hover,\n",
       "div.sk-label-container:hover .sk-estimator-doc-link.fitted:hover,\n",
       ".sk-estimator-doc-link.fitted:hover {\n",
       "  /* fitted */\n",
       "  background-color: var(--sklearn-color-fitted-level-3);\n",
       "  color: var(--sklearn-color-background);\n",
       "  text-decoration: none;\n",
       "}\n",
       "\n",
       "/* Span, style for the box shown on hovering the info icon */\n",
       ".sk-estimator-doc-link span {\n",
       "  display: none;\n",
       "  z-index: 9999;\n",
       "  position: relative;\n",
       "  font-weight: normal;\n",
       "  right: .2ex;\n",
       "  padding: .5ex;\n",
       "  margin: .5ex;\n",
       "  width: min-content;\n",
       "  min-width: 20ex;\n",
       "  max-width: 50ex;\n",
       "  color: var(--sklearn-color-text);\n",
       "  box-shadow: 2pt 2pt 4pt #999;\n",
       "  /* unfitted */\n",
       "  background: var(--sklearn-color-unfitted-level-0);\n",
       "  border: .5pt solid var(--sklearn-color-unfitted-level-3);\n",
       "}\n",
       "\n",
       ".sk-estimator-doc-link.fitted span {\n",
       "  /* fitted */\n",
       "  background: var(--sklearn-color-fitted-level-0);\n",
       "  border: var(--sklearn-color-fitted-level-3);\n",
       "}\n",
       "\n",
       ".sk-estimator-doc-link:hover span {\n",
       "  display: block;\n",
       "}\n",
       "\n",
       "/* \"?\"-specific style due to the `<a>` HTML tag */\n",
       "\n",
       "#sk-container-id-1 a.estimator_doc_link {\n",
       "  float: right;\n",
       "  font-size: 1rem;\n",
       "  line-height: 1em;\n",
       "  font-family: monospace;\n",
       "  background-color: var(--sklearn-color-background);\n",
       "  border-radius: 1rem;\n",
       "  height: 1rem;\n",
       "  width: 1rem;\n",
       "  text-decoration: none;\n",
       "  /* unfitted */\n",
       "  color: var(--sklearn-color-unfitted-level-1);\n",
       "  border: var(--sklearn-color-unfitted-level-1) 1pt solid;\n",
       "}\n",
       "\n",
       "#sk-container-id-1 a.estimator_doc_link.fitted {\n",
       "  /* fitted */\n",
       "  border: var(--sklearn-color-fitted-level-1) 1pt solid;\n",
       "  color: var(--sklearn-color-fitted-level-1);\n",
       "}\n",
       "\n",
       "/* On hover */\n",
       "#sk-container-id-1 a.estimator_doc_link:hover {\n",
       "  /* unfitted */\n",
       "  background-color: var(--sklearn-color-unfitted-level-3);\n",
       "  color: var(--sklearn-color-background);\n",
       "  text-decoration: none;\n",
       "}\n",
       "\n",
       "#sk-container-id-1 a.estimator_doc_link.fitted:hover {\n",
       "  /* fitted */\n",
       "  background-color: var(--sklearn-color-fitted-level-3);\n",
       "}\n",
       "</style><div id=\"sk-container-id-1\" class=\"sk-top-container\"><div class=\"sk-text-repr-fallback\"><pre>KMeans(n_clusters=7, random_state=42)</pre><b>In a Jupyter environment, please rerun this cell to show the HTML representation or trust the notebook. <br />On GitHub, the HTML representation is unable to render, please try loading this page with nbviewer.org.</b></div><div class=\"sk-container\" hidden><div class=\"sk-item\"><div class=\"sk-estimator fitted sk-toggleable\"><input class=\"sk-toggleable__control sk-hidden--visually\" id=\"sk-estimator-id-1\" type=\"checkbox\" checked><label for=\"sk-estimator-id-1\" class=\"sk-toggleable__label fitted sk-toggleable__label-arrow fitted\">&nbsp;&nbsp;KMeans<a class=\"sk-estimator-doc-link fitted\" rel=\"noreferrer\" target=\"_blank\" href=\"https://scikit-learn.org/1.4/modules/generated/sklearn.cluster.KMeans.html\">?<span>Documentation for KMeans</span></a><span class=\"sk-estimator-doc-link fitted\">i<span>Fitted</span></span></label><div class=\"sk-toggleable__content fitted\"><pre>KMeans(n_clusters=7, random_state=42)</pre></div> </div></div></div></div>"
      ],
      "text/plain": [
       "KMeans(n_clusters=7, random_state=42)"
      ]
     },
     "execution_count": 4,
     "metadata": {},
     "output_type": "execute_result"
    }
   ],
   "source": [
    "# Perform KMeans Clustering with K = 7\n",
    "kmeans = KMeans(n_clusters = 7, random_state = 42) # Initialize the K-Means clustering\n",
    "kmeans.fit(normalized_data_df) # Fit the model"
   ]
  },
  {
   "cell_type": "code",
   "execution_count": 5,
   "metadata": {},
   "outputs": [
    {
     "name": "stdout",
     "output_type": "stream",
     "text": [
      "Cluster\n",
      "3          336\n",
      "4          332\n",
      "5          309\n",
      "1          300\n",
      "0          297\n",
      "6          290\n",
      "2          236\n",
      "Name: count, dtype: int64\n"
     ]
    }
   ],
   "source": [
    "# Predict the clusters\n",
    "clusters = kmeans.predict(normalized_data_df)\n",
    "clusters_df = pd.DataFrame(clusters, columns = [\"Cluster\"]) \n",
    "print(clusters_df.value_counts()) # Count the number of occurrences of each cluster label"
   ]
  },
  {
   "cell_type": "code",
   "execution_count": 6,
   "metadata": {},
   "outputs": [
    {
     "name": "stdout",
     "output_type": "stream",
     "text": [
      "         0         1    2         3         4         5         6         7   \\\n",
      "0  0.513994  0.808937  0.0  0.077441  0.005051  0.054474  0.001407  0.046335   \n",
      "1  0.535099  0.150167  0.0  0.027778  0.001667  0.030228  0.000543  0.026766   \n",
      "2  0.302506  0.530862  0.0  0.052260  0.046610  0.100817  0.009420  0.083972   \n",
      "3  0.251212  0.393366  0.0  0.075397  0.019345  0.078009  0.004436  0.062256   \n",
      "4  0.748274  0.532041  0.0  0.039157  0.037651  0.113530  0.018922  0.107311   \n",
      "5  0.769063  0.425930  0.0  0.014024  0.022654  0.039702  0.002983  0.023116   \n",
      "6  0.254150  0.459382  0.0  0.026437  0.013793  0.036790  0.002031  0.026610   \n",
      "\n",
      "         8         9         10        11        12        13        14  \\\n",
      "0  0.001401  0.108790  0.091403  0.092414  0.142676  0.679161  0.079002   \n",
      "1  0.000587  0.823246  0.779716  0.894170  0.788761  0.270665  0.666373   \n",
      "2  0.011043  0.400608  0.370347  0.472461  0.353036  0.497146  0.570882   \n",
      "3  0.005348  0.147286  0.137358  0.184210  0.117524  0.718395  0.343568   \n",
      "4  0.017627  0.298573  0.277521  0.350081  0.263837  0.593300  0.449242   \n",
      "5  0.002094  0.040385  0.034426  0.057385  0.028059  0.779917  0.222795   \n",
      "6  0.001651  0.025687  0.017510  0.041999  0.016247  0.769281  0.216020   \n",
      "\n",
      "         15        16        17        18  \n",
      "0  0.821287  0.134901  0.414491  0.892333  \n",
      "1  0.289386  0.894170  0.211804  0.125066  \n",
      "2  0.213054  0.472461  0.302263  0.163879  \n",
      "3  0.354664  0.184522  0.414107  0.202772  \n",
      "4  0.311453  0.350163  0.303047  0.164359  \n",
      "5  0.486886  0.058362  0.539152  0.244988  \n",
      "6  0.508631  0.042910  0.803157  0.180407  \n"
     ]
    }
   ],
   "source": [
    "# Print the cluster centroids\n",
    "centroids = pd.DataFrame(kmeans.cluster_centers_, columns = data_df.columns)\n",
    "print(centroids)"
   ]
  },
  {
   "cell_type": "code",
   "execution_count": 7,
   "metadata": {},
   "outputs": [
    {
     "name": "stdout",
     "output_type": "stream",
     "text": [
      "Overall Mean Silhouette Value: 0.3320\n"
     ]
    }
   ],
   "source": [
    "# Perform the silhouette analysis\n",
    "silhouettes_score = silhouette_score(normalized_data_df, clusters)\n",
    "print(f'Overall Mean Silhouette Value: {silhouettes_score:.4f}')"
   ]
  },
  {
   "cell_type": "code",
   "execution_count": 8,
   "metadata": {},
   "outputs": [
    {
     "data": {
      "image/png": "[encoded data removed]",
      "text/plain": [
       "<Figure size 640x480 with 1 Axes>"
      ]
     },
     "metadata": {},
     "output_type": "display_data"
    }
   ],
   "source": [
    "# Visualize the silhouette scores\n",
    "def plot_silhouettes(data, clusters):\n",
    "    \n",
    "    # Get the unique cluster labels and the number of clusters\n",
    "    cluster_labels = np.unique(clusters)\n",
    "    n_clusters = cluster_labels.shape[0]\n",
    "\n",
    "    # Calculate the silhouette values\n",
    "    silhouette_vals = metrics.silhouette_samples(data, clusters, metric = 'euclidean')\n",
    "    \n",
    "    # Initialize variables to track the lower and upper bounds\n",
    "    c_ax_lower, c_ax_upper = 0, 0\n",
    "\n",
    "    # List to store the tick positions for cluster labels\n",
    "    cticks = []\n",
    "\n",
    "    for i, k in enumerate(cluster_labels):\n",
    "\n",
    "        # Get the silhouette values for the current cluster 'k'\n",
    "        c_silhouette_vals = silhouette_vals[clusters == k]\n",
    "        c_silhouette_vals.sort()\n",
    "\n",
    "        # Calculate the upper bound\n",
    "        c_ax_upper += len(c_silhouette_vals)\n",
    "\n",
    "        # Plot the horizontal bars for the current cluster's silhouette values\n",
    "        color = cm.jet(float(i) / n_clusters)\n",
    "        plt.barh(range(c_ax_lower, c_ax_upper), c_silhouette_vals, height = 1.0, edgecolor = 'none', color = color)\n",
    "\n",
    "        # Append the center position for the current cluster\n",
    "        cticks.append((c_ax_lower + c_ax_upper) / 2)\n",
    "\n",
    "        # Update the lower bound\n",
    "        c_ax_lower += len(c_silhouette_vals)\n",
    "    \n",
    "    # Calculate the average silhouette score\n",
    "    silhouette_avg = np.mean(silhouette_vals)\n",
    "\n",
    "    # Plot a vertical line at the average silhouette score\n",
    "    plt.axvline(silhouette_avg, color = \"red\", linestyle = \"--\") \n",
    "    plt.yticks(cticks, cluster_labels)\n",
    "    plt.ylabel('Cluster')\n",
    "    plt.xlabel('Silhouette Coefficient')\n",
    "    plt.tight_layout()\n",
    "    plt.show()\n",
    "    \n",
    "    return\n",
    "\n",
    "plot_silhouettes(normalized_data_df, clusters)"
   ]
  },
  {
   "cell_type": "code",
   "execution_count": 9,
   "metadata": {},
   "outputs": [
    {
     "name": "stdout",
     "output_type": "stream",
     "text": [
      "Completeness Score: 0.6117\n",
      "Homogeneity Score: 0.6100\n"
     ]
    }
   ],
   "source": [
    "# Extract true labels from the dataset\n",
    "true_labels = class_df['Numeric Class Label'].values\n",
    "\n",
    "# Compute completeness and homogeneity\n",
    "completeness = completeness_score(true_labels, clusters)\n",
    "homogeneity = homogeneity_score(true_labels, clusters)\n",
    "\n",
    "print(f\"Completeness Score: {completeness:.4f}\")\n",
    "print(f\"Homogeneity Score: {homogeneity:.4f}\")"
   ]
  },
  {
   "cell_type": "markdown",
   "metadata": {},
   "source": [
    "---"
   ]
  },
  {
   "cell_type": "markdown",
   "metadata": {},
   "source": [
    "##### Q1.c\n",
    "1. Do experiments with the number of clusters to see if a different value of K results in more cohesive clustering based on Silhouette analysis.\n",
    "2. Provide a brief discussion of why this particular clustering was selected."
   ]
  },
  {
   "cell_type": "code",
   "execution_count": 10,
   "metadata": {},
   "outputs": [],
   "source": [
    "# Visualize the silhouette scores for each instance\n",
    "def plot_silhouettes(data, clusters):\n",
    "    \n",
    "    # Get the unique cluster labels and the number of clusters\n",
    "    cluster_labels = np.unique(clusters)\n",
    "    n_clusters = cluster_labels.shape[0]\n",
    "\n",
    "    # Calculate the silhouette values\n",
    "    silhouette_vals = metrics.silhouette_samples(data, clusters, metric = 'euclidean')\n",
    "    \n",
    "    # Initialize variables to track the lower and upper bounds\n",
    "    c_ax_lower, c_ax_upper = 0, 0\n",
    "\n",
    "    # List to store the tick positions for cluster labels\n",
    "    cticks = []\n",
    "\n",
    "    for i, k in enumerate(cluster_labels):\n",
    "\n",
    "        # Get the silhouette values for the current cluster 'k'\n",
    "        c_silhouette_vals = silhouette_vals[clusters == k]\n",
    "        c_silhouette_vals.sort()\n",
    "\n",
    "        # Calculate the upper bound\n",
    "        c_ax_upper += len(c_silhouette_vals)\n",
    "\n",
    "        # Plot the horizontal bars for the current cluster's silhouette values\n",
    "        color = cm.jet(float(i) / n_clusters)\n",
    "        plt.barh(range(c_ax_lower, c_ax_upper), c_silhouette_vals, height = 1.0, edgecolor = 'none', color = color)\n",
    "\n",
    "        # Append the center position for the current cluster\n",
    "        cticks.append((c_ax_lower + c_ax_upper) / 2)\n",
    "\n",
    "        # Update the lower bound\n",
    "        c_ax_lower += len(c_silhouette_vals)\n",
    "    \n",
    "    # Calculate the average silhouette score\n",
    "    silhouette_avg = np.mean(silhouette_vals)\n",
    "\n",
    "    # Plot a vertical line at the average silhouette score\n",
    "    print(\"Overall Mean Silhouette Value:\", str(silhouette_avg))\n",
    "    plt.axvline(silhouette_avg, color = \"red\", linestyle = \"--\") \n",
    "    plt.yticks(cticks, cluster_labels)\n",
    "    plt.ylabel('Cluster')\n",
    "    plt.xlabel('Silhouette Coefficient')\n",
    "    plt.tight_layout()\n",
    "    plt.show()\n",
    "    \n",
    "    return"
   ]
  },
  {
   "cell_type": "code",
   "execution_count": 11,
   "metadata": {},
   "outputs": [
    {
     "name": "stdout",
     "output_type": "stream",
     "text": [
      "The Number of Clusters: 3\n",
      "Overall Mean Silhouette Value: 0.31607537653884554\n"
     ]
    },
    {
     "data": {
      "image/png": "[encoded data removed]",
      "text/plain": [
       "<Figure size 640x480 with 1 Axes>"
      ]
     },
     "metadata": {},
     "output_type": "display_data"
    },
    {
     "name": "stdout",
     "output_type": "stream",
     "text": [
      "The Number of Clusters: 4\n",
      "Overall Mean Silhouette Value: 0.38160981543092376\n"
     ]
    },
    {
     "data": {
      "image/png": "[encoded data removed]",
      "text/plain": [
       "<Figure size 640x480 with 1 Axes>"
      ]
     },
     "metadata": {},
     "output_type": "display_data"
    },
    {
     "name": "stdout",
     "output_type": "stream",
     "text": [
      "The Number of Clusters: 5\n",
      "Overall Mean Silhouette Value: 0.3439432996271734\n"
     ]
    },
    {
     "data": {
      "image/png": "[encoded data removed]",
      "text/plain": [
       "<Figure size 640x480 with 1 Axes>"
      ]
     },
     "metadata": {},
     "output_type": "display_data"
    },
    {
     "name": "stdout",
     "output_type": "stream",
     "text": [
      "The Number of Clusters: 6\n",
      "Overall Mean Silhouette Value: 0.3282149107946421\n"
     ]
    },
    {
     "data": {
      "image/png": "[encoded data removed]",
      "text/plain": [
       "<Figure size 640x480 with 1 Axes>"
      ]
     },
     "metadata": {},
     "output_type": "display_data"
    },
    {
     "name": "stdout",
     "output_type": "stream",
     "text": [
      "The Number of Clusters: 7\n",
      "Overall Mean Silhouette Value: 0.3320233761933512\n"
     ]
    },
    {
     "data": {
      "image/png": "[encoded data removed]",
      "text/plain": [
       "<Figure size 640x480 with 1 Axes>"
      ]
     },
     "metadata": {},
     "output_type": "display_data"
    },
    {
     "name": "stdout",
     "output_type": "stream",
     "text": [
      "The Number of Clusters: 8\n",
      "Overall Mean Silhouette Value: 0.29823524229079373\n"
     ]
    },
    {
     "data": {
      "image/png": "[encoded data removed]",
      "text/plain": [
       "<Figure size 640x480 with 1 Axes>"
      ]
     },
     "metadata": {},
     "output_type": "display_data"
    },
    {
     "name": "stdout",
     "output_type": "stream",
     "text": [
      "The Number of Clusters: 9\n",
      "Overall Mean Silhouette Value: 0.30627092069787015\n"
     ]
    },
    {
     "data": {
      "image/png": "[encoded data removed]",
      "text/plain": [
       "<Figure size 640x480 with 1 Axes>"
      ]
     },
     "metadata": {},
     "output_type": "display_data"
    },
    {
     "name": "stdout",
     "output_type": "stream",
     "text": [
      "The Number of Clusters: 10\n",
      "Overall Mean Silhouette Value: 0.2902174041012197\n"
     ]
    },
    {
     "data": {
      "image/png": "[encoded data removed]",
      "text/plain": [
       "<Figure size 640x480 with 1 Axes>"
      ]
     },
     "metadata": {},
     "output_type": "display_data"
    }
   ],
   "source": [
    "for k in range(3, 11):\n",
    "    kmeans = KMeans(n_clusters = k, random_state = 42)\n",
    "    kmeans.fit(normalized_data_df)\n",
    "    clusters = kmeans.predict(normalized_data_df)\n",
    "    print(\"The Number of Clusters:\", str(k))\n",
    "    plot_silhouettes(normalized_data_df, clusters)"
   ]
  },
  {
   "cell_type": "markdown",
   "metadata": {},
   "source": [
    "Based on the silhouette score, 4 clusters provide the best result with the highest average silhouette score of 0.3816. This result indicates that the clustering with K = 4 is the most cohesive compared to other values of K."
   ]
  },
  {
   "cell_type": "markdown",
   "metadata": {},
   "source": [
    "---"
   ]
  },
  {
   "cell_type": "markdown",
   "metadata": {},
   "source": [
    "##### Q1.d\n",
    "1. Perform PCA on the normalized image data matrix.\n",
    "2. Analyze the principal components to determine the number of PCs needed to capture at least 95% of variance in the data. \n",
    "3. Provide a Scree plot of PC variances.\n",
    "4. Use these r components as features to transform the data into a reduced-dimension space."
   ]
  },
  {
   "cell_type": "code",
   "execution_count": 12,
   "metadata": {},
   "outputs": [],
   "source": [
    "# Perform PCA\n",
    "pca = PCA().fit(normalized_data_df)"
   ]
  },
  {
   "cell_type": "code",
   "execution_count": 13,
   "metadata": {},
   "outputs": [
    {
     "name": "stdout",
     "output_type": "stream",
     "text": [
      "Number of principal components to explain at least 95% of variance: 7\n"
     ]
    }
   ],
   "source": [
    "cumulative_explained_variance = np.cumsum(pca.explained_variance_ratio_) # Calculate the cumulative explained variance\n",
    "r = np.argmax(cumulative_explained_variance >= 0.95) + 1 # Find the number of components that explain at least 95% of the variance\n",
    "print(f\"Number of principal components to explain at least 95% of variance: {r}\")"
   ]
  },
  {
   "cell_type": "code",
   "execution_count": 14,
   "metadata": {},
   "outputs": [
    {
     "data": {
      "image/png": "[encoded data removed]",
      "text/plain": [
       "<Figure size 1000x600 with 1 Axes>"
      ]
     },
     "metadata": {},
     "output_type": "display_data"
    }
   ],
   "source": [
    "# Plot the cumulative explained variance ratio\n",
    "plt.figure(figsize = (10, 6))\n",
    "plt.plot(range(1, len(cumulative_explained_variance) + 1), cumulative_explained_variance, marker = 'o')\n",
    "plt.xlabel('Principal Component')\n",
    "plt.ylabel('Cumulative Explained Variance Ratio')\n",
    "plt.show()"
   ]
  },
  {
   "cell_type": "code",
   "execution_count": 15,
   "metadata": {},
   "outputs": [
    {
     "name": "stdout",
     "output_type": "stream",
     "text": [
      "        PC1       PC2       PC3       PC4       PC5       PC6       PC7\n",
      "0 -0.689082  0.532951  0.246098 -0.197812 -0.076433  0.047804 -0.047321\n",
      "1 -0.666920  0.510675  0.337972 -0.174381 -0.041178  0.056551 -0.041707\n",
      "2 -0.712027  0.770944 -0.155822 -0.009299 -0.166622  0.043814 -0.060695\n",
      "3 -0.732419  0.505378  0.496928 -0.056917 -0.144469  0.026348 -0.097034\n",
      "4 -0.642317  0.531329  0.300672 -0.177615 -0.018240  0.054663 -0.055545\n"
     ]
    }
   ],
   "source": [
    "# Perform dimensionality reduction with r principal components\n",
    "pca = PCA(n_components = r)\n",
    "pca_data = pca.fit_transform(normalized_data_df)\n",
    "pca_data_df = pd.DataFrame(pca_data, columns = [f'PC{i + 1}' for i in range(r)])\n",
    "print(pca_data_df.head())\n"
   ]
  },
  {
   "cell_type": "markdown",
   "metadata": {},
   "source": [
    "---"
   ]
  },
  {
   "cell_type": "markdown",
   "metadata": {},
   "source": [
    "##### Q1.e\n",
    "1. Perform Kmeans on the lower dimensional transformed data.\n",
    "2. Compare Silhouette values as well as completeness and Homogeneity values of the new clusters. \n",
    "3. Compare these results with those obtained on the full data in part b. "
   ]
  },
  {
   "cell_type": "code",
   "execution_count": 16,
   "metadata": {},
   "outputs": [
    {
     "data": {
      "text/html": [
       "<style>#sk-container-id-2 {\n",
       "  /* Definition of color scheme common for light and dark mode */\n",
       "  --sklearn-color-text: black;\n",
       "  --sklearn-color-line: gray;\n",
       "  /* Definition of color scheme for unfitted estimators */\n",
       "  --sklearn-color-unfitted-level-0: #fff5e6;\n",
       "  --sklearn-color-unfitted-level-1: #f6e4d2;\n",
       "  --sklearn-color-unfitted-level-2: #ffe0b3;\n",
       "  --sklearn-color-unfitted-level-3: chocolate;\n",
       "  /* Definition of color scheme for fitted estimators */\n",
       "  --sklearn-color-fitted-level-0: #f0f8ff;\n",
       "  --sklearn-color-fitted-level-1: #d4ebff;\n",
       "  --sklearn-color-fitted-level-2: #b3dbfd;\n",
       "  --sklearn-color-fitted-level-3: cornflowerblue;\n",
       "\n",
       "  /* Specific color for light theme */\n",
       "  --sklearn-color-text-on-default-background: var(--sg-text-color, var(--theme-code-foreground, var(--jp-content-font-color1, black)));\n",
       "  --sklearn-color-background: var(--sg-background-color, var(--theme-background, var(--jp-layout-color0, white)));\n",
       "  --sklearn-color-border-box: var(--sg-text-color, var(--theme-code-foreground, var(--jp-content-font-color1, black)));\n",
       "  --sklearn-color-icon: #696969;\n",
       "\n",
       "  @media (prefers-color-scheme: dark) {\n",
       "    /* Redefinition of color scheme for dark theme */\n",
       "    --sklearn-color-text-on-default-background: var(--sg-text-color, var(--theme-code-foreground, var(--jp-content-font-color1, white)));\n",
       "    --sklearn-color-background: var(--sg-background-color, var(--theme-background, var(--jp-layout-color0, #111)));\n",
       "    --sklearn-color-border-box: var(--sg-text-color, var(--theme-code-foreground, var(--jp-content-font-color1, white)));\n",
       "    --sklearn-color-icon: #878787;\n",
       "  }\n",
       "}\n",
       "\n",
       "#sk-container-id-2 {\n",
       "  color: var(--sklearn-color-text);\n",
       "}\n",
       "\n",
       "#sk-container-id-2 pre {\n",
       "  padding: 0;\n",
       "}\n",
       "\n",
       "#sk-container-id-2 input.sk-hidden--visually {\n",
       "  border: 0;\n",
       "  clip: rect(1px 1px 1px 1px);\n",
       "  clip: rect(1px, 1px, 1px, 1px);\n",
       "  height: 1px;\n",
       "  margin: -1px;\n",
       "  overflow: hidden;\n",
       "  padding: 0;\n",
       "  position: absolute;\n",
       "  width: 1px;\n",
       "}\n",
       "\n",
       "#sk-container-id-2 div.sk-dashed-wrapped {\n",
       "  border: 1px dashed var(--sklearn-color-line);\n",
       "  margin: 0 0.4em 0.5em 0.4em;\n",
       "  box-sizing: border-box;\n",
       "  padding-bottom: 0.4em;\n",
       "  background-color: var(--sklearn-color-background);\n",
       "}\n",
       "\n",
       "#sk-container-id-2 div.sk-container {\n",
       "  /* jupyter's `normalize.less` sets `[hidden] { display: none; }`\n",
       "     but bootstrap.min.css set `[hidden] { display: none !important; }`\n",
       "     so we also need the `!important` here to be able to override the\n",
       "     default hidden behavior on the sphinx rendered scikit-learn.org.\n",
       "     See: https://github.com/scikit-learn/scikit-learn/issues/21755 */\n",
       "  display: inline-block !important;\n",
       "  position: relative;\n",
       "}\n",
       "\n",
       "#sk-container-id-2 div.sk-text-repr-fallback {\n",
       "  display: none;\n",
       "}\n",
       "\n",
       "div.sk-parallel-item,\n",
       "div.sk-serial,\n",
       "div.sk-item {\n",
       "  /* draw centered vertical line to link estimators */\n",
       "  background-image: linear-gradient(var(--sklearn-color-text-on-default-background), var(--sklearn-color-text-on-default-background));\n",
       "  background-size: 2px 100%;\n",
       "  background-repeat: no-repeat;\n",
       "  background-position: center center;\n",
       "}\n",
       "\n",
       "/* Parallel-specific style estimator block */\n",
       "\n",
       "#sk-container-id-2 div.sk-parallel-item::after {\n",
       "  content: \"\";\n",
       "  width: 100%;\n",
       "  border-bottom: 2px solid var(--sklearn-color-text-on-default-background);\n",
       "  flex-grow: 1;\n",
       "}\n",
       "\n",
       "#sk-container-id-2 div.sk-parallel {\n",
       "  display: flex;\n",
       "  align-items: stretch;\n",
       "  justify-content: center;\n",
       "  background-color: var(--sklearn-color-background);\n",
       "  position: relative;\n",
       "}\n",
       "\n",
       "#sk-container-id-2 div.sk-parallel-item {\n",
       "  display: flex;\n",
       "  flex-direction: column;\n",
       "}\n",
       "\n",
       "#sk-container-id-2 div.sk-parallel-item:first-child::after {\n",
       "  align-self: flex-end;\n",
       "  width: 50%;\n",
       "}\n",
       "\n",
       "#sk-container-id-2 div.sk-parallel-item:last-child::after {\n",
       "  align-self: flex-start;\n",
       "  width: 50%;\n",
       "}\n",
       "\n",
       "#sk-container-id-2 div.sk-parallel-item:only-child::after {\n",
       "  width: 0;\n",
       "}\n",
       "\n",
       "/* Serial-specific style estimator block */\n",
       "\n",
       "#sk-container-id-2 div.sk-serial {\n",
       "  display: flex;\n",
       "  flex-direction: column;\n",
       "  align-items: center;\n",
       "  background-color: var(--sklearn-color-background);\n",
       "  padding-right: 1em;\n",
       "  padding-left: 1em;\n",
       "}\n",
       "\n",
       "\n",
       "/* Toggleable style: style used for estimator/Pipeline/ColumnTransformer box that is\n",
       "clickable and can be expanded/collapsed.\n",
       "- Pipeline and ColumnTransformer use this feature and define the default style\n",
       "- Estimators will overwrite some part of the style using the `sk-estimator` class\n",
       "*/\n",
       "\n",
       "/* Pipeline and ColumnTransformer style (default) */\n",
       "\n",
       "#sk-container-id-2 div.sk-toggleable {\n",
       "  /* Default theme specific background. It is overwritten whether we have a\n",
       "  specific estimator or a Pipeline/ColumnTransformer */\n",
       "  background-color: var(--sklearn-color-background);\n",
       "}\n",
       "\n",
       "/* Toggleable label */\n",
       "#sk-container-id-2 label.sk-toggleable__label {\n",
       "  cursor: pointer;\n",
       "  display: block;\n",
       "  width: 100%;\n",
       "  margin-bottom: 0;\n",
       "  padding: 0.5em;\n",
       "  box-sizing: border-box;\n",
       "  text-align: center;\n",
       "}\n",
       "\n",
       "#sk-container-id-2 label.sk-toggleable__label-arrow:before {\n",
       "  /* Arrow on the left of the label */\n",
       "  content: \"▸\";\n",
       "  float: left;\n",
       "  margin-right: 0.25em;\n",
       "  color: var(--sklearn-color-icon);\n",
       "}\n",
       "\n",
       "#sk-container-id-2 label.sk-toggleable__label-arrow:hover:before {\n",
       "  color: var(--sklearn-color-text);\n",
       "}\n",
       "\n",
       "/* Toggleable content - dropdown */\n",
       "\n",
       "#sk-container-id-2 div.sk-toggleable__content {\n",
       "  max-height: 0;\n",
       "  max-width: 0;\n",
       "  overflow: hidden;\n",
       "  text-align: left;\n",
       "  /* unfitted */\n",
       "  background-color: var(--sklearn-color-unfitted-level-0);\n",
       "}\n",
       "\n",
       "#sk-container-id-2 div.sk-toggleable__content.fitted {\n",
       "  /* fitted */\n",
       "  background-color: var(--sklearn-color-fitted-level-0);\n",
       "}\n",
       "\n",
       "#sk-container-id-2 div.sk-toggleable__content pre {\n",
       "  margin: 0.2em;\n",
       "  border-radius: 0.25em;\n",
       "  color: var(--sklearn-color-text);\n",
       "  /* unfitted */\n",
       "  background-color: var(--sklearn-color-unfitted-level-0);\n",
       "}\n",
       "\n",
       "#sk-container-id-2 div.sk-toggleable__content.fitted pre {\n",
       "  /* unfitted */\n",
       "  background-color: var(--sklearn-color-fitted-level-0);\n",
       "}\n",
       "\n",
       "#sk-container-id-2 input.sk-toggleable__control:checked~div.sk-toggleable__content {\n",
       "  /* Expand drop-down */\n",
       "  max-height: 200px;\n",
       "  max-width: 100%;\n",
       "  overflow: auto;\n",
       "}\n",
       "\n",
       "#sk-container-id-2 input.sk-toggleable__control:checked~label.sk-toggleable__label-arrow:before {\n",
       "  content: \"▾\";\n",
       "}\n",
       "\n",
       "/* Pipeline/ColumnTransformer-specific style */\n",
       "\n",
       "#sk-container-id-2 div.sk-label input.sk-toggleable__control:checked~label.sk-toggleable__label {\n",
       "  color: var(--sklearn-color-text);\n",
       "  background-color: var(--sklearn-color-unfitted-level-2);\n",
       "}\n",
       "\n",
       "#sk-container-id-2 div.sk-label.fitted input.sk-toggleable__control:checked~label.sk-toggleable__label {\n",
       "  background-color: var(--sklearn-color-fitted-level-2);\n",
       "}\n",
       "\n",
       "/* Estimator-specific style */\n",
       "\n",
       "/* Colorize estimator box */\n",
       "#sk-container-id-2 div.sk-estimator input.sk-toggleable__control:checked~label.sk-toggleable__label {\n",
       "  /* unfitted */\n",
       "  background-color: var(--sklearn-color-unfitted-level-2);\n",
       "}\n",
       "\n",
       "#sk-container-id-2 div.sk-estimator.fitted input.sk-toggleable__control:checked~label.sk-toggleable__label {\n",
       "  /* fitted */\n",
       "  background-color: var(--sklearn-color-fitted-level-2);\n",
       "}\n",
       "\n",
       "#sk-container-id-2 div.sk-label label.sk-toggleable__label,\n",
       "#sk-container-id-2 div.sk-label label {\n",
       "  /* The background is the default theme color */\n",
       "  color: var(--sklearn-color-text-on-default-background);\n",
       "}\n",
       "\n",
       "/* On hover, darken the color of the background */\n",
       "#sk-container-id-2 div.sk-label:hover label.sk-toggleable__label {\n",
       "  color: var(--sklearn-color-text);\n",
       "  background-color: var(--sklearn-color-unfitted-level-2);\n",
       "}\n",
       "\n",
       "/* Label box, darken color on hover, fitted */\n",
       "#sk-container-id-2 div.sk-label.fitted:hover label.sk-toggleable__label.fitted {\n",
       "  color: var(--sklearn-color-text);\n",
       "  background-color: var(--sklearn-color-fitted-level-2);\n",
       "}\n",
       "\n",
       "/* Estimator label */\n",
       "\n",
       "#sk-container-id-2 div.sk-label label {\n",
       "  font-family: monospace;\n",
       "  font-weight: bold;\n",
       "  display: inline-block;\n",
       "  line-height: 1.2em;\n",
       "}\n",
       "\n",
       "#sk-container-id-2 div.sk-label-container {\n",
       "  text-align: center;\n",
       "}\n",
       "\n",
       "/* Estimator-specific */\n",
       "#sk-container-id-2 div.sk-estimator {\n",
       "  font-family: monospace;\n",
       "  border: 1px dotted var(--sklearn-color-border-box);\n",
       "  border-radius: 0.25em;\n",
       "  box-sizing: border-box;\n",
       "  margin-bottom: 0.5em;\n",
       "  /* unfitted */\n",
       "  background-color: var(--sklearn-color-unfitted-level-0);\n",
       "}\n",
       "\n",
       "#sk-container-id-2 div.sk-estimator.fitted {\n",
       "  /* fitted */\n",
       "  background-color: var(--sklearn-color-fitted-level-0);\n",
       "}\n",
       "\n",
       "/* on hover */\n",
       "#sk-container-id-2 div.sk-estimator:hover {\n",
       "  /* unfitted */\n",
       "  background-color: var(--sklearn-color-unfitted-level-2);\n",
       "}\n",
       "\n",
       "#sk-container-id-2 div.sk-estimator.fitted:hover {\n",
       "  /* fitted */\n",
       "  background-color: var(--sklearn-color-fitted-level-2);\n",
       "}\n",
       "\n",
       "/* Specification for estimator info (e.g. \"i\" and \"?\") */\n",
       "\n",
       "/* Common style for \"i\" and \"?\" */\n",
       "\n",
       ".sk-estimator-doc-link,\n",
       "a:link.sk-estimator-doc-link,\n",
       "a:visited.sk-estimator-doc-link {\n",
       "  float: right;\n",
       "  font-size: smaller;\n",
       "  line-height: 1em;\n",
       "  font-family: monospace;\n",
       "  background-color: var(--sklearn-color-background);\n",
       "  border-radius: 1em;\n",
       "  height: 1em;\n",
       "  width: 1em;\n",
       "  text-decoration: none !important;\n",
       "  margin-left: 1ex;\n",
       "  /* unfitted */\n",
       "  border: var(--sklearn-color-unfitted-level-1) 1pt solid;\n",
       "  color: var(--sklearn-color-unfitted-level-1);\n",
       "}\n",
       "\n",
       ".sk-estimator-doc-link.fitted,\n",
       "a:link.sk-estimator-doc-link.fitted,\n",
       "a:visited.sk-estimator-doc-link.fitted {\n",
       "  /* fitted */\n",
       "  border: var(--sklearn-color-fitted-level-1) 1pt solid;\n",
       "  color: var(--sklearn-color-fitted-level-1);\n",
       "}\n",
       "\n",
       "/* On hover */\n",
       "div.sk-estimator:hover .sk-estimator-doc-link:hover,\n",
       ".sk-estimator-doc-link:hover,\n",
       "div.sk-label-container:hover .sk-estimator-doc-link:hover,\n",
       ".sk-estimator-doc-link:hover {\n",
       "  /* unfitted */\n",
       "  background-color: var(--sklearn-color-unfitted-level-3);\n",
       "  color: var(--sklearn-color-background);\n",
       "  text-decoration: none;\n",
       "}\n",
       "\n",
       "div.sk-estimator.fitted:hover .sk-estimator-doc-link.fitted:hover,\n",
       ".sk-estimator-doc-link.fitted:hover,\n",
       "div.sk-label-container:hover .sk-estimator-doc-link.fitted:hover,\n",
       ".sk-estimator-doc-link.fitted:hover {\n",
       "  /* fitted */\n",
       "  background-color: var(--sklearn-color-fitted-level-3);\n",
       "  color: var(--sklearn-color-background);\n",
       "  text-decoration: none;\n",
       "}\n",
       "\n",
       "/* Span, style for the box shown on hovering the info icon */\n",
       ".sk-estimator-doc-link span {\n",
       "  display: none;\n",
       "  z-index: 9999;\n",
       "  position: relative;\n",
       "  font-weight: normal;\n",
       "  right: .2ex;\n",
       "  padding: .5ex;\n",
       "  margin: .5ex;\n",
       "  width: min-content;\n",
       "  min-width: 20ex;\n",
       "  max-width: 50ex;\n",
       "  color: var(--sklearn-color-text);\n",
       "  box-shadow: 2pt 2pt 4pt #999;\n",
       "  /* unfitted */\n",
       "  background: var(--sklearn-color-unfitted-level-0);\n",
       "  border: .5pt solid var(--sklearn-color-unfitted-level-3);\n",
       "}\n",
       "\n",
       ".sk-estimator-doc-link.fitted span {\n",
       "  /* fitted */\n",
       "  background: var(--sklearn-color-fitted-level-0);\n",
       "  border: var(--sklearn-color-fitted-level-3);\n",
       "}\n",
       "\n",
       ".sk-estimator-doc-link:hover span {\n",
       "  display: block;\n",
       "}\n",
       "\n",
       "/* \"?\"-specific style due to the `<a>` HTML tag */\n",
       "\n",
       "#sk-container-id-2 a.estimator_doc_link {\n",
       "  float: right;\n",
       "  font-size: 1rem;\n",
       "  line-height: 1em;\n",
       "  font-family: monospace;\n",
       "  background-color: var(--sklearn-color-background);\n",
       "  border-radius: 1rem;\n",
       "  height: 1rem;\n",
       "  width: 1rem;\n",
       "  text-decoration: none;\n",
       "  /* unfitted */\n",
       "  color: var(--sklearn-color-unfitted-level-1);\n",
       "  border: var(--sklearn-color-unfitted-level-1) 1pt solid;\n",
       "}\n",
       "\n",
       "#sk-container-id-2 a.estimator_doc_link.fitted {\n",
       "  /* fitted */\n",
       "  border: var(--sklearn-color-fitted-level-1) 1pt solid;\n",
       "  color: var(--sklearn-color-fitted-level-1);\n",
       "}\n",
       "\n",
       "/* On hover */\n",
       "#sk-container-id-2 a.estimator_doc_link:hover {\n",
       "  /* unfitted */\n",
       "  background-color: var(--sklearn-color-unfitted-level-3);\n",
       "  color: var(--sklearn-color-background);\n",
       "  text-decoration: none;\n",
       "}\n",
       "\n",
       "#sk-container-id-2 a.estimator_doc_link.fitted:hover {\n",
       "  /* fitted */\n",
       "  background-color: var(--sklearn-color-fitted-level-3);\n",
       "}\n",
       "</style><div id=\"sk-container-id-2\" class=\"sk-top-container\"><div class=\"sk-text-repr-fallback\"><pre>KMeans(n_clusters=7, random_state=42)</pre><b>In a Jupyter environment, please rerun this cell to show the HTML representation or trust the notebook. <br />On GitHub, the HTML representation is unable to render, please try loading this page with nbviewer.org.</b></div><div class=\"sk-container\" hidden><div class=\"sk-item\"><div class=\"sk-estimator fitted sk-toggleable\"><input class=\"sk-toggleable__control sk-hidden--visually\" id=\"sk-estimator-id-2\" type=\"checkbox\" checked><label for=\"sk-estimator-id-2\" class=\"sk-toggleable__label fitted sk-toggleable__label-arrow fitted\">&nbsp;&nbsp;KMeans<a class=\"sk-estimator-doc-link fitted\" rel=\"noreferrer\" target=\"_blank\" href=\"https://scikit-learn.org/1.4/modules/generated/sklearn.cluster.KMeans.html\">?<span>Documentation for KMeans</span></a><span class=\"sk-estimator-doc-link fitted\">i<span>Fitted</span></span></label><div class=\"sk-toggleable__content fitted\"><pre>KMeans(n_clusters=7, random_state=42)</pre></div> </div></div></div></div>"
      ],
      "text/plain": [
       "KMeans(n_clusters=7, random_state=42)"
      ]
     },
     "execution_count": 16,
     "metadata": {},
     "output_type": "execute_result"
    }
   ],
   "source": [
    "# Perform KMeans Clustering with K = 7\n",
    "kmeans = KMeans(n_clusters = 7, random_state = 42) # Initialize the K-Means clustering\n",
    "kmeans.fit(pca_data_df) # Fit the model"
   ]
  },
  {
   "cell_type": "code",
   "execution_count": 17,
   "metadata": {},
   "outputs": [
    {
     "name": "stdout",
     "output_type": "stream",
     "text": [
      "Cluster\n",
      "3          550\n",
      "6          328\n",
      "2          324\n",
      "1          300\n",
      "0          297\n",
      "4          170\n",
      "5          131\n",
      "Name: count, dtype: int64\n"
     ]
    }
   ],
   "source": [
    "# Predict the clusters\n",
    "clusters = kmeans.predict(pca_data_df)\n",
    "clusters_df = pd.DataFrame(clusters, columns = [\"Cluster\"]) \n",
    "print(clusters_df.value_counts()) # Count the number of occurrences of each cluster label"
   ]
  },
  {
   "cell_type": "code",
   "execution_count": 18,
   "metadata": {},
   "outputs": [
    {
     "name": "stdout",
     "output_type": "stream",
     "text": [
      "Overall Mean Silhouette Value: 0.3185\n"
     ]
    }
   ],
   "source": [
    "# Perform the silhouette analysis\n",
    "silhouettes_score = silhouette_score(normalized_data_df, clusters)\n",
    "print(f'Overall Mean Silhouette Value: {silhouettes_score:.4f}')"
   ]
  },
  {
   "cell_type": "code",
   "execution_count": 19,
   "metadata": {},
   "outputs": [
    {
     "name": "stdout",
     "output_type": "stream",
     "text": [
      "Completeness Score: 0.6695\n",
      "Homogeneity Score: 0.6401\n"
     ]
    }
   ],
   "source": [
    "# Extract true labels from the dataset\n",
    "true_labels = class_df['Numeric Class Label'].values\n",
    "\n",
    "# Compute completeness and homogeneity\n",
    "completeness = completeness_score(true_labels, clusters)\n",
    "homogeneity = homogeneity_score(true_labels, clusters)\n",
    "\n",
    "print(f\"Completeness Score: {completeness:.4f}\")\n",
    "print(f\"Homogeneity Score: {homogeneity:.4f}\")"
   ]
  },
  {
   "cell_type": "markdown",
   "metadata": {},
   "source": [
    "**Original Data**\n",
    "- Overall Mean Silhouette Value: 0.3320\n",
    "- Completeness Score: 0.6117\n",
    "- Homogeneity Score: 0.6100\n",
    "\n",
    "**Lower Dimensional Transformed Data**\n",
    "- Overall Mean Silhouette Value: 0.3185\n",
    "- Completeness Score: 0.6695\n",
    "- Homogeneity Score: 0.6401\n",
    "\n",
    "Using PCA for dimensionality reduction led to better completeness and homogeneity scores. This implies that the reduced data clustering provides more cohesive and accurate clustering.\n"
   ]
  },
  {
   "cell_type": "markdown",
   "metadata": {},
   "source": [
    "---"
   ]
  },
  {
   "cell_type": "markdown",
   "metadata": {},
   "source": [
    "#### **Q2. Item-Based Joke Recommendation**"
   ]
  },
  {
   "cell_type": "code",
   "execution_count": 20,
   "metadata": {},
   "outputs": [],
   "source": [
    "# Import library\n",
    "import pandas as pd\n",
    "import numpy as np\n",
    "\n",
    "from numpy import linalg as la"
   ]
  },
  {
   "cell_type": "markdown",
   "metadata": {},
   "source": [
    "---"
   ]
  },
  {
   "cell_type": "markdown",
   "metadata": {},
   "source": [
    "##### Q2.a\n",
    "1. Load in the joke ratings data and the joke text data into appropriate data structures.\n",
    "2. Use the \"recommend\" function to provide top 5 joke recommendations for users with id 4 using both Pearson and cosine similarity measures.\n",
    "3. Find the top 5 recommendations for user with id 25 only with Pearson similarity using both the standard estimator and the SVD-based version to generate these recommendations."
   ]
  },
  {
   "cell_type": "code",
   "execution_count": 21,
   "metadata": {},
   "outputs": [
    {
     "name": "stdout",
     "output_type": "stream",
     "text": [
      "(100,)\n",
      "(1000, 100)\n"
     ]
    }
   ],
   "source": [
    "# File paths\n",
    "file_path1 = \"C:\\\\Users\\\\wodnj\\\\OneDrive\\\\바탕 화면\\\\Programming Machine Learning Applications\\\\DSC 478 - Week 9\\\\Data File\\\\jokes.csv\"\n",
    "file_path2 = \"C:\\\\Users\\\\wodnj\\\\OneDrive\\\\바탕 화면\\\\Programming Machine Learning Applications\\\\DSC 478 - Week 9\\\\Data File\\\\modified_jester_data.csv\"\n",
    "\n",
    "# Load the 'jokes' dataset\n",
    "jokes = pd.read_csv(file_path1, header = None)\n",
    "jokes = np.array(jokes[1])\n",
    "\n",
    "# Load the 'modified_jester_data' dataset\n",
    "ratings = np.genfromtxt(file_path2, delimiter = ',')\n",
    "ratings = np.mat(ratings)\n",
    "\n",
    "print(jokes.shape)\n",
    "print(ratings.shape)"
   ]
  },
  {
   "cell_type": "code",
   "execution_count": 22,
   "metadata": {},
   "outputs": [],
   "source": [
    "# Function to calculate the Pearson Similarity\n",
    "def pearsonSim(inA, inB):\n",
    "\n",
    "    if len(inA) < 3:\n",
    "        return 1.0\n",
    "    \n",
    "    return 0.5 + 0.5 * np.corrcoef(inA, inB, rowvar = 0)[0][1]"
   ]
  },
  {
   "cell_type": "code",
   "execution_count": 23,
   "metadata": {},
   "outputs": [],
   "source": [
    "# Function to calculate the Cosine Similarity\n",
    "def cosineSim(inA, inB):\n",
    "\n",
    "    num = float((inA.T * inB)[0, 0])\n",
    "    denom = la.norm(inA) * la.norm(inB)\n",
    "    \n",
    "    return 0.5 + 0.5 * (num / denom)"
   ]
  },
  {
   "cell_type": "code",
   "execution_count": 24,
   "metadata": {},
   "outputs": [],
   "source": [
    "# Function to estimate a user's rating for a specific item using similarity\n",
    "def standEst(dataMat, user, simMeas, item):\n",
    "\n",
    "    n = np.shape(dataMat)[1]\n",
    "    simTotal = 0.0\n",
    "    ratSimTotal = 0.0\n",
    "    data = np.mat(dataMat)\n",
    "    \n",
    "    for j in range(n):\n",
    "        userRating = data[user, j]\n",
    "        \n",
    "        if userRating == 0:\n",
    "            continue\n",
    "        \n",
    "        overLap = np.nonzero(np.logical_and(data[:, item] > 0, data[:, j] > 0))[0]\n",
    "        \n",
    "        if len(overLap) == 0:\n",
    "            similarity = 0\n",
    "        \n",
    "        else:\n",
    "            similarity = simMeas(data[overLap, item], data[overLap, j])\n",
    "\n",
    "        simTotal += similarity\n",
    "        ratSimTotal += similarity * userRating\n",
    "\n",
    "    if simTotal == 0:\n",
    "        return 0\n",
    "    \n",
    "    else:\n",
    "        return ratSimTotal / simTotal"
   ]
  },
  {
   "cell_type": "code",
   "execution_count": 25,
   "metadata": {},
   "outputs": [],
   "source": [
    "# Function to estimate a user's rating for a specific item using Singular Value Decomposition\n",
    "def svdEst(dataMat, user, simMeas, item):\n",
    "\n",
    "    n = np.shape(dataMat)[1]\n",
    "    k = 4\n",
    "    simTotal = 0.0\n",
    "    ratSimTotal = 0.0\n",
    "    data = np.mat(dataMat)\n",
    "    U, Sigma, VT = la.svd(data)\n",
    "    Sig_k = np.mat(np.eye(k) * Sigma[:k])\n",
    "    xformedItems = data.T * U[:, :k] * Sig_k.I\n",
    "    \n",
    "    for j in range(n):\n",
    "        userRating = data[user, j]\n",
    "\n",
    "        if userRating == 0 or j == item:\n",
    "            continue\n",
    "        \n",
    "        similarity = simMeas(xformedItems[item, :].T, xformedItems[j, :].T)\n",
    "        simTotal += similarity\n",
    "        ratSimTotal += similarity * userRating\n",
    "\n",
    "    if simTotal == 0:\n",
    "        return 0\n",
    "    \n",
    "    else:\n",
    "        return ratSimTotal / simTotal"
   ]
  },
  {
   "cell_type": "code",
   "execution_count": 26,
   "metadata": {},
   "outputs": [],
   "source": [
    "# Function to recommend items for a user based on estimated ratings\n",
    "def recommend(dataMat, user, N, simMeas, estMethod):\n",
    "\n",
    "    unratedItems = np.nonzero(dataMat[user, :].A == 0)[1]\n",
    "    \n",
    "    if len(unratedItems) == 0:\n",
    "        return 'You rated everything'\n",
    "    \n",
    "    itemScores = []\n",
    "    \n",
    "    for item in unratedItems:\n",
    "        estimatedScore = estMethod(dataMat, user, simMeas, item)\n",
    "        itemScores.append((item, estimatedScore))\n",
    "    \n",
    "    return sorted(itemScores, key = lambda jj: jj[1], reverse = True)[:N]"
   ]
  },
  {
   "cell_type": "code",
   "execution_count": 27,
   "metadata": {},
   "outputs": [
    {
     "name": "stdout",
     "output_type": "stream",
     "text": [
      "Top 5 Jokes for User 4\n",
      "===========================================================\n",
      "\n",
      "ID: 71, Predicted Rating: 14.4134\n",
      "Joke: On the first day of college the Dean addressed the students pointing out some of the rules:\"The female dormitory will be out-of-bounds for all male students and the male dormitory to the female students. Anybody caught breaking this rule will be fined $20 the first time.\" He continued \"Anybody caught breaking this rule the second time will be fined $60. Being caught a third time will cost you a fine of $180. Are there any questions ?\"At this point a male student in the crowd inquired:\"How much for a season pass ?\"\n",
      "\n",
      "ID: 75, Predicted Rating: 14.3973\n",
      "Joke: There once was a man and a woman that both  got in  a terrible car wreck. Both of their vehicles  were completely destroyed buy fortunately no one  was   hurt.  In thankfulness the woman said to the man 'We are both okay so we should celebrate. I have   a  bottle of wine in my car let's open it.' So the woman got the bottle out of the car and  handed it to the man. The man took a really big drink and handed the woman the bottle. The  woman  closed the bottle and put it down. The man  asked  'Aren't you going to take a drink?' The woman cleverly replied 'No I think I'll  just  wait for the cops to get here.'\n",
      "\n",
      "ID: 79, Predicted Rating: 14.3825\n",
      "Joke: Hillary Bill Clinton and the Pope are sitting together on an airplane. Bill says \"I could throw one thousand dollar bill out of this plane and make one person very happy.\"Hillary says \"I could throw 10 hundred dollar bills out of the plane and make 10 people very happy.\"The Pope chips in and says \"I could throw Bill out of the airplane and make the whole country happy.\"\n",
      "\n",
      "ID: 78, Predicted Rating: 14.3562\n",
      "Joke: Q: Ever wonder why the IRS calls it Form 1040?A: Because for every $50 that you earn you get 10 and they get 40.\n",
      "\n",
      "ID: 72, Predicted Rating: 14.3344\n",
      "Joke: Q: What is the difference between George  Washington Richard Nixon and Bill Clinton? A: Washington couldn't tell a lie Nixon couldn't   tell the truth andClinton doesn't know the difference.\n"
     ]
    }
   ],
   "source": [
    "# Provide top 5 joke recommendations using Pearson similarity\n",
    "top_recommendations_with_pearson_similarity = recommend(ratings, 4, 5, pearsonSim, standEst)\n",
    "\n",
    "print('Top 5 Jokes for User 4')\n",
    "print('===========================================================')\n",
    "for id, predicted_rating in top_recommendations_with_pearson_similarity:\n",
    "    print()\n",
    "    print(f\"ID: {id}, Predicted Rating: {predicted_rating:.4f}\")\n",
    "    print(\"Joke:\", jokes[id])"
   ]
  },
  {
   "cell_type": "code",
   "execution_count": 28,
   "metadata": {},
   "outputs": [
    {
     "name": "stdout",
     "output_type": "stream",
     "text": [
      "Top 5 Jokes for User 4\n",
      "===========================================================\n",
      "\n",
      "ID: 71, Predicted Rating: 14.2938\n",
      "Joke: On the first day of college the Dean addressed the students pointing out some of the rules:\"The female dormitory will be out-of-bounds for all male students and the male dormitory to the female students. Anybody caught breaking this rule will be fined $20 the first time.\" He continued \"Anybody caught breaking this rule the second time will be fined $60. Being caught a third time will cost you a fine of $180. Are there any questions ?\"At this point a male student in the crowd inquired:\"How much for a season pass ?\"\n",
      "\n",
      "ID: 75, Predicted Rating: 14.2936\n",
      "Joke: There once was a man and a woman that both  got in  a terrible car wreck. Both of their vehicles  were completely destroyed buy fortunately no one  was   hurt.  In thankfulness the woman said to the man 'We are both okay so we should celebrate. I have   a  bottle of wine in my car let's open it.' So the woman got the bottle out of the car and  handed it to the man. The man took a really big drink and handed the woman the bottle. The  woman  closed the bottle and put it down. The man  asked  'Aren't you going to take a drink?' The woman cleverly replied 'No I think I'll  just  wait for the cops to get here.'\n",
      "\n",
      "ID: 79, Predicted Rating: 14.2931\n",
      "Joke: Hillary Bill Clinton and the Pope are sitting together on an airplane. Bill says \"I could throw one thousand dollar bill out of this plane and make one person very happy.\"Hillary says \"I could throw 10 hundred dollar bills out of the plane and make 10 people very happy.\"The Pope chips in and says \"I could throw Bill out of the airplane and make the whole country happy.\"\n",
      "\n",
      "ID: 78, Predicted Rating: 14.2908\n",
      "Joke: Q: Ever wonder why the IRS calls it Form 1040?A: Because for every $50 that you earn you get 10 and they get 40.\n",
      "\n",
      "ID: 70, Predicted Rating: 14.2871\n",
      "Joke: At a recent Sacramento PC Users Group meeting a company was demonstrating its latest speech-recognition software.   A representative from the company was just about ready to start the demonstration and asked everyone in the room to quiet down.Just then someone in the back of the room yelled\"Format C: Return.\"Someone else chimed in:\"Yes Return\"Unfortunately the software worked.\n"
     ]
    }
   ],
   "source": [
    "# Provide top 5 joke recommendations using Cosine similarity\n",
    "top_recommendations_with_cosine_similarity = recommend(ratings, 4, 5, cosineSim, standEst)\n",
    "\n",
    "print('Top 5 Jokes for User 4')\n",
    "print('===========================================================')\n",
    "for id, predicted_rating in top_recommendations_with_cosine_similarity:\n",
    "    print()\n",
    "    print(f\"ID: {id}, Predicted Rating: {predicted_rating:.4f}\")\n",
    "    print(\"Joke:\", jokes[id])"
   ]
  },
  {
   "cell_type": "code",
   "execution_count": 29,
   "metadata": {},
   "outputs": [
    {
     "name": "stdout",
     "output_type": "stream",
     "text": [
      "Top 5 Jokes for User 25\n",
      "===========================================================\n",
      "\n",
      "ID: 99, Predicted Rating: 15.3247\n",
      "Joke: Q: What's the difference between greeting a Queen and greeting thePresident of the United  States?A: You only have to get on one knee to greet the queen.\n",
      "\n",
      "ID: 71, Predicted Rating: 15.3243\n",
      "Joke: On the first day of college the Dean addressed the students pointing out some of the rules:\"The female dormitory will be out-of-bounds for all male students and the male dormitory to the female students. Anybody caught breaking this rule will be fined $20 the first time.\" He continued \"Anybody caught breaking this rule the second time will be fined $60. Being caught a third time will cost you a fine of $180. Are there any questions ?\"At this point a male student in the crowd inquired:\"How much for a season pass ?\"\n",
      "\n",
      "ID: 97, Predicted Rating: 15.3221\n",
      "Joke: Age and Womanhood1. Between the ages of 13 and 18 ... She is like Africa virgin and unexplored. 2. Between the ages of 19 and 35 ... She is like Asia hot and exotic. 3. Between the ages of 36 and 45 ... She is like America fully explored breathtakingly beautiful and free with her resources.4. Between the ages of 46 and 56 ...She is like Europe exhausted but still has points of interest. 5. After 56 she is like Australia ...Everybody knows it's down there but who gives a damn?\n",
      "\n",
      "ID: 82, Predicted Rating: 15.3017\n",
      "Joke: What a woman says:\"This place is a mess!  C'monYou and I need to clean upYour stuff is lying on the floor and you'll have no clothes to wear if we don't do laundry right now!\"What a man hears:blah blah blah blah C'mon blah blah blah blah you and I blah blah blah blah on the floor blah blah blah blah no clothes blah blah blah blah RIGHT NOW!\n",
      "\n",
      "ID: 91, Predicted Rating: 15.2940\n",
      "Joke: Early one morning a mother went to her sleeping son and woke him up.\"Wake up son.  It's time to go to school.\" \"But why Mama?  I don't want to go to school.\" \"Give me two reasons why you don't want to go to school.\" \"One all the children hate me. Two all the teachers hate me\" \"Oh! that's no reason. Come on you have to go to school\" \"Give me two good reasons WHY I should go to school?\"  \"One you are fifty-two years old. Two you are the principal of the school.\" \n"
     ]
    }
   ],
   "source": [
    "# Provide top 5 joke recommendations using similarity\n",
    "top_recommendations_using_similarity = recommend(ratings, 25, 5, pearsonSim, standEst)\n",
    "\n",
    "print('Top 5 Jokes for User 25')\n",
    "print('===========================================================')\n",
    "for id, predicted_rating in top_recommendations_using_similarity:\n",
    "    print()\n",
    "    print(f\"ID: {id}, Predicted Rating: {predicted_rating:.4f}\")\n",
    "    print(\"Joke:\", jokes[id])"
   ]
  },
  {
   "cell_type": "code",
   "execution_count": 30,
   "metadata": {},
   "outputs": [
    {
     "name": "stdout",
     "output_type": "stream",
     "text": [
      "Top 5 Jokes for User 25\n",
      "===========================================================\n",
      "\n",
      "ID: 3, Predicted Rating: 15.2771\n",
      "Joke: Q. What's the difference between a man and a toilet? A. A toilet doesn't follow you around after you use it.\n",
      "\n",
      "ID: 79, Predicted Rating: 15.2381\n",
      "Joke: Hillary Bill Clinton and the Pope are sitting together on an airplane. Bill says \"I could throw one thousand dollar bill out of this plane and make one person very happy.\"Hillary says \"I could throw 10 hundred dollar bills out of the plane and make 10 people very happy.\"The Pope chips in and says \"I could throw Bill out of the airplane and make the whole country happy.\"\n",
      "\n",
      "ID: 72, Predicted Rating: 15.2092\n",
      "Joke: Q: What is the difference between George  Washington Richard Nixon and Bill Clinton? A: Washington couldn't tell a lie Nixon couldn't   tell the truth andClinton doesn't know the difference.\n",
      "\n",
      "ID: 71, Predicted Rating: 15.1850\n",
      "Joke: On the first day of college the Dean addressed the students pointing out some of the rules:\"The female dormitory will be out-of-bounds for all male students and the male dormitory to the female students. Anybody caught breaking this rule will be fined $20 the first time.\" He continued \"Anybody caught breaking this rule the second time will be fined $60. Being caught a third time will cost you a fine of $180. Are there any questions ?\"At this point a male student in the crowd inquired:\"How much for a season pass ?\"\n",
      "\n",
      "ID: 99, Predicted Rating: 15.1806\n",
      "Joke: Q: What's the difference between greeting a Queen and greeting thePresident of the United  States?A: You only have to get on one knee to greet the queen.\n"
     ]
    }
   ],
   "source": [
    "# Provide top 5 joke recommendations using Singular Value Decomposition\n",
    "top_recommendations_using_svd = recommend(ratings, 25, 5, pearsonSim, svdEst)\n",
    "\n",
    "print('Top 5 Jokes for User 25')\n",
    "print('===========================================================')\n",
    "for id, predicted_rating in top_recommendations_using_svd:\n",
    "    print()\n",
    "    print(f\"ID: {id}, Predicted Rating: {predicted_rating:.4f}\")\n",
    "    print(\"Joke:\", jokes[id])"
   ]
  },
  {
   "cell_type": "markdown",
   "metadata": {},
   "source": [
    "---"
   ]
  },
  {
   "cell_type": "markdown",
   "metadata": {},
   "source": [
    "##### Q2.b\n",
    "1. Complete the definition for the function \"test\".\n",
    "2. Use this function to perform evaluation comparing MAE results using the rating prediction function \"standEst\" with results using the \"svdEst\" prediction function."
   ]
  },
  {
   "cell_type": "code",
   "execution_count": 31,
   "metadata": {},
   "outputs": [],
   "source": [
    "# Function to perform cross-validation for a specific user by simulating missing ratings and comparing estimated ratings with actual ratings\n",
    "def cross_validate_user(dataMat, user, test_ratio, estMethod, simMeas):\n",
    "\n",
    "\tdataMat = np.array(dataMat)\n",
    "\tnumber_of_items = np.shape(dataMat)[1]\n",
    "\trated_items_by_user = np.array([i for i in range(number_of_items) if dataMat[user, i] > 0])\n",
    "\ttest_size = int(test_ratio * len(rated_items_by_user))\n",
    "\ttest_indices = np.random.randint(0, len(rated_items_by_user), test_size)\n",
    "\twithheld_items = rated_items_by_user[test_indices]\n",
    "\toriginal_user_profile = np.copy(dataMat[user])\n",
    "\tdataMat[user, withheld_items] = 0\n",
    "\terror_u = 0.0\n",
    "\tcount_u = len(withheld_items)\n",
    "\n",
    "\tfor item in withheld_items:\n",
    "\t\testimatedScore = estMethod(dataMat, user, simMeas, item)\n",
    "\t\terror_u = error_u + abs(estimatedScore - original_user_profile[item])\t\n",
    "\t\n",
    "\tfor item in withheld_items:\n",
    "\t\tdataMat[user, item] = original_user_profile[item]\n",
    "\n",
    "\treturn error_u, count_u"
   ]
  },
  {
   "cell_type": "code",
   "execution_count": 32,
   "metadata": {},
   "outputs": [],
   "source": [
    "# Function to perform testing of a recommendation system using cross-validation\n",
    "def test(dataMat, test_ratio, estMethod, simMeas):\n",
    "    \n",
    "    # Initialize total error and total test cases\n",
    "    total_error = 0.0\n",
    "    total_test_cases = 0\n",
    "\n",
    "    # Get the number of users\n",
    "    num_users = np.shape(dataMat)[0]\n",
    "    \n",
    "    for user in range(num_users):\n",
    "        \n",
    "        # Call cross_validate_user function\n",
    "        user_error, user_test_cases = cross_validate_user(dataMat, user, test_ratio, standEst, pearsonSim)\n",
    "        \n",
    "        # Accumulate the error and the number of test cases\n",
    "        total_error += user_error\n",
    "        total_test_cases += user_test_cases\n",
    "    \n",
    "    # Calculate the Mean Absolute Error\n",
    "    mae = total_error / total_test_cases\n",
    "    \n",
    "    return mae"
   ]
  },
  {
   "cell_type": "code",
   "execution_count": 33,
   "metadata": {},
   "outputs": [
    {
     "name": "stdout",
     "output_type": "stream",
     "text": [
      "Mean Absolute Error with standEst: 3.6927\n",
      "Mean Absolute Error with svdEst: 3.6816\n"
     ]
    }
   ],
   "source": [
    "# Perform evaluation \n",
    "mae_with_standEst = test(ratings, 0.2, standEst, pearsonSim)\n",
    "mae_with_svdEst = test(ratings, 0.2, svdEst, pearsonSim)\n",
    "\n",
    "print(f\"Mean Absolute Error with standEst: {mae_with_standEst:.4f}\")\n",
    "print(f\"Mean Absolute Error with svdEst: {mae_with_svdEst:.4f}\")"
   ]
  },
  {
   "cell_type": "markdown",
   "metadata": {},
   "source": [
    "---"
   ]
  },
  {
   "cell_type": "markdown",
   "metadata": {},
   "source": [
    "##### Q2.c\n",
    "1. Write a new function \"print_most_similar_jokes\" which outputs the most similar jokes to a specified query joke. \n",
    "2. Test the function by showing the top 3 most similar jokes to joke with id 9 using Pearson similarity and Cosine similarity."
   ]
  },
  {
   "cell_type": "code",
   "execution_count": 34,
   "metadata": {},
   "outputs": [],
   "source": [
    "# Function to find the most similar jokes to a specified query joke\n",
    "def print_most_similar_jokes(dataMat, jokes, queryJoke, k, metric):\n",
    "\n",
    "    # Extract the ratings vector for the query joke\n",
    "    query_ratings = dataMat[:, queryJoke]\n",
    "    \n",
    "    # Initialize a list to store similarity values\n",
    "    similarities = []\n",
    "    \n",
    "    for i in range(dataMat.shape[1]):\n",
    "\n",
    "        # Calculate the similarity between queryJoke and joke i\n",
    "        if i != queryJoke:\n",
    "            sim_score = metric(query_ratings, dataMat[:, i])\n",
    "            similarities.append((i, sim_score))  \n",
    "\n",
    "    # Sort in decreasing order\n",
    "    similarities.sort(key = lambda x: x[1], reverse = True)\n",
    "\n",
    "    print(f\"Query Joke ID: {queryJoke}\")\n",
    "    print(f\"Query Joke: {jokes[queryJoke]}\")\n",
    "    print()\n",
    "    print('===========================================================')\n",
    "    print()\n",
    "    print(f\"Top {k} Most Similar Jokes to the Query Joke\")\n",
    "    for i in range(k):\n",
    "        id, similarity = similarities[i]\n",
    "        print()\n",
    "        print(f\"ID: {id}\")\n",
    "        print(\"Joke:\", jokes[id])\n",
    "        print(f\"Similarity: {similarity:.4f}\")"
   ]
  },
  {
   "cell_type": "code",
   "execution_count": 35,
   "metadata": {},
   "outputs": [
    {
     "name": "stdout",
     "output_type": "stream",
     "text": [
      "Query Joke ID: 9\n",
      "Query Joke: Two cannibals are eating a clown one turns to other and says: \"Does this taste funny to you? \n",
      "\n",
      "===========================================================\n",
      "\n",
      "Top 3 Most Similar Jokes to the Query Joke\n",
      "\n",
      "ID: 21\n",
      "Joke: A duck walks into a pharmacy and asks for a condom. The pharmacist says\"Would you like me to stick that on your bill?\"The duck says: \"What kind of duck do you think I am!\"\n",
      "Similarity: 0.7614\n",
      "\n",
      "ID: 10\n",
      "Joke: Q. What do a hurricane a tornado and a redneck divorce all have in common? A. Someone's going to lose their trailer...\n",
      "Similarity: 0.7584\n",
      "\n",
      "ID: 54\n",
      "Joke: A woman has twins and gives them up for adoption.  One of them goes to a family in Egypt and is named \"Amal.\"  The other goes to a  family in Spain; they name him \"Juan.\"  Years later Juan sends a picture of himself to his mom.  Upon receiving the picture she tells her husband that she wishes she also had a picture of Amal.  Her husband responds \"But they are twins-if you've seen Juan you've seen   Amal.\n",
      "Similarity: 0.7541\n"
     ]
    }
   ],
   "source": [
    "# Show the top 3 most similar jokes to joke with ID 9 using Pearson similarity\n",
    "print_most_similar_jokes(ratings, jokes, 9, 3, pearsonSim)"
   ]
  },
  {
   "cell_type": "code",
   "execution_count": 36,
   "metadata": {},
   "outputs": [
    {
     "name": "stdout",
     "output_type": "stream",
     "text": [
      "Query Joke ID: 9\n",
      "Query Joke: Two cannibals are eating a clown one turns to other and says: \"Does this taste funny to you? \n",
      "\n",
      "===========================================================\n",
      "\n",
      "Top 3 Most Similar Jokes to the Query Joke\n",
      "\n",
      "ID: 10\n",
      "Joke: Q. What do a hurricane a tornado and a redneck divorce all have in common? A. Someone's going to lose their trailer...\n",
      "Similarity: 0.9290\n",
      "\n",
      "ID: 37\n",
      "Joke: May I take your order? the waiter asked. \"Yes how do you prepare your chickens?\" \"Nothing special sir\" he replied. \"We just tell them straight out that they're going to die.\"\n",
      "Similarity: 0.9284\n",
      "\n",
      "ID: 21\n",
      "Joke: A duck walks into a pharmacy and asks for a condom. The pharmacist says\"Would you like me to stick that on your bill?\"The duck says: \"What kind of duck do you think I am!\"\n",
      "Similarity: 0.9269\n"
     ]
    }
   ],
   "source": [
    "# Show the top 3 most similar jokes to joke with ID 9 using Cosine similarity\n",
    "print_most_similar_jokes(ratings, jokes, 9, 3, cosineSim)"
   ]
  },
  {
   "cell_type": "markdown",
   "metadata": {},
   "source": [
    "---"
   ]
  },
  {
   "cell_type": "markdown",
   "metadata": {},
   "source": [
    "##### Q2.d\n",
    "1. Develop an item-based collaborative filtering recommender that uses a model-based approach. \n",
    "2. Demonstrate that the function works by computing predicted ratings for users 4 and 25, using k = 10, on top two items recommended to each user on part a."
   ]
  },
  {
   "cell_type": "code",
   "execution_count": 37,
   "metadata": {},
   "outputs": [],
   "source": [
    "# Function to compute the item-item similarity matrix\n",
    "def compute_similarity_matrix(dataMat, simMeas):\n",
    "    \n",
    "    # Get the number of items\n",
    "    num_items = dataMat.shape[1]\n",
    "\n",
    "    # Initialize a similarity matrix\n",
    "    similarity_matrix = np.zeros((num_items, num_items))\n",
    "    \n",
    "    # Compute similarity between item i and item j\n",
    "    for i in range(num_items):\n",
    "        for j in range(i, num_items):\n",
    "            similarity = simMeas(dataMat[:, i], dataMat[:, j])\n",
    "            similarity_matrix[i, j] = similarity\n",
    "            similarity_matrix[j, i] = similarity\n",
    "    \n",
    "    return similarity_matrix"
   ]
  },
  {
   "cell_type": "code",
   "execution_count": 38,
   "metadata": {},
   "outputs": [],
   "source": [
    "# Function to predict a user's rating for a specific item using the similarity matrix\n",
    "def predict_rating(dataMat, target_user, item, k, similarity_matrix):\n",
    "\n",
    "    # Get the target user's ratings vector and convert it to a 1D array\n",
    "    user_ratings = np.array(dataMat[target_user, :]).flatten()\n",
    "\n",
    "    # Get the similarity values between the target item and all other items\n",
    "    item_similarities = similarity_matrix[item, :]\n",
    "\n",
    "    # Sort items in descending order\n",
    "    top_k_similar_items = np.argsort(item_similarities)[::-1][:k]\n",
    "    \n",
    "    # Initialize variables to store values\n",
    "    weighted_sum = 0.0\n",
    "    similarity_sum = 0.0\n",
    "\n",
    "    # Compute the weighted rating and absolute similarity\n",
    "    for similar_item in top_k_similar_items:\n",
    "        if user_ratings[similar_item] > 0: # Check if the user has rated\n",
    "            weighted_sum += item_similarities[similar_item] * user_ratings[similar_item]\n",
    "            similarity_sum += abs(item_similarities[similar_item])\n",
    "    \n",
    "    if similarity_sum == 0:\n",
    "        return 0\n",
    "    \n",
    "    # Calculate the predicted rating\n",
    "    predicted_rating = weighted_sum / similarity_sum\n",
    "\n",
    "    return predicted_rating"
   ]
  },
  {
   "cell_type": "code",
   "execution_count": 39,
   "metadata": {},
   "outputs": [],
   "source": [
    "# Compute the item-item similarity matrix with Pearson and Cosine similarity\n",
    "matrix_with_pearson_similarity = compute_similarity_matrix(ratings, pearsonSim)\n",
    "matrix_with_cosine_similarity = compute_similarity_matrix(ratings, cosineSim)"
   ]
  },
  {
   "cell_type": "code",
   "execution_count": 40,
   "metadata": {},
   "outputs": [],
   "source": [
    "# Set a target user, an item, and a value of k\n",
    "user_id, item, k = 4, 71, 10"
   ]
  },
  {
   "cell_type": "code",
   "execution_count": 41,
   "metadata": {},
   "outputs": [
    {
     "name": "stdout",
     "output_type": "stream",
     "text": [
      "User 4's predicted rating for item 71 with Pearson Similarity: 14.535270379352133\n"
     ]
    }
   ],
   "source": [
    "# Predict the rating for user 4 on item 71 based on the Pearson similarity\n",
    "predicted_rating = predict_rating(ratings, user_id, item, k, matrix_with_pearson_similarity)\n",
    "print(f\"User {user_id}'s predicted rating for item {item} with Pearson Similarity: {predicted_rating}\")"
   ]
  },
  {
   "cell_type": "code",
   "execution_count": 42,
   "metadata": {},
   "outputs": [
    {
     "name": "stdout",
     "output_type": "stream",
     "text": [
      "User 4's predicted rating for item 71 with Cosine Similarity: 14.767614903308031\n"
     ]
    }
   ],
   "source": [
    "# Predict the rating for user 4 on item 71 based on the Cosine similarity\n",
    "predicted_rating = predict_rating(ratings, user_id, item, k, matrix_with_cosine_similarity)\n",
    "print(f\"User {user_id}'s predicted rating for item {item} with Cosine Similarity: {predicted_rating}\")"
   ]
  },
  {
   "cell_type": "code",
   "execution_count": 43,
   "metadata": {},
   "outputs": [],
   "source": [
    "# Set a target user, an item, and a value of k\n",
    "user_id, item, k = 4, 75, 10"
   ]
  },
  {
   "cell_type": "code",
   "execution_count": 44,
   "metadata": {},
   "outputs": [
    {
     "name": "stdout",
     "output_type": "stream",
     "text": [
      "User 4's predicted rating for item 75 with Pearson Similarity: 15.291980910639897\n"
     ]
    }
   ],
   "source": [
    "# Predict the rating for user 4 on item 75 based on the Pearson similarity\n",
    "predicted_rating = predict_rating(ratings, user_id, item, k, matrix_with_pearson_similarity)\n",
    "print(f\"User {user_id}'s predicted rating for item {item} with Pearson Similarity: {predicted_rating}\")"
   ]
  },
  {
   "cell_type": "code",
   "execution_count": 45,
   "metadata": {},
   "outputs": [
    {
     "name": "stdout",
     "output_type": "stream",
     "text": [
      "User 4's predicted rating for item 75 with Cosine Similarity: 15.010723102641744\n"
     ]
    }
   ],
   "source": [
    "# Predict the rating for user 4 on item 75 based on the Cosine similarity\n",
    "predicted_rating = predict_rating(ratings, user_id, item, k, matrix_with_cosine_similarity)\n",
    "print(f\"User {user_id}'s predicted rating for item {item} with Cosine Similarity: {predicted_rating}\")"
   ]
  },
  {
   "cell_type": "code",
   "execution_count": 46,
   "metadata": {},
   "outputs": [],
   "source": [
    "# Set a target user, an item, and a value of k\n",
    "user_id, item, k = 25, 99, 10"
   ]
  },
  {
   "cell_type": "code",
   "execution_count": 47,
   "metadata": {},
   "outputs": [
    {
     "name": "stdout",
     "output_type": "stream",
     "text": [
      "User 25's predicted rating for item 99 with Pearson Similarity: 0\n"
     ]
    }
   ],
   "source": [
    "# Predict the rating for user 25 on item 99 based on the Pearson similarity\n",
    "predicted_rating = predict_rating(ratings, user_id, item, k, matrix_with_pearson_similarity)\n",
    "print(f\"User {user_id}'s predicted rating for item {item} with Pearson Similarity: {predicted_rating}\")"
   ]
  },
  {
   "cell_type": "code",
   "execution_count": 48,
   "metadata": {},
   "outputs": [
    {
     "name": "stdout",
     "output_type": "stream",
     "text": [
      "User 25's predicted rating for item 99 with Cosine Similarity: 0\n"
     ]
    }
   ],
   "source": [
    "# Predict the rating for user 25 on item 99 based on the Cosine similarity\n",
    "predicted_rating = predict_rating(ratings, user_id, item, k, matrix_with_cosine_similarity)\n",
    "print(f\"User {user_id}'s predicted rating for item {item} with Cosine Similarity: {predicted_rating}\")"
   ]
  },
  {
   "cell_type": "code",
   "execution_count": 49,
   "metadata": {},
   "outputs": [],
   "source": [
    "# Set a target user, an item, and a value of k\n",
    "user_id, item, k = 25, 71, 10"
   ]
  },
  {
   "cell_type": "code",
   "execution_count": 50,
   "metadata": {},
   "outputs": [
    {
     "name": "stdout",
     "output_type": "stream",
     "text": [
      "User 25's predicted rating for item 71 with Pearson Similarity: 13.82\n"
     ]
    }
   ],
   "source": [
    "# Predict the rating for user 25 on item 71 based on the Pearson similarity\n",
    "predicted_rating = predict_rating(ratings, user_id, item, k, matrix_with_pearson_similarity)\n",
    "print(f\"User {user_id}'s predicted rating for item {item} with Pearson Similarity: {predicted_rating}\")"
   ]
  },
  {
   "cell_type": "code",
   "execution_count": 51,
   "metadata": {},
   "outputs": [
    {
     "name": "stdout",
     "output_type": "stream",
     "text": [
      "User 25's predicted rating for item 71 with Cosine Similarity: 13.820000000000002\n"
     ]
    }
   ],
   "source": [
    "# Predict the rating for user 25 on item 71 based on the Cosine similarity\n",
    "predicted_rating = predict_rating(ratings, user_id, item, k, matrix_with_cosine_similarity)\n",
    "print(f\"User {user_id}'s predicted rating for item {item} with Cosine Similarity: {predicted_rating}\")"
   ]
  },
  {
   "cell_type": "code",
   "execution_count": null,
   "metadata": {},
   "outputs": [],
   "source": []
  }
 ],
 "metadata": {
  "kernelspec": {
   "display_name": "Python 3",
   "language": "python",
   "name": "python3"
  },
  "language_info": {
   "codemirror_mode": {
    "name": "ipython",
    "version": 3
   },
   "file_extension": ".py",
   "mimetype": "text/x-python",
   "name": "python",
   "nbconvert_exporter": "python",
   "pygments_lexer": "ipython3",
   "version": "3.9.11"
  }
 },
 "nbformat": 4,
 "nbformat_minor": 2
}
