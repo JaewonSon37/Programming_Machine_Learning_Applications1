{
 "cells": [
  {
   "cell_type": "markdown",
   "id": "29923336",
   "metadata": {},
   "source": [
    "K-Means Clustering with Yahoo Finance"
   ]
  },
  {
   "cell_type": "code",
   "execution_count": 1,
   "id": "001e709c",
   "metadata": {},
   "outputs": [],
   "source": [
    "import numpy as np\n",
    "import pandas as pd\n",
    "import yfinance as yf\n",
    "from sklearn.cluster import KMeans\n",
    "from sklearn.preprocessing import StandardScaler"
   ]
  },
  {
   "cell_type": "code",
   "execution_count": 2,
   "id": "8967c31d",
   "metadata": {},
   "outputs": [
    {
     "name": "stderr",
     "output_type": "stream",
     "text": [
      "[*********************100%***********************]  1 of 1 completed\n"
     ]
    },
    {
     "data": {
      "text/html": [
       "<div>\n",
       "<style scoped>\n",
       "    .dataframe tbody tr th:only-of-type {\n",
       "        vertical-align: middle;\n",
       "    }\n",
       "\n",
       "    .dataframe tbody tr th {\n",
       "        vertical-align: top;\n",
       "    }\n",
       "\n",
       "    .dataframe thead th {\n",
       "        text-align: right;\n",
       "    }\n",
       "</style>\n",
       "<table border=\"1\" class=\"dataframe\">\n",
       "  <thead>\n",
       "    <tr style=\"text-align: right;\">\n",
       "      <th></th>\n",
       "      <th>Open</th>\n",
       "      <th>High</th>\n",
       "      <th>Low</th>\n",
       "      <th>Close</th>\n",
       "      <th>Adj Close</th>\n",
       "      <th>Volume</th>\n",
       "    </tr>\n",
       "    <tr>\n",
       "      <th>Date</th>\n",
       "      <th></th>\n",
       "      <th></th>\n",
       "      <th></th>\n",
       "      <th></th>\n",
       "      <th></th>\n",
       "      <th></th>\n",
       "    </tr>\n",
       "  </thead>\n",
       "  <tbody>\n",
       "    <tr>\n",
       "      <th>2018-10-23</th>\n",
       "      <td>53.957500</td>\n",
       "      <td>55.812500</td>\n",
       "      <td>53.674999</td>\n",
       "      <td>55.682499</td>\n",
       "      <td>53.057514</td>\n",
       "      <td>155071200</td>\n",
       "    </tr>\n",
       "    <tr>\n",
       "      <th>2018-10-24</th>\n",
       "      <td>55.650002</td>\n",
       "      <td>56.057499</td>\n",
       "      <td>53.634998</td>\n",
       "      <td>53.772499</td>\n",
       "      <td>51.237541</td>\n",
       "      <td>163702000</td>\n",
       "    </tr>\n",
       "    <tr>\n",
       "      <th>2018-10-25</th>\n",
       "      <td>54.427502</td>\n",
       "      <td>55.345001</td>\n",
       "      <td>54.187500</td>\n",
       "      <td>54.950001</td>\n",
       "      <td>52.359531</td>\n",
       "      <td>119423200</td>\n",
       "    </tr>\n",
       "    <tr>\n",
       "      <th>2018-10-26</th>\n",
       "      <td>53.974998</td>\n",
       "      <td>55.047501</td>\n",
       "      <td>53.167500</td>\n",
       "      <td>54.075001</td>\n",
       "      <td>51.525780</td>\n",
       "      <td>189033600</td>\n",
       "    </tr>\n",
       "    <tr>\n",
       "      <th>2018-10-29</th>\n",
       "      <td>54.797501</td>\n",
       "      <td>54.922501</td>\n",
       "      <td>51.522499</td>\n",
       "      <td>53.060001</td>\n",
       "      <td>50.558636</td>\n",
       "      <td>183742000</td>\n",
       "    </tr>\n",
       "    <tr>\n",
       "      <th>...</th>\n",
       "      <td>...</td>\n",
       "      <td>...</td>\n",
       "      <td>...</td>\n",
       "      <td>...</td>\n",
       "      <td>...</td>\n",
       "      <td>...</td>\n",
       "    </tr>\n",
       "    <tr>\n",
       "      <th>2023-10-16</th>\n",
       "      <td>176.750000</td>\n",
       "      <td>179.080002</td>\n",
       "      <td>176.509995</td>\n",
       "      <td>178.720001</td>\n",
       "      <td>177.810104</td>\n",
       "      <td>52517000</td>\n",
       "    </tr>\n",
       "    <tr>\n",
       "      <th>2023-10-17</th>\n",
       "      <td>176.649994</td>\n",
       "      <td>178.419998</td>\n",
       "      <td>174.800003</td>\n",
       "      <td>177.149994</td>\n",
       "      <td>176.248108</td>\n",
       "      <td>57549400</td>\n",
       "    </tr>\n",
       "    <tr>\n",
       "      <th>2023-10-18</th>\n",
       "      <td>175.580002</td>\n",
       "      <td>177.580002</td>\n",
       "      <td>175.110001</td>\n",
       "      <td>175.839996</td>\n",
       "      <td>174.944778</td>\n",
       "      <td>54764400</td>\n",
       "    </tr>\n",
       "    <tr>\n",
       "      <th>2023-10-19</th>\n",
       "      <td>176.039993</td>\n",
       "      <td>177.839996</td>\n",
       "      <td>175.190002</td>\n",
       "      <td>175.460007</td>\n",
       "      <td>174.566727</td>\n",
       "      <td>59302900</td>\n",
       "    </tr>\n",
       "    <tr>\n",
       "      <th>2023-10-20</th>\n",
       "      <td>175.309998</td>\n",
       "      <td>175.419998</td>\n",
       "      <td>172.639999</td>\n",
       "      <td>172.880005</td>\n",
       "      <td>171.999847</td>\n",
       "      <td>64189300</td>\n",
       "    </tr>\n",
       "  </tbody>\n",
       "</table>\n",
       "<p>1257 rows × 6 columns</p>\n",
       "</div>"
      ],
      "text/plain": [
       "                  Open        High         Low       Close   Adj Close  \\\n",
       "Date                                                                     \n",
       "2018-10-23   53.957500   55.812500   53.674999   55.682499   53.057514   \n",
       "2018-10-24   55.650002   56.057499   53.634998   53.772499   51.237541   \n",
       "2018-10-25   54.427502   55.345001   54.187500   54.950001   52.359531   \n",
       "2018-10-26   53.974998   55.047501   53.167500   54.075001   51.525780   \n",
       "2018-10-29   54.797501   54.922501   51.522499   53.060001   50.558636   \n",
       "...                ...         ...         ...         ...         ...   \n",
       "2023-10-16  176.750000  179.080002  176.509995  178.720001  177.810104   \n",
       "2023-10-17  176.649994  178.419998  174.800003  177.149994  176.248108   \n",
       "2023-10-18  175.580002  177.580002  175.110001  175.839996  174.944778   \n",
       "2023-10-19  176.039993  177.839996  175.190002  175.460007  174.566727   \n",
       "2023-10-20  175.309998  175.419998  172.639999  172.880005  171.999847   \n",
       "\n",
       "               Volume  \n",
       "Date                   \n",
       "2018-10-23  155071200  \n",
       "2018-10-24  163702000  \n",
       "2018-10-25  119423200  \n",
       "2018-10-26  189033600  \n",
       "2018-10-29  183742000  \n",
       "...               ...  \n",
       "2023-10-16   52517000  \n",
       "2023-10-17   57549400  \n",
       "2023-10-18   54764400  \n",
       "2023-10-19   59302900  \n",
       "2023-10-20   64189300  \n",
       "\n",
       "[1257 rows x 6 columns]"
      ]
     },
     "metadata": {},
     "output_type": "display_data"
    }
   ],
   "source": [
    "# Get 5 years of data for AAPL\n",
    "start_date = '2018-10-23'\n",
    "end_date = '2023-10-23'\n",
    "aapl = yf.download('AAPL', start = start_date, end = end_date)\n",
    "display(aapl)"
   ]
  },
  {
   "cell_type": "code",
   "execution_count": 3,
   "id": "127b0898",
   "metadata": {},
   "outputs": [],
   "source": [
    "# Create a DataFrame and calculate the required columns\n",
    "df = pd.DataFrame(aapl)\n",
    "df['Close/30Day_MA'] = df['Adj Close'] / df['Adj Close'].rolling(window = 30).mean()\n",
    "df['Future_5day_Percent_Change'] = df['Adj Close'].pct_change(periods = 5).shift(-5)\n",
    "df['30Day_Rolling_Volatility'] = df['Adj Close'].pct_change().rolling(window = 30).std()"
   ]
  },
  {
   "cell_type": "code",
   "execution_count": 4,
   "id": "eebec0af",
   "metadata": {},
   "outputs": [],
   "source": [
    "# Drop rows with NaN values\n",
    "df = df.dropna()"
   ]
  },
  {
   "cell_type": "code",
   "execution_count": 5,
   "id": "5f711d67",
   "metadata": {},
   "outputs": [],
   "source": [
    "# Prepare data for clustering\n",
    "X = df[['Close/30Day_MA', 'Future_5day_Percent_Change', '30Day_Rolling_Volatility']]"
   ]
  },
  {
   "cell_type": "code",
   "execution_count": 6,
   "id": "c5a24517",
   "metadata": {},
   "outputs": [],
   "source": [
    "# Standardize the features\n",
    "scaler = StandardScaler()\n",
    "X_scaled = scaler.fit_transform(X)"
   ]
  },
  {
   "cell_type": "code",
   "execution_count": 7,
   "id": "e6ade006",
   "metadata": {},
   "outputs": [
    {
     "name": "stderr",
     "output_type": "stream",
     "text": [
      "c:\\Users\\wodnj\\AppData\\Local\\Programs\\Python\\Python39\\lib\\site-packages\\joblib\\externals\\loky\\backend\\context.py:136: UserWarning: Could not find the number of physical cores for the following reason:\n",
      "found 0 physical cores < 1\n",
      "Returning the number of logical cores instead. You can silence this warning by setting LOKY_MAX_CPU_COUNT to the number of cores you want to use.\n",
      "  warnings.warn(\n",
      "  File \"c:\\Users\\wodnj\\AppData\\Local\\Programs\\Python\\Python39\\lib\\site-packages\\joblib\\externals\\loky\\backend\\context.py\", line 282, in _count_physical_cores\n",
      "    raise ValueError(f\"found {cpu_count_physical} physical cores < 1\")\n"
     ]
    }
   ],
   "source": [
    "# Perform K-means clustering\n",
    "kmeans = KMeans(n_clusters = 3, random_state = 0)\n",
    "df['Cluster'] = kmeans.fit_predict(X_scaled)"
   ]
  },
  {
   "cell_type": "code",
   "execution_count": 8,
   "id": "8c8161f6",
   "metadata": {},
   "outputs": [
    {
     "data": {
      "text/html": [
       "<div>\n",
       "<style scoped>\n",
       "    .dataframe tbody tr th:only-of-type {\n",
       "        vertical-align: middle;\n",
       "    }\n",
       "\n",
       "    .dataframe tbody tr th {\n",
       "        vertical-align: top;\n",
       "    }\n",
       "\n",
       "    .dataframe thead th {\n",
       "        text-align: right;\n",
       "    }\n",
       "</style>\n",
       "<table border=\"1\" class=\"dataframe\">\n",
       "  <thead>\n",
       "    <tr style=\"text-align: right;\">\n",
       "      <th></th>\n",
       "      <th>Close/30Day_MA</th>\n",
       "      <th>Future_5day_Percent_Change</th>\n",
       "      <th>30Day_Rolling_Volatility</th>\n",
       "    </tr>\n",
       "  </thead>\n",
       "  <tbody>\n",
       "    <tr>\n",
       "      <th>0</th>\n",
       "      <td>-0.606065</td>\n",
       "      <td>-0.958580</td>\n",
       "      <td>0.149070</td>\n",
       "    </tr>\n",
       "    <tr>\n",
       "      <th>1</th>\n",
       "      <td>-1.013309</td>\n",
       "      <td>1.024339</td>\n",
       "      <td>1.321958</td>\n",
       "    </tr>\n",
       "    <tr>\n",
       "      <th>2</th>\n",
       "      <td>0.603300</td>\n",
       "      <td>0.262265</td>\n",
       "      <td>-0.430937</td>\n",
       "    </tr>\n",
       "  </tbody>\n",
       "</table>\n",
       "</div>"
      ],
      "text/plain": [
       "   Close/30Day_MA  Future_5day_Percent_Change  30Day_Rolling_Volatility\n",
       "0       -0.606065                   -0.958580                  0.149070\n",
       "1       -1.013309                    1.024339                  1.321958\n",
       "2        0.603300                    0.262265                 -0.430937"
      ]
     },
     "metadata": {},
     "output_type": "display_data"
    }
   ],
   "source": [
    "# Show centroids in original scale\n",
    "centroids = kmeans.cluster_centers_\n",
    "dfcentroids = pd.DataFrame(centroids, columns = X.columns)\n",
    "display(dfcentroids)"
   ]
  },
  {
   "cell_type": "code",
   "execution_count": 9,
   "id": "c82d532a",
   "metadata": {},
   "outputs": [
    {
     "data": {
      "text/html": [
       "<div>\n",
       "<style scoped>\n",
       "    .dataframe tbody tr th:only-of-type {\n",
       "        vertical-align: middle;\n",
       "    }\n",
       "\n",
       "    .dataframe tbody tr th {\n",
       "        vertical-align: top;\n",
       "    }\n",
       "\n",
       "    .dataframe thead th {\n",
       "        text-align: right;\n",
       "    }\n",
       "</style>\n",
       "<table border=\"1\" class=\"dataframe\">\n",
       "  <thead>\n",
       "    <tr style=\"text-align: right;\">\n",
       "      <th></th>\n",
       "      <th>Close/30Day_MA</th>\n",
       "      <th>Future_5day_Percent_Change</th>\n",
       "      <th>30Day_Rolling_Volatility</th>\n",
       "    </tr>\n",
       "  </thead>\n",
       "  <tbody>\n",
       "    <tr>\n",
       "      <th>0</th>\n",
       "      <td>0.980709</td>\n",
       "      <td>-0.032836</td>\n",
       "      <td>0.020458</td>\n",
       "    </tr>\n",
       "    <tr>\n",
       "      <th>1</th>\n",
       "      <td>0.956208</td>\n",
       "      <td>0.049259</td>\n",
       "      <td>0.030357</td>\n",
       "    </tr>\n",
       "    <tr>\n",
       "      <th>2</th>\n",
       "      <td>1.053467</td>\n",
       "      <td>0.017708</td>\n",
       "      <td>0.015562</td>\n",
       "    </tr>\n",
       "  </tbody>\n",
       "</table>\n",
       "</div>"
      ],
      "text/plain": [
       "   Close/30Day_MA  Future_5day_Percent_Change  30Day_Rolling_Volatility\n",
       "0        0.980709                   -0.032836                  0.020458\n",
       "1        0.956208                    0.049259                  0.030357\n",
       "2        1.053467                    0.017708                  0.015562"
      ]
     },
     "metadata": {},
     "output_type": "display_data"
    }
   ],
   "source": [
    "# Transform centroids back to the original scale\n",
    "original_scale_centroids = scaler.inverse_transform(centroids)\n",
    "dforiginal_scale_centroids = pd.DataFrame(original_scale_centroids, columns = X.columns)\n",
    "display(dforiginal_scale_centroids)"
   ]
  },
  {
   "cell_type": "code",
   "execution_count": null,
   "id": "ab0d8da3-ca70-4e18-8c6d-91175ed195ed",
   "metadata": {},
   "outputs": [],
   "source": []
  }
 ],
 "metadata": {
  "kernelspec": {
   "display_name": "Python 3 (ipykernel)",
   "language": "python",
   "name": "python3"
  },
  "language_info": {
   "codemirror_mode": {
    "name": "ipython",
    "version": 3
   },
   "file_extension": ".py",
   "mimetype": "text/x-python",
   "name": "python",
   "nbconvert_exporter": "python",
   "pygments_lexer": "ipython3",
   "version": "3.9.11"
  }
 },
 "nbformat": 4,
 "nbformat_minor": 5
}
