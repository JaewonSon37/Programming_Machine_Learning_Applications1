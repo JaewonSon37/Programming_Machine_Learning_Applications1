{
 "cells": [
  {
   "cell_type": "markdown",
   "id": "9af6ac15",
   "metadata": {},
   "source": [
    "### Hyperparameter Tuning of a Neural Network Model"
   ]
  },
  {
   "cell_type": "code",
   "execution_count": 1,
   "id": "bec5a35c",
   "metadata": {},
   "outputs": [],
   "source": [
    "import numpy as np\n",
    "\n",
    "from tensorflow.keras.models import Sequential\n",
    "from tensorflow.keras.layers import Dense, Dropout\n",
    "from tensorflow.keras.optimizers import Adam\n",
    "from scikeras.wrappers import KerasClassifier\n",
    "from sklearn.model_selection import RandomizedSearchCV\n",
    "from sklearn.datasets import make_classification\n",
    "from sklearn.preprocessing import StandardScaler"
   ]
  },
  {
   "cell_type": "code",
   "execution_count": 2,
   "id": "d9bf51a0",
   "metadata": {},
   "outputs": [],
   "source": [
    "# Generate a sample dataset\n",
    "X, y = make_classification(n_samples = 1000, n_features = 20, n_classes = 2, random_state = 42)"
   ]
  },
  {
   "cell_type": "code",
   "execution_count": 3,
   "id": "d2ab738c",
   "metadata": {},
   "outputs": [],
   "source": [
    "# Preprocess the data by scaling the features\n",
    "scaler = StandardScaler()\n",
    "X = scaler.fit_transform(X)"
   ]
  },
  {
   "cell_type": "code",
   "execution_count": 4,
   "id": "b234524e",
   "metadata": {},
   "outputs": [],
   "source": [
    "# Define the model-building function\n",
    "def create_model(n_layers = 1, n_units = 32, dropout_rate = 0.2, learning_rate = 0.001):\n",
    "\n",
    "    model = Sequential()\n",
    "\n",
    "    # Set the first hidden layer\n",
    "    model.add(Dense(n_units, activation = 'relu', input_shape = (20,)))\n",
    "    model.add(Dropout(dropout_rate))\n",
    "    \n",
    "    # Set additional hidden layers\n",
    "    for _ in range(n_layers - 1):\n",
    "        model.add(Dense(n_units, activation = 'relu'))\n",
    "        model.add(Dropout(dropout_rate))\n",
    "    \n",
    "    # Set the output layer\n",
    "    model.add(Dense(1, activation = 'sigmoid'))\n",
    "    \n",
    "    # Define the optimizer\n",
    "    optimizer = Adam(learning_rate = learning_rate)\n",
    "\n",
    "    # Compile the model\n",
    "    model.compile(optimizer = optimizer, loss = 'binary_crossentropy', metrics = ['accuracy'])\n",
    "    \n",
    "    return model"
   ]
  },
  {
   "cell_type": "code",
   "execution_count": 5,
   "id": "6fa82241",
   "metadata": {},
   "outputs": [],
   "source": [
    "# Create the KerasClassifier\n",
    "model = KerasClassifier(model = create_model, verbose = 0)"
   ]
  },
  {
   "cell_type": "code",
   "execution_count": 6,
   "id": "0f34e3ea",
   "metadata": {},
   "outputs": [],
   "source": [
    "# Define the hyperparameter search space\n",
    "search_space = {'model__n_layers': [1, 2, 3],\n",
    "                'model__n_units': [16, 32, 64, 128],\n",
    "                'model__dropout_rate': [0.1, 0.2, 0.3, 0.4],\n",
    "                'model__learning_rate': [0.001, 0.01, 0.1],\n",
    "                'batch_size': [16, 32, 64],\n",
    "                'epochs': [50, 100, 150]}"
   ]
  },
  {
   "cell_type": "code",
   "execution_count": 7,
   "id": "9c9acf7c",
   "metadata": {},
   "outputs": [
    {
     "name": "stdout",
     "output_type": "stream",
     "text": [
      "Fitting 3 folds for each of 40 candidates, totalling 120 fits\n"
     ]
    },
    {
     "name": "stderr",
     "output_type": "stream",
     "text": [
      "c:\\Users\\wodnj\\AppData\\Local\\Programs\\Python\\Python39\\lib\\site-packages\\keras\\src\\layers\\core\\dense.py:87: UserWarning: Do not pass an `input_shape`/`input_dim` argument to a layer. When using Sequential models, prefer using an `Input(shape)` object as the first layer in the model instead.\n",
      "  super().__init__(activity_regularizer=activity_regularizer, **kwargs)\n"
     ]
    },
    {
     "name": "stdout",
     "output_type": "stream",
     "text": [
      "Best Parameters: {'model__n_units': 16, 'model__n_layers': 2, 'model__learning_rate': 0.001, 'model__dropout_rate': 0.3, 'epochs': 50, 'batch_size': 16}\n",
      "Best Cross-Validation Score: 0.8699777621933311\n"
     ]
    }
   ],
   "source": [
    "# Create the RandomizedSearchCV object\n",
    "random_search = RandomizedSearchCV(estimator = model,\n",
    "                                   param_distributions = search_space,\n",
    "                                   n_iter = 40,\n",
    "                                   cv = 3,\n",
    "                                   verbose = 2,\n",
    "                                   n_jobs = -1,\n",
    "                                   random_state = 42)\n",
    "\n",
    "# Perform the random search and fit the model\n",
    "random_search_result = random_search.fit(X, y)\n",
    "\n",
    "# Print the best hyperparameters and the best cross-validation score\n",
    "print(\"Best Parameters:\", random_search_result.best_params_)\n",
    "print(\"Best Cross-Validation Score:\", random_search_result.best_score_)"
   ]
  },
  {
   "cell_type": "code",
   "execution_count": 8,
   "id": "8733fa44-76b8-4152-9b2f-3e95b72e33a5",
   "metadata": {},
   "outputs": [
    {
     "name": "stdout",
     "output_type": "stream",
     "text": [
      "Accuracy from the Best Model: 0.906\n"
     ]
    }
   ],
   "source": [
    "# Evaluate the best model on the entire dataset\n",
    "best_model = random_search_result.best_estimator_\n",
    "score = best_model.score(X, y)\n",
    "print(\"Accuracy from the Best Model:\", best_model.score(X, y))"
   ]
  },
  {
   "cell_type": "code",
   "execution_count": null,
   "id": "07001973-4dba-4a06-9781-47090e57c614",
   "metadata": {},
   "outputs": [],
   "source": []
  }
 ],
 "metadata": {
  "kernelspec": {
   "display_name": "Python 3 (ipykernel)",
   "language": "python",
   "name": "python3"
  },
  "language_info": {
   "codemirror_mode": {
    "name": "ipython",
    "version": 3
   },
   "file_extension": ".py",
   "mimetype": "text/x-python",
   "name": "python",
   "nbconvert_exporter": "python",
   "pygments_lexer": "ipython3",
   "version": "3.9.11"
  }
 },
 "nbformat": 4,
 "nbformat_minor": 5
}
