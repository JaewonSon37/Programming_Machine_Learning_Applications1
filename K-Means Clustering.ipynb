{
 "cells": [
  {
   "cell_type": "code",
   "execution_count": 1,
   "metadata": {
    "scrolled": true
   },
   "outputs": [],
   "source": [
    "import pandas as pd\n",
    "import numpy as np\n",
    "import pylab as pl\n",
    "from matplotlib import cm\n",
    "from sklearn import metrics\n",
    "from sklearn.metrics import silhouette_samples, completeness_score, homogeneity_score\n",
    "from sklearn.cluster import KMeans \n",
    "from sklearn.datasets import fetch_california_housing, load_iris"
   ]
  },
  {
   "cell_type": "code",
   "execution_count": 2,
   "metadata": {},
   "outputs": [],
   "source": [
    "np.set_printoptions(suppress = True, precision = 2, linewidth = 120) # Set global print options\n",
    "pd.options.display.float_format = '{:,.2f}'.format # Set the global display option"
   ]
  },
  {
   "cell_type": "markdown",
   "metadata": {},
   "source": [
    "Clustering with California Housing Data"
   ]
  },
  {
   "cell_type": "code",
   "execution_count": 3,
   "metadata": {
    "scrolled": true
   },
   "outputs": [
    {
     "name": "stdout",
     "output_type": "stream",
     "text": [
      "[[   8.33   41.      6.98    1.02  322.      2.56   37.88 -122.23]\n",
      " [   8.3    21.      6.24    0.97 2401.      2.11   37.86 -122.22]\n",
      " [   7.26   52.      8.29    1.07  496.      2.8    37.85 -122.24]\n",
      " [   5.64   52.      5.82    1.07  558.      2.55   37.85 -122.25]\n",
      " [   3.85   52.      6.28    1.08  565.      2.18   37.85 -122.25]]\n"
     ]
    }
   ],
   "source": [
    "# Fetch the dataset\n",
    "housing = fetch_california_housing()\n",
    "print(housing.data[:5])"
   ]
  },
  {
   "cell_type": "code",
   "execution_count": 4,
   "metadata": {
    "scrolled": true
   },
   "outputs": [
    {
     "name": "stdout",
     "output_type": "stream",
     "text": [
      "['MedInc', 'HouseAge', 'AveRooms', 'AveBedrms', 'Population', 'AveOccup', 'Latitude', 'Longitude']\n"
     ]
    }
   ],
   "source": [
    "print(housing.feature_names)"
   ]
  },
  {
   "cell_type": "code",
   "execution_count": 5,
   "metadata": {
    "scrolled": true
   },
   "outputs": [
    {
     "data": {
      "text/html": [
       "<div>\n",
       "<style scoped>\n",
       "    .dataframe tbody tr th:only-of-type {\n",
       "        vertical-align: middle;\n",
       "    }\n",
       "\n",
       "    .dataframe tbody tr th {\n",
       "        vertical-align: top;\n",
       "    }\n",
       "\n",
       "    .dataframe thead th {\n",
       "        text-align: right;\n",
       "    }\n",
       "</style>\n",
       "<table border=\"1\" class=\"dataframe\">\n",
       "  <thead>\n",
       "    <tr style=\"text-align: right;\">\n",
       "      <th></th>\n",
       "      <th>MedInc</th>\n",
       "      <th>HouseAge</th>\n",
       "      <th>AveRooms</th>\n",
       "      <th>AveBedrms</th>\n",
       "      <th>Population</th>\n",
       "      <th>AveOccup</th>\n",
       "      <th>Latitude</th>\n",
       "      <th>Longitude</th>\n",
       "    </tr>\n",
       "  </thead>\n",
       "  <tbody>\n",
       "    <tr>\n",
       "      <th>0</th>\n",
       "      <td>8.33</td>\n",
       "      <td>41.00</td>\n",
       "      <td>6.98</td>\n",
       "      <td>1.02</td>\n",
       "      <td>322.00</td>\n",
       "      <td>2.56</td>\n",
       "      <td>37.88</td>\n",
       "      <td>-122.23</td>\n",
       "    </tr>\n",
       "    <tr>\n",
       "      <th>1</th>\n",
       "      <td>8.30</td>\n",
       "      <td>21.00</td>\n",
       "      <td>6.24</td>\n",
       "      <td>0.97</td>\n",
       "      <td>2,401.00</td>\n",
       "      <td>2.11</td>\n",
       "      <td>37.86</td>\n",
       "      <td>-122.22</td>\n",
       "    </tr>\n",
       "    <tr>\n",
       "      <th>2</th>\n",
       "      <td>7.26</td>\n",
       "      <td>52.00</td>\n",
       "      <td>8.29</td>\n",
       "      <td>1.07</td>\n",
       "      <td>496.00</td>\n",
       "      <td>2.80</td>\n",
       "      <td>37.85</td>\n",
       "      <td>-122.24</td>\n",
       "    </tr>\n",
       "    <tr>\n",
       "      <th>3</th>\n",
       "      <td>5.64</td>\n",
       "      <td>52.00</td>\n",
       "      <td>5.82</td>\n",
       "      <td>1.07</td>\n",
       "      <td>558.00</td>\n",
       "      <td>2.55</td>\n",
       "      <td>37.85</td>\n",
       "      <td>-122.25</td>\n",
       "    </tr>\n",
       "    <tr>\n",
       "      <th>4</th>\n",
       "      <td>3.85</td>\n",
       "      <td>52.00</td>\n",
       "      <td>6.28</td>\n",
       "      <td>1.08</td>\n",
       "      <td>565.00</td>\n",
       "      <td>2.18</td>\n",
       "      <td>37.85</td>\n",
       "      <td>-122.25</td>\n",
       "    </tr>\n",
       "  </tbody>\n",
       "</table>\n",
       "</div>"
      ],
      "text/plain": [
       "   MedInc  HouseAge  AveRooms  AveBedrms  Population  AveOccup  Latitude  \\\n",
       "0    8.33     41.00      6.98       1.02      322.00      2.56     37.88   \n",
       "1    8.30     21.00      6.24       0.97    2,401.00      2.11     37.86   \n",
       "2    7.26     52.00      8.29       1.07      496.00      2.80     37.85   \n",
       "3    5.64     52.00      5.82       1.07      558.00      2.55     37.85   \n",
       "4    3.85     52.00      6.28       1.08      565.00      2.18     37.85   \n",
       "\n",
       "   Longitude  \n",
       "0    -122.23  \n",
       "1    -122.22  \n",
       "2    -122.24  \n",
       "3    -122.25  \n",
       "4    -122.25  "
      ]
     },
     "execution_count": 5,
     "metadata": {},
     "output_type": "execute_result"
    }
   ],
   "source": [
    "# Create a Pandas DataFrame\n",
    "data = pd.DataFrame(housing.data, columns = housing.feature_names)\n",
    "data.head(5)"
   ]
  },
  {
   "cell_type": "code",
   "execution_count": 6,
   "metadata": {
    "scrolled": true
   },
   "outputs": [
    {
     "name": "stderr",
     "output_type": "stream",
     "text": [
      "c:\\Users\\wodnj\\AppData\\Local\\Programs\\Python\\Python39\\lib\\site-packages\\joblib\\externals\\loky\\backend\\context.py:136: UserWarning: Could not find the number of physical cores for the following reason:\n",
      "found 0 physical cores < 1\n",
      "Returning the number of logical cores instead. You can silence this warning by setting LOKY_MAX_CPU_COUNT to the number of cores you want to use.\n",
      "  warnings.warn(\n",
      "  File \"c:\\Users\\wodnj\\AppData\\Local\\Programs\\Python\\Python39\\lib\\site-packages\\joblib\\externals\\loky\\backend\\context.py\", line 282, in _count_physical_cores\n",
      "    raise ValueError(f\"found {cpu_count_physical} physical cores < 1\")\n"
     ]
    }
   ],
   "source": [
    "kmeans = KMeans(n_clusters = 5, max_iter = 500, verbose = 0) # Initialize the K-Means clustering\n",
    "kmeans.fit(data) # Fit the model\n",
    "clusters = kmeans.predict(data) # Predict the clusters"
   ]
  },
  {
   "cell_type": "code",
   "execution_count": 7,
   "metadata": {},
   "outputs": [
    {
     "data": {
      "text/plain": [
       "Cluster\n",
       "1          10804\n",
       "2           7343\n",
       "0           2086\n",
       "4            384\n",
       "3             23\n",
       "Name: count, dtype: int64"
      ]
     },
     "execution_count": 7,
     "metadata": {},
     "output_type": "execute_result"
    }
   ],
   "source": [
    "dfCluster = pd.DataFrame(clusters, columns = [\"Cluster\"])\n",
    "dfCluster.value_counts() # Count the number of occurrences of each cluster label"
   ]
  },
  {
   "cell_type": "code",
   "execution_count": 8,
   "metadata": {},
   "outputs": [
    {
     "data": {
      "text/html": [
       "<div>\n",
       "<style scoped>\n",
       "    .dataframe tbody tr th:only-of-type {\n",
       "        vertical-align: middle;\n",
       "    }\n",
       "\n",
       "    .dataframe tbody tr th {\n",
       "        vertical-align: top;\n",
       "    }\n",
       "\n",
       "    .dataframe thead th {\n",
       "        text-align: right;\n",
       "    }\n",
       "</style>\n",
       "<table border=\"1\" class=\"dataframe\">\n",
       "  <thead>\n",
       "    <tr style=\"text-align: right;\">\n",
       "      <th></th>\n",
       "      <th>MedInc</th>\n",
       "      <th>HouseAge</th>\n",
       "      <th>AveRooms</th>\n",
       "      <th>AveBedrms</th>\n",
       "      <th>Population</th>\n",
       "      <th>AveOccup</th>\n",
       "      <th>Latitude</th>\n",
       "      <th>Longitude</th>\n",
       "    </tr>\n",
       "  </thead>\n",
       "  <tbody>\n",
       "    <tr>\n",
       "      <th>0</th>\n",
       "      <td>3.85</td>\n",
       "      <td>21.07</td>\n",
       "      <td>5.13</td>\n",
       "      <td>1.07</td>\n",
       "      <td>3,074.06</td>\n",
       "      <td>3.52</td>\n",
       "      <td>35.20</td>\n",
       "      <td>-119.18</td>\n",
       "    </tr>\n",
       "    <tr>\n",
       "      <th>1</th>\n",
       "      <td>3.92</td>\n",
       "      <td>31.68</td>\n",
       "      <td>5.65</td>\n",
       "      <td>1.13</td>\n",
       "      <td>767.75</td>\n",
       "      <td>2.79</td>\n",
       "      <td>35.87</td>\n",
       "      <td>-119.76</td>\n",
       "    </tr>\n",
       "    <tr>\n",
       "      <th>2</th>\n",
       "      <td>3.79</td>\n",
       "      <td>27.10</td>\n",
       "      <td>5.19</td>\n",
       "      <td>1.06</td>\n",
       "      <td>1,640.97</td>\n",
       "      <td>3.06</td>\n",
       "      <td>35.44</td>\n",
       "      <td>-119.44</td>\n",
       "    </tr>\n",
       "    <tr>\n",
       "      <th>3</th>\n",
       "      <td>4.75</td>\n",
       "      <td>9.09</td>\n",
       "      <td>6.16</td>\n",
       "      <td>1.06</td>\n",
       "      <td>14,014.61</td>\n",
       "      <td>3.60</td>\n",
       "      <td>35.14</td>\n",
       "      <td>-119.08</td>\n",
       "    </tr>\n",
       "    <tr>\n",
       "      <th>4</th>\n",
       "      <td>4.10</td>\n",
       "      <td>14.69</td>\n",
       "      <td>5.42</td>\n",
       "      <td>1.07</td>\n",
       "      <td>6,100.53</td>\n",
       "      <td>8.67</td>\n",
       "      <td>35.14</td>\n",
       "      <td>-119.02</td>\n",
       "    </tr>\n",
       "  </tbody>\n",
       "</table>\n",
       "</div>"
      ],
      "text/plain": [
       "   MedInc  HouseAge  AveRooms  AveBedrms  Population  AveOccup  Latitude  \\\n",
       "0    3.85     21.07      5.13       1.07    3,074.06      3.52     35.20   \n",
       "1    3.92     31.68      5.65       1.13      767.75      2.79     35.87   \n",
       "2    3.79     27.10      5.19       1.06    1,640.97      3.06     35.44   \n",
       "3    4.75      9.09      6.16       1.06   14,014.61      3.60     35.14   \n",
       "4    4.10     14.69      5.42       1.07    6,100.53      8.67     35.14   \n",
       "\n",
       "   Longitude  \n",
       "0    -119.18  \n",
       "1    -119.76  \n",
       "2    -119.44  \n",
       "3    -119.08  \n",
       "4    -119.02  "
      ]
     },
     "execution_count": 8,
     "metadata": {},
     "output_type": "execute_result"
    }
   ],
   "source": [
    "# Create centroids from the K-Means\n",
    "centroids = pd.DataFrame(kmeans.cluster_centers_, columns = housing.feature_names)\n",
    "centroids"
   ]
  },
  {
   "cell_type": "code",
   "execution_count": 9,
   "metadata": {},
   "outputs": [],
   "source": [
    "def cluster_sizes(clusters):\n",
    "    \n",
    "    # Initialize an empty dictionary to store the size of each cluster\n",
    "    size = {}\n",
    "\n",
    "    # Get the unique cluster labels\n",
    "    cluster_labels = np.unique(clusters)\n",
    "\n",
    "    # Determine the number of unique clusters\n",
    "    n_clusters = cluster_labels.shape[0]\n",
    "\n",
    "    # Count how many data points belong to each cluster and store this count in the dictionary\n",
    "    for c in cluster_labels:\n",
    "        size[c] = len(data[clusters == c])\n",
    "        \n",
    "    return size"
   ]
  },
  {
   "cell_type": "code",
   "execution_count": 10,
   "metadata": {},
   "outputs": [
    {
     "name": "stdout",
     "output_type": "stream",
     "text": [
      "Size of Cluster 0 = 2086\n",
      "Size of Cluster 1 = 10804\n",
      "Size of Cluster 2 = 7343\n",
      "Size of Cluster 3 = 23\n",
      "Size of Cluster 4 = 384\n"
     ]
    }
   ],
   "source": [
    "# Call the function\n",
    "size = cluster_sizes(clusters)\n",
    "\n",
    "for c in size.keys():\n",
    "    print(\"Size of Cluster\", c, \"=\", size[c])"
   ]
  },
  {
   "cell_type": "code",
   "execution_count": 11,
   "metadata": {},
   "outputs": [
    {
     "name": "stdout",
     "output_type": "stream",
     "text": [
      "0.556361516841067\n"
     ]
    }
   ],
   "source": [
    "# Calculate the silhouette scores\n",
    "silhouettes = metrics.silhouette_samples(data, clusters)\n",
    "print(silhouettes.mean())"
   ]
  },
  {
   "cell_type": "code",
   "execution_count": 12,
   "metadata": {},
   "outputs": [],
   "source": [
    "def plot_silhouettes(data, clusters):\n",
    "    \n",
    "    # Get the unique cluster labels and the number of clusters\n",
    "    cluster_labels = np.unique(clusters)\n",
    "    n_clusters = cluster_labels.shape[0]\n",
    "\n",
    "    # Calculate the silhouette values\n",
    "    silhouette_vals = metrics.silhouette_samples(data, clusters, metric = 'euclidean')\n",
    "    \n",
    "    # Initialize variables to track the lower and upper bounds\n",
    "    c_ax_lower, c_ax_upper = 0, 0\n",
    "\n",
    "    # List to store the tick positions for cluster labels\n",
    "    cticks = []\n",
    "\n",
    "    for i, k in enumerate(cluster_labels):\n",
    "\n",
    "        # Get the silhouette values for the current cluster 'k'\n",
    "        c_silhouette_vals = silhouette_vals[clusters == k]\n",
    "        c_silhouette_vals.sort()\n",
    "\n",
    "        # Calculate the upper bound\n",
    "        c_ax_upper += len(c_silhouette_vals)\n",
    "\n",
    "        # Plot the horizontal bars for the current cluster's silhouette values\n",
    "        color = cm.jet(float(i) / n_clusters)\n",
    "        pl.barh(range(c_ax_lower, c_ax_upper), c_silhouette_vals, height = 1.0, edgecolor = 'none', color = color)\n",
    "\n",
    "        # Append the center position for the current cluster\n",
    "        cticks.append((c_ax_lower + c_ax_upper) / 2)\n",
    "\n",
    "        # Update the lower bound\n",
    "        c_ax_lower += len(c_silhouette_vals)\n",
    "    \n",
    "    # Calculate the average silhouette score\n",
    "    silhouette_avg = np.mean(silhouette_vals)\n",
    "\n",
    "    # Plot a vertical line at the average silhouette score\n",
    "    pl.axvline(silhouette_avg, color = \"red\", linestyle = \"--\") \n",
    "    pl.yticks(cticks, cluster_labels)\n",
    "    pl.ylabel('Cluster')\n",
    "    pl.xlabel('Silhouette Coefficient')\n",
    "    pl.tight_layout()\n",
    "    pl.show()\n",
    "    \n",
    "    return"
   ]
  },
  {
   "cell_type": "code",
   "execution_count": 13,
   "metadata": {},
   "outputs": [
    {
     "data": {
      "image/png": "[encoded data removed]",
      "text/plain": [
       "<Figure size 640x480 with 1 Axes>"
      ]
     },
     "metadata": {},
     "output_type": "display_data"
    }
   ],
   "source": [
    "# Call the function\n",
    "plot_silhouettes(data, clusters)"
   ]
  },
  {
   "cell_type": "markdown",
   "metadata": {},
   "source": [
    "Clustering with Iris Plant Data"
   ]
  },
  {
   "cell_type": "code",
   "execution_count": 14,
   "metadata": {
    "scrolled": true
   },
   "outputs": [],
   "source": [
    "# Load the dataset\n",
    "iris = load_iris()"
   ]
  },
  {
   "cell_type": "code",
   "execution_count": 15,
   "metadata": {
    "scrolled": true
   },
   "outputs": [],
   "source": [
    "data = iris.data # Extract the feature data\n",
    "target = iris.target # Extract the target labels"
   ]
  },
  {
   "cell_type": "code",
   "execution_count": 16,
   "metadata": {
    "scrolled": true
   },
   "outputs": [
    {
     "data": {
      "text/html": [
       "<div>\n",
       "<style scoped>\n",
       "    .dataframe tbody tr th:only-of-type {\n",
       "        vertical-align: middle;\n",
       "    }\n",
       "\n",
       "    .dataframe tbody tr th {\n",
       "        vertical-align: top;\n",
       "    }\n",
       "\n",
       "    .dataframe thead th {\n",
       "        text-align: right;\n",
       "    }\n",
       "</style>\n",
       "<table border=\"1\" class=\"dataframe\">\n",
       "  <thead>\n",
       "    <tr style=\"text-align: right;\">\n",
       "      <th></th>\n",
       "      <th>sepal length (cm)</th>\n",
       "      <th>sepal width (cm)</th>\n",
       "      <th>petal length (cm)</th>\n",
       "      <th>petal width (cm)</th>\n",
       "    </tr>\n",
       "  </thead>\n",
       "  <tbody>\n",
       "    <tr>\n",
       "      <th>0</th>\n",
       "      <td>5.10</td>\n",
       "      <td>3.50</td>\n",
       "      <td>1.40</td>\n",
       "      <td>0.20</td>\n",
       "    </tr>\n",
       "    <tr>\n",
       "      <th>1</th>\n",
       "      <td>4.90</td>\n",
       "      <td>3.00</td>\n",
       "      <td>1.40</td>\n",
       "      <td>0.20</td>\n",
       "    </tr>\n",
       "    <tr>\n",
       "      <th>2</th>\n",
       "      <td>4.70</td>\n",
       "      <td>3.20</td>\n",
       "      <td>1.30</td>\n",
       "      <td>0.20</td>\n",
       "    </tr>\n",
       "    <tr>\n",
       "      <th>3</th>\n",
       "      <td>4.60</td>\n",
       "      <td>3.10</td>\n",
       "      <td>1.50</td>\n",
       "      <td>0.20</td>\n",
       "    </tr>\n",
       "    <tr>\n",
       "      <th>4</th>\n",
       "      <td>5.00</td>\n",
       "      <td>3.60</td>\n",
       "      <td>1.40</td>\n",
       "      <td>0.20</td>\n",
       "    </tr>\n",
       "  </tbody>\n",
       "</table>\n",
       "</div>"
      ],
      "text/plain": [
       "   sepal length (cm)  sepal width (cm)  petal length (cm)  petal width (cm)\n",
       "0               5.10              3.50               1.40              0.20\n",
       "1               4.90              3.00               1.40              0.20\n",
       "2               4.70              3.20               1.30              0.20\n",
       "3               4.60              3.10               1.50              0.20\n",
       "4               5.00              3.60               1.40              0.20"
      ]
     },
     "execution_count": 16,
     "metadata": {},
     "output_type": "execute_result"
    }
   ],
   "source": [
    "irisDF = pd.DataFrame(data, columns = iris.feature_names)\n",
    "irisDF.head(5)"
   ]
  },
  {
   "cell_type": "code",
   "execution_count": 17,
   "metadata": {
    "scrolled": true
   },
   "outputs": [
    {
     "data": {
      "image/png": "[encoded data removed]",
      "text/plain": [
       "<Figure size 640x480 with 1 Axes>"
      ]
     },
     "metadata": {},
     "output_type": "display_data"
    }
   ],
   "source": [
    "# Plot the data points for each species of iris flower\n",
    "pl.plot(data[target == 0, 0], data[target == 0, 2], 'bo')\n",
    "pl.plot(data[target == 1, 0], data[target == 1, 2], 'ro')\n",
    "pl.plot(data[target == 2, 0], data[target == 2, 2], 'go')\n",
    "pl.legend(('Iris-Setosa', 'Iris-Versicolour', 'Iris-Virginica'), loc = 4)\n",
    "pl.show()"
   ]
  },
  {
   "cell_type": "code",
   "execution_count": 18,
   "metadata": {
    "scrolled": true
   },
   "outputs": [
    {
     "name": "stderr",
     "output_type": "stream",
     "text": [
      "c:\\Users\\wodnj\\AppData\\Local\\Programs\\Python\\Python39\\lib\\site-packages\\sklearn\\base.py:493: UserWarning: X does not have valid feature names, but KMeans was fitted with feature names\n",
      "  warnings.warn(\n"
     ]
    }
   ],
   "source": [
    "iris_kmeans = KMeans(n_clusters = 3, max_iter = 500, verbose = 0, n_init = 5) # Initialize the K-Means clustering\n",
    "iris_kmeans.fit(irisDF) # Fit the model\n",
    "clusters = iris_kmeans.predict(data) # Predict the clusters"
   ]
  },
  {
   "cell_type": "code",
   "execution_count": 19,
   "metadata": {},
   "outputs": [
    {
     "name": "stdout",
     "output_type": "stream",
     "text": [
      "Size of Cluster 0 = 50\n",
      "Size of Cluster 1 = 61\n",
      "Size of Cluster 2 = 39\n"
     ]
    }
   ],
   "source": [
    "# Call the function\n",
    "size = cluster_sizes(clusters)\n",
    "\n",
    "for c in size.keys():\n",
    "    print(\"Size of Cluster\", c, \"=\", size[c])"
   ]
  },
  {
   "cell_type": "code",
   "execution_count": 20,
   "metadata": {},
   "outputs": [
    {
     "data": {
      "text/html": [
       "<div>\n",
       "<style scoped>\n",
       "    .dataframe tbody tr th:only-of-type {\n",
       "        vertical-align: middle;\n",
       "    }\n",
       "\n",
       "    .dataframe tbody tr th {\n",
       "        vertical-align: top;\n",
       "    }\n",
       "\n",
       "    .dataframe thead th {\n",
       "        text-align: right;\n",
       "    }\n",
       "</style>\n",
       "<table border=\"1\" class=\"dataframe\">\n",
       "  <thead>\n",
       "    <tr style=\"text-align: right;\">\n",
       "      <th></th>\n",
       "      <th>sepal length (cm)</th>\n",
       "      <th>sepal width (cm)</th>\n",
       "      <th>petal length (cm)</th>\n",
       "      <th>petal width (cm)</th>\n",
       "    </tr>\n",
       "  </thead>\n",
       "  <tbody>\n",
       "    <tr>\n",
       "      <th>0</th>\n",
       "      <td>5.01</td>\n",
       "      <td>3.43</td>\n",
       "      <td>1.46</td>\n",
       "      <td>0.25</td>\n",
       "    </tr>\n",
       "    <tr>\n",
       "      <th>1</th>\n",
       "      <td>5.88</td>\n",
       "      <td>2.74</td>\n",
       "      <td>4.39</td>\n",
       "      <td>1.43</td>\n",
       "    </tr>\n",
       "    <tr>\n",
       "      <th>2</th>\n",
       "      <td>6.85</td>\n",
       "      <td>3.08</td>\n",
       "      <td>5.72</td>\n",
       "      <td>2.05</td>\n",
       "    </tr>\n",
       "  </tbody>\n",
       "</table>\n",
       "</div>"
      ],
      "text/plain": [
       "   sepal length (cm)  sepal width (cm)  petal length (cm)  petal width (cm)\n",
       "0               5.01              3.43               1.46              0.25\n",
       "1               5.88              2.74               4.39              1.43\n",
       "2               6.85              3.08               5.72              2.05"
      ]
     },
     "execution_count": 20,
     "metadata": {},
     "output_type": "execute_result"
    }
   ],
   "source": [
    "# Create centroids from the K-Means\n",
    "iris_centroids = pd.DataFrame(iris_kmeans.cluster_centers_, columns = iris.feature_names)\n",
    "iris_centroids"
   ]
  },
  {
   "cell_type": "code",
   "execution_count": 21,
   "metadata": {
    "scrolled": true
   },
   "outputs": [
    {
     "name": "stdout",
     "output_type": "stream",
     "text": [
      "0.7474865805095324\n"
     ]
    }
   ],
   "source": [
    "# Calculate the completeness score\n",
    "print(completeness_score(target, clusters))"
   ]
  },
  {
   "cell_type": "code",
   "execution_count": 22,
   "metadata": {
    "scrolled": true
   },
   "outputs": [
    {
     "name": "stdout",
     "output_type": "stream",
     "text": [
      "0.7364192881252849\n"
     ]
    }
   ],
   "source": [
    "# Calculate the homogeneity score\n",
    "print(homogeneity_score(target, clusters))"
   ]
  },
  {
   "cell_type": "code",
   "execution_count": 23,
   "metadata": {
    "scrolled": true
   },
   "outputs": [
    {
     "data": {
      "image/png": "[encoded data removed]",
      "text/plain": [
       "<Figure size 640x480 with 1 Axes>"
      ]
     },
     "metadata": {},
     "output_type": "display_data"
    }
   ],
   "source": [
    "# Plot the clustered data points based on the clustering results\n",
    "pl.plot(data[clusters == 0, 0], data[clusters == 0, 2], 'ro')\n",
    "pl.plot(data[clusters == 1, 0], data[clusters == 1, 2], 'bo')\n",
    "pl.plot(data[clusters == 2, 0], data[clusters == 2, 2], 'go')\n",
    "pl.legend(('Iris-Setosa', 'Iris-Versicolour', 'Iris-Virginica'), loc = 4)\n",
    "pl.show()"
   ]
  },
  {
   "cell_type": "code",
   "execution_count": 24,
   "metadata": {},
   "outputs": [
    {
     "data": {
      "image/png": "[encoded data removed]",
      "text/plain": [
       "<Figure size 640x480 with 1 Axes>"
      ]
     },
     "metadata": {},
     "output_type": "display_data"
    }
   ],
   "source": [
    "# Call the function\n",
    "plot_silhouettes(data, clusters)"
   ]
  },
  {
   "cell_type": "code",
   "execution_count": null,
   "metadata": {
    "scrolled": true
   },
   "outputs": [],
   "source": []
  }
 ],
 "metadata": {
  "kernelspec": {
   "display_name": "Python 3 (ipykernel)",
   "language": "python",
   "name": "python3"
  },
  "language_info": {
   "codemirror_mode": {
    "name": "ipython",
    "version": 3
   },
   "file_extension": ".py",
   "mimetype": "text/x-python",
   "name": "python",
   "nbconvert_exporter": "python",
   "pygments_lexer": "ipython3",
   "version": "3.9.11"
  }
 },
 "nbformat": 4,
 "nbformat_minor": 4
}
