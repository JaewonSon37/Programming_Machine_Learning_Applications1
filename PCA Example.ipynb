{
 "cells": [
  {
   "cell_type": "markdown",
   "metadata": {},
   "source": [
    "### Principal Component Analysis Example"
   ]
  },
  {
   "cell_type": "code",
   "execution_count": 1,
   "metadata": {},
   "outputs": [],
   "source": [
    "import numpy as np\n",
    "from sklearn import decomposition\n",
    "\n",
    "np.set_printoptions(precision = 3, suppress = True)"
   ]
  },
  {
   "cell_type": "markdown",
   "metadata": {},
   "source": [
    "---"
   ]
  },
  {
   "cell_type": "markdown",
   "metadata": {},
   "source": [
    "PCA without using scikit-learn"
   ]
  },
  {
   "cell_type": "code",
   "execution_count": 2,
   "metadata": {},
   "outputs": [],
   "source": [
    "# Define the matrix X\n",
    "X = np.array([[10, 20, 10],\n",
    "              [2, 5, 2],\n",
    "              [8, 17, 7],\n",
    "              [9, 20, 10],\n",
    "              [12, 22, 11]])\n",
    "\n",
    "# Convert X to a matrix format \n",
    "X = np.mat(X)"
   ]
  },
  {
   "cell_type": "code",
   "execution_count": 3,
   "metadata": {},
   "outputs": [
    {
     "name": "stdout",
     "output_type": "stream",
     "text": [
      "Mean Values of Each Column: \n",
      "[[ 8.2 16.8  8. ]]\n"
     ]
    }
   ],
   "source": [
    "# Calculate the mean of each column\n",
    "mean_values = X.mean(axis = 0)\n",
    "print(\"Mean Values of Each Column: \")\n",
    "print(mean_values)"
   ]
  },
  {
   "cell_type": "code",
   "execution_count": 4,
   "metadata": {},
   "outputs": [
    {
     "name": "stdout",
     "output_type": "stream",
     "text": [
      "Centered Matrix: \n",
      "[[  1.8   3.2   2. ]\n",
      " [ -6.2 -11.8  -6. ]\n",
      " [ -0.2   0.2  -1. ]\n",
      " [  0.8   3.2   2. ]\n",
      " [  3.8   5.2   3. ]]\n"
     ]
    }
   ],
   "source": [
    "# Center the matrix by subtracting the column means from each element\n",
    "centered_matrix = X - mean_values\n",
    "print(\"Centered Matrix: \")\n",
    "print(centered_matrix)"
   ]
  },
  {
   "cell_type": "code",
   "execution_count": 5,
   "metadata": {},
   "outputs": [
    {
     "name": "stdout",
     "output_type": "stream",
     "text": [
      "Covariance Matrix: \n",
      "[[14.2  25.3  13.5 ]\n",
      " [25.3  46.7  24.75]\n",
      " [13.5  24.75 13.5 ]]\n"
     ]
    }
   ],
   "source": [
    "# Calculate the covariance matrix of X\n",
    "covariance_X = np.cov(centered_matrix, rowvar = 0)\n",
    "print(\"Covariance Matrix: \")\n",
    "print(covariance_X)"
   ]
  },
  {
   "cell_type": "code",
   "execution_count": 6,
   "metadata": {},
   "outputs": [
    {
     "name": "stdout",
     "output_type": "stream",
     "text": [
      "Covariance Matrix: \n",
      "[[14.2  25.3  13.5 ]\n",
      " [25.3  46.7  24.75]\n",
      " [13.5  24.75 13.5 ]]\n"
     ]
    }
   ],
   "source": [
    "# Calculate the covariance matrix of X manually\n",
    "N = np.shape(X)[0] # Calculate the number of rows\n",
    "print(\"Covariance Matrix: \")\n",
    "print(np.dot(centered_matrix.T, centered_matrix) / (N - 1))"
   ]
  },
  {
   "cell_type": "code",
   "execution_count": 7,
   "metadata": {},
   "outputs": [
    {
     "name": "stdout",
     "output_type": "stream",
     "text": [
      "Eigen Values: \n",
      "[73.718  0.384  0.298]\n",
      "\n",
      "Eigen Vectors: \n",
      "[[ 0.434  0.9   -0.044]\n",
      " [ 0.795 -0.406 -0.451]\n",
      " [ 0.424 -0.161  0.891]]\n"
     ]
    }
   ],
   "source": [
    "# Compute the eigenvalues and eigenvectors of the covariance matrix C\n",
    "eigen_values, eigen_vectors = np.linalg.eig(covariance_X)\n",
    "\n",
    "print(\"Eigen Values: \")\n",
    "print(eigen_values)\n",
    "print()\n",
    "print(\"Eigen Vectors: \")\n",
    "print(eigen_vectors)"
   ]
  },
  {
   "cell_type": "code",
   "execution_count": 8,
   "metadata": {},
   "outputs": [
    {
     "name": "stdout",
     "output_type": "stream",
     "text": [
      "All Principal Components: \n",
      "[[  4.173   0.      0.259]\n",
      " [-14.615   0.172   0.252]\n",
      " [ -0.352  -0.1    -0.973]\n",
      " [  3.739  -0.9     0.303]\n",
      " [  7.055   0.828   0.159]]\n"
     ]
    }
   ],
   "source": [
    "# Transform the data into the new feature space based on the eigenvectors\n",
    "new_features = eigen_vectors.T # Transpose of the eigenvectors matrix\n",
    "principal_components  = np.dot(new_features, centered_matrix.T) # Project the centered data onto the new feature space\n",
    "print(\"All Principal Components: \")\n",
    "print(principal_components.T)"
   ]
  },
  {
   "cell_type": "code",
   "execution_count": 9,
   "metadata": {},
   "outputs": [
    {
     "name": "stdout",
     "output_type": "stream",
     "text": [
      "First Principal Component: \n",
      "[[  4.173]\n",
      " [-14.615]\n",
      " [ -0.352]\n",
      " [  3.739]\n",
      " [  7.055]]\n"
     ]
    }
   ],
   "source": [
    "# Take the top first principal component\n",
    "reduced_features = eigen_vectors[:,0].T # Select the first eigenvector\n",
    "reduced_principal_components = np.dot(reduced_features, centered_matrix.T) # Project the centered data onto the single principal component\n",
    "print(\"First Principal Component: \")\n",
    "print(reduced_principal_components.T)"
   ]
  },
  {
   "cell_type": "markdown",
   "metadata": {},
   "source": [
    "---"
   ]
  },
  {
   "cell_type": "markdown",
   "metadata": {},
   "source": [
    "PCA with using scikit-learn"
   ]
  },
  {
   "cell_type": "code",
   "execution_count": 10,
   "metadata": {},
   "outputs": [],
   "source": [
    "# Define the matrix X\n",
    "X = np.array([[10, 20, 10],\n",
    "              [2, 5, 2],\n",
    "              [8, 17, 7],\n",
    "              [9, 20, 10],\n",
    "              [12, 22, 11]])\n",
    "\n",
    "# Convert X to a NumPy array\n",
    "X = np.asarray(X)"
   ]
  },
  {
   "cell_type": "code",
   "execution_count": 11,
   "metadata": {},
   "outputs": [
    {
     "name": "stdout",
     "output_type": "stream",
     "text": [
      "Principal Components: \n",
      "[[-4.173 -0.    -0.259]\n",
      " [14.615 -0.172 -0.252]\n",
      " [ 0.352  0.1    0.973]\n",
      " [-3.739  0.9   -0.303]\n",
      " [-7.055 -0.828 -0.159]]\n"
     ]
    }
   ],
   "source": [
    "pca = decomposition.PCA(svd_solver = 'randomized') # Create a PCA instance\n",
    "principal_components = pca.fit_transform(X) # Fit PCA on the dataset\n",
    "print(\"Principal Components: \")\n",
    "print(principal_components)"
   ]
  },
  {
   "cell_type": "markdown",
   "metadata": {},
   "source": [
    "---"
   ]
  },
  {
   "cell_type": "markdown",
   "metadata": {},
   "source": [
    "PCA for dimensionality reduction"
   ]
  },
  {
   "cell_type": "code",
   "execution_count": 12,
   "metadata": {},
   "outputs": [],
   "source": [
    "# Define the matrix M\n",
    "X = np.array([[2.5, 2.4],\n",
    "              [0.5, 0.7],\n",
    "              [2.2, 2.9],\n",
    "              [1.9, 2.2],\n",
    "              [3.1, 3.0],\n",
    "              [2.3, 2.7],\n",
    "              [2, 1.6],\n",
    "              [1, 1.1],\n",
    "              [1.5, 1.6],\n",
    "              [1.1, 0.9]])"
   ]
  },
  {
   "cell_type": "code",
   "execution_count": 13,
   "metadata": {},
   "outputs": [
    {
     "name": "stdout",
     "output_type": "stream",
     "text": [
      "Mean Values of Each Column: \n",
      "[1.81 1.91]\n"
     ]
    }
   ],
   "source": [
    "# Calculate the mean of each column\n",
    "mean_values = X.mean(axis = 0)\n",
    "print(\"Mean Values of Each Column: \")\n",
    "print(mean_values)"
   ]
  },
  {
   "cell_type": "code",
   "execution_count": 14,
   "metadata": {},
   "outputs": [
    {
     "name": "stdout",
     "output_type": "stream",
     "text": [
      "Centered Matrix: \n",
      "[[ 0.69  0.49]\n",
      " [-1.31 -1.21]\n",
      " [ 0.39  0.99]\n",
      " [ 0.09  0.29]\n",
      " [ 1.29  1.09]\n",
      " [ 0.49  0.79]\n",
      " [ 0.19 -0.31]\n",
      " [-0.81 -0.81]\n",
      " [-0.31 -0.31]\n",
      " [-0.71 -1.01]]\n"
     ]
    }
   ],
   "source": [
    "# Center the matrix by subtracting the column means from each element\n",
    "centered_matrix = X - mean_values\n",
    "print(\"Centered Matrix: \")\n",
    "print(centered_matrix)"
   ]
  },
  {
   "cell_type": "code",
   "execution_count": 15,
   "metadata": {},
   "outputs": [
    {
     "name": "stdout",
     "output_type": "stream",
     "text": [
      "Covariance Matrix :\n",
      "[[0.617 0.615]\n",
      " [0.615 0.717]]\n"
     ]
    }
   ],
   "source": [
    "# Calculate the covariance matrix of M    \n",
    "covariance_X = np.cov(centered_matrix, rowvar = 0)\n",
    "print(\"Covariance Matrix :\")\n",
    "print(covariance_X)"
   ]
  },
  {
   "cell_type": "code",
   "execution_count": 16,
   "metadata": {},
   "outputs": [
    {
     "name": "stdout",
     "output_type": "stream",
     "text": [
      "Eigen Values: \n",
      "[0.049 1.284]\n",
      "\n",
      "Eigen Vectors: \n",
      "[[-0.735 -0.678]\n",
      " [ 0.678 -0.735]]\n"
     ]
    }
   ],
   "source": [
    "# Compute the eigenvalues and eigenvectors of the covariance matrix C\n",
    "eigen_values, eigen_vectors = np.linalg.eig(covariance_X)\n",
    "\n",
    "print(\"Eigen Values: \")\n",
    "print(eigen_values)\n",
    "print()\n",
    "print(\"Eigen Vectors: \")\n",
    "print(eigen_vectors)"
   ]
  },
  {
   "cell_type": "code",
   "execution_count": 17,
   "metadata": {},
   "outputs": [
    {
     "name": "stdout",
     "output_type": "stream",
     "text": [
      "Second Principal Component: \n",
      "[[-0.828]\n",
      " [ 1.778]\n",
      " [-0.992]\n",
      " [-0.274]\n",
      " [-1.676]\n",
      " [-0.913]\n",
      " [ 0.099]\n",
      " [ 1.145]\n",
      " [ 0.438]\n",
      " [ 1.224]]\n"
     ]
    }
   ],
   "source": [
    "# Take the second principal component\n",
    "new_feature = eigen_vectors[:,1].T # Transpose of the eigenvectors matrix\n",
    "principal_component  = np.dot(new_feature, centered_matrix.T) # Project the centered data onto the single principal component\n",
    "print(\"Second Principal Component: \")\n",
    "print(np.mat(principal_component).T)"
   ]
  },
  {
   "cell_type": "code",
   "execution_count": 18,
   "metadata": {},
   "outputs": [
    {
     "name": "stdout",
     "output_type": "stream",
     "text": [
      "Principal Component: \n",
      "[[-0.828]\n",
      " [ 1.778]\n",
      " [-0.992]\n",
      " [-0.274]\n",
      " [-1.676]\n",
      " [-0.913]\n",
      " [ 0.099]\n",
      " [ 1.145]\n",
      " [ 0.438]\n",
      " [ 1.224]]\n"
     ]
    }
   ],
   "source": [
    "pca = decomposition.PCA(n_components = 1) # Create a PCA instance\n",
    "principal_component = pca.fit_transform(X) # Fit PCA on the dataset\n",
    "print(\"Principal Component: \")\n",
    "print(principal_component)"
   ]
  },
  {
   "cell_type": "code",
   "execution_count": null,
   "metadata": {},
   "outputs": [],
   "source": []
  }
 ],
 "metadata": {
  "kernelspec": {
   "display_name": "Python 3 (ipykernel)",
   "language": "python",
   "name": "python3"
  },
  "language_info": {
   "codemirror_mode": {
    "name": "ipython",
    "version": 3
   },
   "file_extension": ".py",
   "mimetype": "text/x-python",
   "name": "python",
   "nbconvert_exporter": "python",
   "pygments_lexer": "ipython3",
   "version": "3.9.11"
  }
 },
 "nbformat": 4,
 "nbformat_minor": 4
}
