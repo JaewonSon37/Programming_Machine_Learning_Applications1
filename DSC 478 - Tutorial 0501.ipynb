{
 "cells": [
  {
   "cell_type": "markdown",
   "metadata": {},
   "source": [
    "### Regression Analysis with scikit-learn"
   ]
  },
  {
   "cell_type": "code",
   "execution_count": 1,
   "metadata": {},
   "outputs": [],
   "source": [
    "import numpy as np\n",
    "import pandas as pd\n",
    "import pylab as pl\n",
    "from sklearn.datasets import fetch_california_housing\n",
    "from sklearn.metrics import mean_squared_error, mean_absolute_error\n",
    "from sklearn.model_selection import train_test_split\n",
    "from sklearn.model_selection import cross_val_score\n",
    "from sklearn.model_selection import KFold\n",
    "from sklearn.linear_model import LinearRegression\n",
    "from sklearn.linear_model import Ridge\n",
    "from sklearn.linear_model import Lasso\n",
    "from sklearn.linear_model import ElasticNet"
   ]
  },
  {
   "cell_type": "code",
   "execution_count": 2,
   "metadata": {
    "tags": []
   },
   "outputs": [
    {
     "name": "stdout",
     "output_type": "stream",
     "text": [
      ".. _california_housing_dataset:\n",
      "\n",
      "California Housing dataset\n",
      "--------------------------\n",
      "\n",
      "**Data Set Characteristics:**\n",
      "\n",
      ":Number of Instances: 20640\n",
      "\n",
      ":Number of Attributes: 8 numeric, predictive attributes and the target\n",
      "\n",
      ":Attribute Information:\n",
      "    - MedInc        median income in block group\n",
      "    - HouseAge      median house age in block group\n",
      "    - AveRooms      average number of rooms per household\n",
      "    - AveBedrms     average number of bedrooms per household\n",
      "    - Population    block group population\n",
      "    - AveOccup      average number of household members\n",
      "    - Latitude      block group latitude\n",
      "    - Longitude     block group longitude\n",
      "\n",
      ":Missing Attribute Values: None\n",
      "\n",
      "This dataset was obtained from the StatLib repository.\n",
      "https://www.dcc.fc.up.pt/~ltorgo/Regression/cal_housing.html\n",
      "\n",
      "The target variable is the median house value for California districts,\n",
      "expressed in hundreds of thousands of dollars ($100,000).\n",
      "\n",
      "This dataset was derived from the 1990 U.S. census, using one row per census\n",
      "block group. A block group is the smallest geographical unit for which the U.S.\n",
      "Census Bureau publishes sample data (a block group typically has a population\n",
      "of 600 to 3,000 people).\n",
      "\n",
      "A household is a group of people residing within a home. Since the average\n",
      "number of rooms and bedrooms in this dataset are provided per household, these\n",
      "columns may take surprisingly large values for block groups with few households\n",
      "and many empty houses, such as vacation resorts.\n",
      "\n",
      "It can be downloaded/loaded using the\n",
      ":func:`sklearn.datasets.fetch_california_housing` function.\n",
      "\n",
      ".. topic:: References\n",
      "\n",
      "    - Pace, R. Kelley and Ronald Barry, Sparse Spatial Autoregressions,\n",
      "      Statistics and Probability Letters, 33 (1997) 291-297\n",
      "\n"
     ]
    }
   ],
   "source": [
    "# Fetch the dataset\n",
    "housing = fetch_california_housing()\n",
    "print(housing.DESCR)"
   ]
  },
  {
   "cell_type": "code",
   "execution_count": 3,
   "metadata": {},
   "outputs": [
    {
     "data": {
      "text/html": [
       "<div>\n",
       "<style scoped>\n",
       "    .dataframe tbody tr th:only-of-type {\n",
       "        vertical-align: middle;\n",
       "    }\n",
       "\n",
       "    .dataframe tbody tr th {\n",
       "        vertical-align: top;\n",
       "    }\n",
       "\n",
       "    .dataframe thead th {\n",
       "        text-align: right;\n",
       "    }\n",
       "</style>\n",
       "<table border=\"1\" class=\"dataframe\">\n",
       "  <thead>\n",
       "    <tr style=\"text-align: right;\">\n",
       "      <th></th>\n",
       "      <th>MedInc</th>\n",
       "      <th>HouseAge</th>\n",
       "      <th>AveRooms</th>\n",
       "      <th>AveBedrms</th>\n",
       "      <th>Population</th>\n",
       "      <th>AveOccup</th>\n",
       "      <th>Latitude</th>\n",
       "      <th>Longitude</th>\n",
       "    </tr>\n",
       "  </thead>\n",
       "  <tbody>\n",
       "    <tr>\n",
       "      <th>0</th>\n",
       "      <td>8.3252</td>\n",
       "      <td>41.0</td>\n",
       "      <td>6.984127</td>\n",
       "      <td>1.023810</td>\n",
       "      <td>322.0</td>\n",
       "      <td>2.555556</td>\n",
       "      <td>37.88</td>\n",
       "      <td>-122.23</td>\n",
       "    </tr>\n",
       "    <tr>\n",
       "      <th>1</th>\n",
       "      <td>8.3014</td>\n",
       "      <td>21.0</td>\n",
       "      <td>6.238137</td>\n",
       "      <td>0.971880</td>\n",
       "      <td>2401.0</td>\n",
       "      <td>2.109842</td>\n",
       "      <td>37.86</td>\n",
       "      <td>-122.22</td>\n",
       "    </tr>\n",
       "    <tr>\n",
       "      <th>2</th>\n",
       "      <td>7.2574</td>\n",
       "      <td>52.0</td>\n",
       "      <td>8.288136</td>\n",
       "      <td>1.073446</td>\n",
       "      <td>496.0</td>\n",
       "      <td>2.802260</td>\n",
       "      <td>37.85</td>\n",
       "      <td>-122.24</td>\n",
       "    </tr>\n",
       "    <tr>\n",
       "      <th>3</th>\n",
       "      <td>5.6431</td>\n",
       "      <td>52.0</td>\n",
       "      <td>5.817352</td>\n",
       "      <td>1.073059</td>\n",
       "      <td>558.0</td>\n",
       "      <td>2.547945</td>\n",
       "      <td>37.85</td>\n",
       "      <td>-122.25</td>\n",
       "    </tr>\n",
       "    <tr>\n",
       "      <th>4</th>\n",
       "      <td>3.8462</td>\n",
       "      <td>52.0</td>\n",
       "      <td>6.281853</td>\n",
       "      <td>1.081081</td>\n",
       "      <td>565.0</td>\n",
       "      <td>2.181467</td>\n",
       "      <td>37.85</td>\n",
       "      <td>-122.25</td>\n",
       "    </tr>\n",
       "  </tbody>\n",
       "</table>\n",
       "</div>"
      ],
      "text/plain": [
       "   MedInc  HouseAge  AveRooms  AveBedrms  Population  AveOccup  Latitude  \\\n",
       "0  8.3252      41.0  6.984127   1.023810       322.0  2.555556     37.88   \n",
       "1  8.3014      21.0  6.238137   0.971880      2401.0  2.109842     37.86   \n",
       "2  7.2574      52.0  8.288136   1.073446       496.0  2.802260     37.85   \n",
       "3  5.6431      52.0  5.817352   1.073059       558.0  2.547945     37.85   \n",
       "4  3.8462      52.0  6.281853   1.081081       565.0  2.181467     37.85   \n",
       "\n",
       "   Longitude  \n",
       "0    -122.23  \n",
       "1    -122.22  \n",
       "2    -122.24  \n",
       "3    -122.25  \n",
       "4    -122.25  "
      ]
     },
     "execution_count": 3,
     "metadata": {},
     "output_type": "execute_result"
    }
   ],
   "source": [
    "# Create a Pandas DataFrame\n",
    "housingDF = pd. DataFrame(housing.data, columns = housing.feature_names)\n",
    "housingDF.head()"
   ]
  },
  {
   "cell_type": "code",
   "execution_count": 4,
   "metadata": {},
   "outputs": [
    {
     "data": {
      "text/html": [
       "<div>\n",
       "<style scoped>\n",
       "    .dataframe tbody tr th:only-of-type {\n",
       "        vertical-align: middle;\n",
       "    }\n",
       "\n",
       "    .dataframe tbody tr th {\n",
       "        vertical-align: top;\n",
       "    }\n",
       "\n",
       "    .dataframe thead th {\n",
       "        text-align: right;\n",
       "    }\n",
       "</style>\n",
       "<table border=\"1\" class=\"dataframe\">\n",
       "  <thead>\n",
       "    <tr style=\"text-align: right;\">\n",
       "      <th></th>\n",
       "      <th>count</th>\n",
       "      <th>mean</th>\n",
       "      <th>std</th>\n",
       "      <th>min</th>\n",
       "      <th>25%</th>\n",
       "      <th>50%</th>\n",
       "      <th>75%</th>\n",
       "      <th>max</th>\n",
       "    </tr>\n",
       "  </thead>\n",
       "  <tbody>\n",
       "    <tr>\n",
       "      <th>MedInc</th>\n",
       "      <td>20640.0</td>\n",
       "      <td>3.870671</td>\n",
       "      <td>1.899822</td>\n",
       "      <td>0.499900</td>\n",
       "      <td>2.563400</td>\n",
       "      <td>3.534800</td>\n",
       "      <td>4.743250</td>\n",
       "      <td>15.000100</td>\n",
       "    </tr>\n",
       "    <tr>\n",
       "      <th>HouseAge</th>\n",
       "      <td>20640.0</td>\n",
       "      <td>28.639486</td>\n",
       "      <td>12.585558</td>\n",
       "      <td>1.000000</td>\n",
       "      <td>18.000000</td>\n",
       "      <td>29.000000</td>\n",
       "      <td>37.000000</td>\n",
       "      <td>52.000000</td>\n",
       "    </tr>\n",
       "    <tr>\n",
       "      <th>AveRooms</th>\n",
       "      <td>20640.0</td>\n",
       "      <td>5.429000</td>\n",
       "      <td>2.474173</td>\n",
       "      <td>0.846154</td>\n",
       "      <td>4.440716</td>\n",
       "      <td>5.229129</td>\n",
       "      <td>6.052381</td>\n",
       "      <td>141.909091</td>\n",
       "    </tr>\n",
       "    <tr>\n",
       "      <th>AveBedrms</th>\n",
       "      <td>20640.0</td>\n",
       "      <td>1.096675</td>\n",
       "      <td>0.473911</td>\n",
       "      <td>0.333333</td>\n",
       "      <td>1.006079</td>\n",
       "      <td>1.048780</td>\n",
       "      <td>1.099526</td>\n",
       "      <td>34.066667</td>\n",
       "    </tr>\n",
       "    <tr>\n",
       "      <th>Population</th>\n",
       "      <td>20640.0</td>\n",
       "      <td>1425.476744</td>\n",
       "      <td>1132.462122</td>\n",
       "      <td>3.000000</td>\n",
       "      <td>787.000000</td>\n",
       "      <td>1166.000000</td>\n",
       "      <td>1725.000000</td>\n",
       "      <td>35682.000000</td>\n",
       "    </tr>\n",
       "    <tr>\n",
       "      <th>AveOccup</th>\n",
       "      <td>20640.0</td>\n",
       "      <td>3.070655</td>\n",
       "      <td>10.386050</td>\n",
       "      <td>0.692308</td>\n",
       "      <td>2.429741</td>\n",
       "      <td>2.818116</td>\n",
       "      <td>3.282261</td>\n",
       "      <td>1243.333333</td>\n",
       "    </tr>\n",
       "    <tr>\n",
       "      <th>Latitude</th>\n",
       "      <td>20640.0</td>\n",
       "      <td>35.631861</td>\n",
       "      <td>2.135952</td>\n",
       "      <td>32.540000</td>\n",
       "      <td>33.930000</td>\n",
       "      <td>34.260000</td>\n",
       "      <td>37.710000</td>\n",
       "      <td>41.950000</td>\n",
       "    </tr>\n",
       "    <tr>\n",
       "      <th>Longitude</th>\n",
       "      <td>20640.0</td>\n",
       "      <td>-119.569704</td>\n",
       "      <td>2.003532</td>\n",
       "      <td>-124.350000</td>\n",
       "      <td>-121.800000</td>\n",
       "      <td>-118.490000</td>\n",
       "      <td>-118.010000</td>\n",
       "      <td>-114.310000</td>\n",
       "    </tr>\n",
       "  </tbody>\n",
       "</table>\n",
       "</div>"
      ],
      "text/plain": [
       "              count         mean          std         min         25%  \\\n",
       "MedInc      20640.0     3.870671     1.899822    0.499900    2.563400   \n",
       "HouseAge    20640.0    28.639486    12.585558    1.000000   18.000000   \n",
       "AveRooms    20640.0     5.429000     2.474173    0.846154    4.440716   \n",
       "AveBedrms   20640.0     1.096675     0.473911    0.333333    1.006079   \n",
       "Population  20640.0  1425.476744  1132.462122    3.000000  787.000000   \n",
       "AveOccup    20640.0     3.070655    10.386050    0.692308    2.429741   \n",
       "Latitude    20640.0    35.631861     2.135952   32.540000   33.930000   \n",
       "Longitude   20640.0  -119.569704     2.003532 -124.350000 -121.800000   \n",
       "\n",
       "                    50%          75%           max  \n",
       "MedInc         3.534800     4.743250     15.000100  \n",
       "HouseAge      29.000000    37.000000     52.000000  \n",
       "AveRooms       5.229129     6.052381    141.909091  \n",
       "AveBedrms      1.048780     1.099526     34.066667  \n",
       "Population  1166.000000  1725.000000  35682.000000  \n",
       "AveOccup       2.818116     3.282261   1243.333333  \n",
       "Latitude      34.260000    37.710000     41.950000  \n",
       "Longitude   -118.490000  -118.010000   -114.310000  "
      ]
     },
     "execution_count": 4,
     "metadata": {},
     "output_type": "execute_result"
    }
   ],
   "source": [
    "# Get descriptive statistics and transpose the result\n",
    "housingDF.describe().T"
   ]
  },
  {
   "cell_type": "code",
   "execution_count": 5,
   "metadata": {},
   "outputs": [
    {
     "name": "stdout",
     "output_type": "stream",
     "text": [
      "[[   8.33   41.      6.98    1.02  322.      2.56   37.88 -122.23]\n",
      " [   8.3    21.      6.24    0.97 2401.      2.11   37.86 -122.22]\n",
      " [   7.26   52.      8.29    1.07  496.      2.8    37.85 -122.24]\n",
      " [   5.64   52.      5.82    1.07  558.      2.55   37.85 -122.25]\n",
      " [   3.85   52.      6.28    1.08  565.      2.18   37.85 -122.25]\n",
      " [   4.04   52.      4.76    1.1   413.      2.14   37.85 -122.25]\n",
      " [   3.66   52.      4.93    0.95 1094.      2.13   37.84 -122.25]\n",
      " ...\n",
      " [   2.55   27.      5.45    1.08 1082.      2.83   39.19 -121.53]\n",
      " [   3.71   28.      6.78    1.15 1041.      3.03   39.27 -121.56]\n",
      " [   1.56   25.      5.05    1.13  845.      2.56   39.48 -121.09]\n",
      " [   2.56   18.      6.11    1.32  356.      3.12   39.49 -121.21]\n",
      " [   1.7    17.      5.21    1.12 1007.      2.33   39.43 -121.22]\n",
      " [   1.87   18.      5.33    1.17  741.      2.12   39.43 -121.32]\n",
      " [   2.39   16.      5.25    1.16 1387.      2.62   39.37 -121.24]]\n"
     ]
    }
   ],
   "source": [
    "np.set_printoptions(precision = 2, linewidth = 120, suppress = True, edgeitems = 7) # Set numpy options\n",
    "print(housing.data)"
   ]
  },
  {
   "cell_type": "code",
   "execution_count": 6,
   "metadata": {},
   "outputs": [
    {
     "name": "stdout",
     "output_type": "stream",
     "text": [
      "[4.53 3.58 3.52 3.41 3.42 2.7  2.99 2.41 2.27 2.61 2.81 2.42 2.13 1.91 1.59 1.4  1.52 1.55 1.59 1.63]\n"
     ]
    }
   ],
   "source": [
    "# Print the target values\n",
    "print(housing.target[:20])"
   ]
  },
  {
   "cell_type": "code",
   "execution_count": 7,
   "metadata": {},
   "outputs": [
    {
     "name": "stdout",
     "output_type": "stream",
     "text": [
      "[[   8.33   41.      6.98    1.02  322.      2.56   37.88 -122.23    1.  ]\n",
      " [   8.3    21.      6.24    0.97 2401.      2.11   37.86 -122.22    1.  ]\n",
      " [   7.26   52.      8.29    1.07  496.      2.8    37.85 -122.24    1.  ]\n",
      " [   5.64   52.      5.82    1.07  558.      2.55   37.85 -122.25    1.  ]\n",
      " [   3.85   52.      6.28    1.08  565.      2.18   37.85 -122.25    1.  ]\n",
      " [   4.04   52.      4.76    1.1   413.      2.14   37.85 -122.25    1.  ]\n",
      " [   3.66   52.      4.93    0.95 1094.      2.13   37.84 -122.25    1.  ]\n",
      " [   3.12   52.      4.8     1.06 1157.      1.79   37.84 -122.25    1.  ]\n",
      " [   2.08   42.      4.29    1.12 1206.      2.03   37.84 -122.26    1.  ]\n",
      " [   3.69   52.      4.97    0.99 1551.      2.17   37.84 -122.25    1.  ]]\n"
     ]
    }
   ],
   "source": [
    "# Add a bias term to each row\n",
    "X1 = np.array([np.concatenate((v, [1])) for v in housing.data])\n",
    "print(X1[:10])"
   ]
  },
  {
   "cell_type": "code",
   "execution_count": 8,
   "metadata": {},
   "outputs": [],
   "source": [
    "# Assign the features to variable X and the target values to variable y\n",
    "X = housing.data\n",
    "y = housing.target"
   ]
  },
  {
   "cell_type": "code",
   "execution_count": 9,
   "metadata": {},
   "outputs": [],
   "source": [
    "# Split the dataset into training and testing set\n",
    "X_train, X_test, y_train, y_test = train_test_split(X, y, test_size = 0.2, random_state = 111)"
   ]
  },
  {
   "cell_type": "markdown",
   "metadata": {},
   "source": [
    "Linear Regression"
   ]
  },
  {
   "cell_type": "code",
   "execution_count": 10,
   "metadata": {},
   "outputs": [
    {
     "name": "stdout",
     "output_type": "stream",
     "text": [
      " 0 \t 1.46 \t 4.53\n",
      " 1 \t 0.92 \t 3.58\n",
      " 2 \t 1.92 \t 3.52\n",
      " 3 \t 1.79 \t 3.41\n",
      " 4 \t 1.80 \t 3.42\n",
      " 5 \t 3.21 \t 2.70\n",
      " 6 \t 1.47 \t 2.99\n",
      " 7 \t 1.50 \t 2.41\n",
      " 8 \t 1.64 \t 2.27\n",
      " 9 \t 1.95 \t 2.61\n"
     ]
    }
   ],
   "source": [
    "# Create linear regression object\n",
    "linreg = LinearRegression()\n",
    "\n",
    "# Fit the model on the training set\n",
    "linreg.fit(X_train, y_train) \n",
    "\n",
    "# Predict the target values for the testing set\n",
    "pred = linreg.predict(X_test)\n",
    "\n",
    "# Print the predicted values and actual target values\n",
    "for i in range(10):\n",
    "    print(\"%2d \\t %2.2f \\t %2.2f\" % (i, pred[i], y[i]))"
   ]
  },
  {
   "cell_type": "code",
   "execution_count": 11,
   "metadata": {},
   "outputs": [
    {
     "name": "stdout",
     "output_type": "stream",
     "text": [
      "Intercept   -36.35181713859546\n",
      "MedInc   0.4364115\n",
      "HouseAge   0.0096425\n",
      "AveRooms   -0.1015544\n",
      "AveBedrms   0.6132518\n",
      "Population   -0.0000057\n",
      "AveOccup   -0.0034171\n",
      "Latitude   -0.4153970\n",
      "Longitude   -0.4278115\n"
     ]
    }
   ],
   "source": [
    "# Retrieve the intercept\n",
    "print(\"Intercept  \", linreg.intercept_)\n",
    "\n",
    "# Retrieve the coefficients of the trained linear regression model\n",
    "for i in range(len(housing.feature_names)):\n",
    "    print(\"%s   %2.7f\" % (housing.feature_names[i], linreg.coef_[i]))"
   ]
  },
  {
   "cell_type": "code",
   "execution_count": 12,
   "metadata": {},
   "outputs": [
    {
     "data": {
      "image/png": "[encoded data removed]",
      "text/plain": [
       "<Figure size 640x480 with 1 Axes>"
      ]
     },
     "metadata": {},
     "output_type": "display_data"
    }
   ],
   "source": [
    "# Plot the coefficients\n",
    "def plot_coefficients(model, n_features, feature_names):\n",
    "    pl.barh(range(n_features), model.coef_, align = 'center')\n",
    "    pl.yticks(np.arange(n_features), feature_names)\n",
    "    pl.xlabel(\"Coefficient Value\")\n",
    "    pl.ylabel(\"Feature\")\n",
    "    pl.ylim(-1, n_features)\n",
    "\n",
    "plot_coefficients(linreg, len(housing.feature_names), housing.feature_names)"
   ]
  },
  {
   "cell_type": "code",
   "execution_count": 13,
   "metadata": {},
   "outputs": [
    {
     "name": "stdout",
     "output_type": "stream",
     "text": [
      "RMSE on Training Data:  0.7213774431102036\n"
     ]
    }
   ],
   "source": [
    "# Calculate RMSE on the training set manually\n",
    "p_train = linreg.predict(X_train) # Predict the target values\n",
    "err_train = abs(p_train - y_train) # Calculate the absolute error\n",
    "sum_sq_err_train = np.dot(err_train, err_train) # Calculate the sum of squared errors\n",
    "rmse_train = np.sqrt(sum_sq_err_train / len(p_train)) # Calculate the RMSE\n",
    "print(\"RMSE on Training Data: \", rmse_train)"
   ]
  },
  {
   "cell_type": "code",
   "execution_count": 14,
   "metadata": {},
   "outputs": [
    {
     "data": {
      "image/png": "[encoded data removed]",
      "text/plain": [
       "<Figure size 640x480 with 1 Axes>"
      ]
     },
     "metadata": {},
     "output_type": "display_data"
    }
   ],
   "source": [
    "# Plot predicted against actual in testing set\n",
    "pl.plot(p_train, y_train,'ro', markersize = 4)\n",
    "pl.plot([0,5], [0,5], 'g-')\n",
    "pl.xlabel('Predicted')\n",
    "pl.ylabel('Actual')\n",
    "pl.show()"
   ]
  },
  {
   "cell_type": "code",
   "execution_count": 15,
   "metadata": {},
   "outputs": [
    {
     "name": "stdout",
     "output_type": "stream",
     "text": [
      "RMSE on Testing Data:  0.73523204335659\n"
     ]
    }
   ],
   "source": [
    "# Calculate RMSE on the testing set manually\n",
    "p_test = linreg.predict(X_test) # Predict the target values\n",
    "err_test = abs(p_test - y_test) # Calculate the absolute error\n",
    "sum_sq_err_test = np.dot(err_test, err_test) # Calculate the sum of squared errors\n",
    "rmse_test = np.sqrt(sum_sq_err_test / len(p_test)) # Calculate the RMSE\n",
    "print(\"RMSE on Testing Data: \", rmse_test)"
   ]
  },
  {
   "cell_type": "code",
   "execution_count": 16,
   "metadata": {},
   "outputs": [
    {
     "data": {
      "image/png": "[encoded data removed]",
      "text/plain": [
       "<Figure size 640x480 with 1 Axes>"
      ]
     },
     "metadata": {},
     "output_type": "display_data"
    }
   ],
   "source": [
    "# Plot predicted against actual in testing set\n",
    "pl.plot(p_test, y_test,'ro', markersize = 4)\n",
    "pl.plot([0,5], [0,5], 'g-')\n",
    "pl.xlabel('Predicted')\n",
    "pl.ylabel('Actual')\n",
    "pl.show()"
   ]
  },
  {
   "cell_type": "code",
   "execution_count": 17,
   "metadata": {},
   "outputs": [
    {
     "name": "stdout",
     "output_type": "stream",
     "text": [
      "RMSE on Training Data:  0.7213774431102036\n",
      "RMSE on Testing Data:  0.73523204335659\n",
      "MAE on Training Data:  0.5299125726282204\n",
      "MAE on Testing Data:  0.5355713790674047\n"
     ]
    }
   ],
   "source": [
    "# Calculate RMSE on the training set with Scikit-learn\n",
    "rmse_train = np.sqrt(mean_squared_error(p_train, y_train))\n",
    "print(\"RMSE on Training Data: \", rmse_train)\n",
    "\n",
    "# Calculate RMSE on the testing set with Scikit-learn\n",
    "rmse_test = np.sqrt(mean_squared_error(p_test, y_test))\n",
    "print(\"RMSE on Testing Data: \", rmse_test)\n",
    "\n",
    "# Calculate MAE on the training set with Scikit-learn\n",
    "mae_train = mean_absolute_error(p_train, y_train)\n",
    "print(\"MAE on Training Data: \", mae_train)\n",
    "\n",
    "# Calculate MAE on the testing set with Scikit-learn \n",
    "mae_test = mean_absolute_error(p_test, y_test)\n",
    "print(\"MAE on Testing Data: \", mae_test)"
   ]
  },
  {
   "cell_type": "code",
   "execution_count": 18,
   "metadata": {},
   "outputs": [],
   "source": [
    "def cross_validate(model, X, y, n, verbose = False):\n",
    "\n",
    "    \"\"\"\n",
    "    Perform cross-validation on a regression model.\n",
    "    \n",
    "    Parameters:\n",
    "    - model: Regression model to be trained\n",
    "    - X: The training data matrix\n",
    "    - y: The training target variable array\n",
    "    - n: The number of folds\n",
    "    - verbose: If true, print the RMSE for each fold\n",
    "    \n",
    "    Returns:\n",
    "    - Average RMSE across all folds\n",
    "    \"\"\"\n",
    "    \n",
    "    kf = KFold(n_splits = n, random_state = 22, shuffle = True) # Initialize KFold cross-validator\n",
    "    xval_err = 0 # Initialize cumulative error\n",
    "    f = 1 # Initialize fold counter\n",
    "\n",
    "    for train, test in kf.split(X):\n",
    "        model.fit(X[train], y[train]) # Fit the model to the training partition\n",
    "        p_test = model.predict(X[test]) # Apply trained model to test partition\n",
    "        rmse_test = np.sqrt(mean_squared_error(p_test, y[test])) # Calculate RMSE\n",
    "        \n",
    "        if verbose:\n",
    "            print(\"Fold %2d RMSE: %.4f\" % (f, rmse_test))\n",
    "            \n",
    "        xval_err += rmse_test\n",
    "        f += 1\n",
    "\n",
    "    return xval_err / n"
   ]
  },
  {
   "cell_type": "code",
   "execution_count": 19,
   "metadata": {},
   "outputs": [
    {
     "name": "stdout",
     "output_type": "stream",
     "text": [
      "Fold  1 RMSE: 0.7111\n",
      "Fold  2 RMSE: 0.6942\n",
      "Fold  3 RMSE: 0.7432\n",
      "Fold  4 RMSE: 0.7261\n",
      "Fold  5 RMSE: 0.7179\n",
      "Fold  6 RMSE: 0.6925\n",
      "Fold  7 RMSE: 0.7409\n",
      "Fold  8 RMSE: 0.7305\n",
      "Fold  9 RMSE: 0.7689\n",
      "Fold 10 RMSE: 0.7094\n"
     ]
    },
    {
     "data": {
      "text/plain": [
       "0.7234788419885064"
      ]
     },
     "execution_count": 19,
     "metadata": {},
     "output_type": "execute_result"
    }
   ],
   "source": [
    "# Compute the mean RMSE on 10-fold cross-validation\n",
    "rmse_10cv = cross_validate(linreg, X_train, y_train, 10, verbose = True)\n",
    "rmse_10cv"
   ]
  },
  {
   "cell_type": "code",
   "execution_count": 20,
   "metadata": {},
   "outputs": [
    {
     "name": "stdout",
     "output_type": "stream",
     "text": [
      "[0.72 0.71 0.79 0.7  0.71 0.69 0.73 0.74 0.74 0.72]\n"
     ]
    }
   ],
   "source": [
    "# Compute the mean RMSE on 10-fold cross-validation with Scikit-learn\n",
    "cv_scores = cross_val_score(linreg, X_train, y_train, scoring = \"neg_mean_squared_error\", cv = 10)\n",
    "print(np.sqrt(abs(cv_scores)))"
   ]
  },
  {
   "cell_type": "code",
   "execution_count": 21,
   "metadata": {},
   "outputs": [
    {
     "name": "stdout",
     "output_type": "stream",
     "text": [
      "Method: Linear Regression\n",
      "RMSE on training: 0.7215\n",
      "RMSE on testing: 0.7351\n",
      "RMSE on 10-fold CV: 0.7235\n"
     ]
    }
   ],
   "source": [
    "# Calculate RMSE from Linear Regression\n",
    "p_train = linreg.predict(X_train)\n",
    "rmse_train = np.sqrt(mean_squared_error(p_train, y_train))\n",
    "p_test = linreg.predict(X_test)\n",
    "rmse_test = np.sqrt(mean_squared_error(p_test, y_test))\n",
    "\n",
    "print('Method: %s' %'Linear Regression')\n",
    "print('RMSE on training: %.4f' %rmse_train)\n",
    "print('RMSE on testing: %.4f' %rmse_test)\n",
    "print('RMSE on 10-fold CV: %.4f' %rmse_10cv)"
   ]
  },
  {
   "cell_type": "markdown",
   "metadata": {},
   "source": [
    "Ridge Regression"
   ]
  },
  {
   "cell_type": "code",
   "execution_count": 22,
   "metadata": {},
   "outputs": [
    {
     "name": "stdout",
     "output_type": "stream",
     "text": [
      "Fold  1 RMSE: 0.7112\n",
      "Fold  2 RMSE: 0.6942\n",
      "Fold  3 RMSE: 0.7432\n",
      "Fold  4 RMSE: 0.7261\n",
      "Fold  5 RMSE: 0.7179\n",
      "Fold  6 RMSE: 0.6925\n",
      "Fold  7 RMSE: 0.7409\n",
      "Fold  8 RMSE: 0.7305\n",
      "Fold  9 RMSE: 0.7688\n",
      "Fold 10 RMSE: 0.7095\n"
     ]
    }
   ],
   "source": [
    "# Create Ridge regression model with alpha 0.5\n",
    "ridge = Ridge(alpha = 0.5)\n",
    "\n",
    "# Fit the model on the training set\n",
    "ridge.fit(X_train, y_train)\n",
    "\n",
    "# Predict the target values\n",
    "p_train = ridge.predict(X_train)\n",
    "p_test = ridge.predict(X_test)\n",
    "\n",
    "# Calculate the RMSE\n",
    "rmse_train = np.sqrt(mean_squared_error(p_train, y_train))\n",
    "rmse_test = np.sqrt(mean_squared_error(p_test, y_test))\n",
    "\n",
    "# Compute the mean RMSE on 10-fold cross-validation\n",
    "rmse_10cv = cross_validate(ridge, X_train, y_train, 10, verbose = True)"
   ]
  },
  {
   "cell_type": "code",
   "execution_count": 23,
   "metadata": {},
   "outputs": [
    {
     "name": "stdout",
     "output_type": "stream",
     "text": [
      "Method: Ridge Regression\n",
      "RMSE on training: 0.7214\n",
      "RMSE on testing: 0.7352\n",
      "RMSE on 10-fold CV: 0.7235\n"
     ]
    }
   ],
   "source": [
    "print('Method: %s' %'Ridge Regression')\n",
    "print('RMSE on training: %.4f' %rmse_train)\n",
    "print('RMSE on testing: %.4f' %rmse_test)\n",
    "print('RMSE on 10-fold CV: %.4f' %rmse_10cv)"
   ]
  },
  {
   "cell_type": "code",
   "execution_count": 24,
   "metadata": {},
   "outputs": [
    {
     "name": "stdout",
     "output_type": "stream",
     "text": [
      "Ridge Regression\n",
      "alpha\t RMSE_train\t RMSE_10cv\t Gap\n",
      "0.000\t 0.7214\t\t 0.7235\t\t 0.0021\n",
      "0.051\t 0.7214\t\t 0.7235\t\t 0.0021\n",
      "0.101\t 0.7214\t\t 0.7235\t\t 0.0021\n",
      "0.152\t 0.7214\t\t 0.7235\t\t 0.0021\n",
      "0.202\t 0.7214\t\t 0.7235\t\t 0.0021\n",
      "0.253\t 0.7214\t\t 0.7235\t\t 0.0021\n",
      "0.303\t 0.7214\t\t 0.7235\t\t 0.0021\n",
      "0.354\t 0.7214\t\t 0.7235\t\t 0.0021\n",
      "0.404\t 0.7214\t\t 0.7235\t\t 0.0021\n",
      "0.455\t 0.7214\t\t 0.7235\t\t 0.0021\n",
      "0.505\t 0.7214\t\t 0.7235\t\t 0.0021\n",
      "0.556\t 0.7214\t\t 0.7235\t\t 0.0021\n",
      "0.606\t 0.7214\t\t 0.7235\t\t 0.0021\n",
      "0.657\t 0.7214\t\t 0.7235\t\t 0.0021\n",
      "0.707\t 0.7214\t\t 0.7235\t\t 0.0021\n",
      "0.758\t 0.7214\t\t 0.7235\t\t 0.0021\n",
      "0.808\t 0.7214\t\t 0.7235\t\t 0.0021\n",
      "0.859\t 0.7214\t\t 0.7235\t\t 0.0021\n",
      "0.909\t 0.7214\t\t 0.7235\t\t 0.0021\n",
      "0.960\t 0.7214\t\t 0.7235\t\t 0.0021\n",
      "1.010\t 0.7214\t\t 0.7235\t\t 0.0021\n",
      "1.061\t 0.7214\t\t 0.7235\t\t 0.0021\n",
      "1.111\t 0.7214\t\t 0.7235\t\t 0.0021\n",
      "1.162\t 0.7214\t\t 0.7235\t\t 0.0021\n",
      "1.212\t 0.7214\t\t 0.7235\t\t 0.0021\n",
      "1.263\t 0.7214\t\t 0.7235\t\t 0.0021\n",
      "1.313\t 0.7214\t\t 0.7235\t\t 0.0021\n",
      "1.364\t 0.7214\t\t 0.7235\t\t 0.0021\n",
      "1.414\t 0.7214\t\t 0.7235\t\t 0.0021\n",
      "1.465\t 0.7214\t\t 0.7235\t\t 0.0021\n",
      "1.515\t 0.7214\t\t 0.7235\t\t 0.0021\n",
      "1.566\t 0.7214\t\t 0.7235\t\t 0.0021\n",
      "1.616\t 0.7214\t\t 0.7235\t\t 0.0021\n",
      "1.667\t 0.7214\t\t 0.7235\t\t 0.0021\n",
      "1.717\t 0.7214\t\t 0.7235\t\t 0.0021\n",
      "1.768\t 0.7214\t\t 0.7235\t\t 0.0021\n",
      "1.818\t 0.7214\t\t 0.7235\t\t 0.0021\n",
      "1.869\t 0.7214\t\t 0.7235\t\t 0.0021\n",
      "1.919\t 0.7214\t\t 0.7235\t\t 0.0021\n",
      "1.970\t 0.7214\t\t 0.7235\t\t 0.0021\n",
      "2.020\t 0.7214\t\t 0.7235\t\t 0.0021\n",
      "2.071\t 0.7214\t\t 0.7235\t\t 0.0021\n",
      "2.121\t 0.7214\t\t 0.7235\t\t 0.0021\n",
      "2.172\t 0.7214\t\t 0.7235\t\t 0.0021\n",
      "2.222\t 0.7214\t\t 0.7235\t\t 0.0021\n",
      "2.273\t 0.7214\t\t 0.7235\t\t 0.0021\n",
      "2.323\t 0.7214\t\t 0.7235\t\t 0.0021\n",
      "2.374\t 0.7214\t\t 0.7235\t\t 0.0021\n",
      "2.424\t 0.7214\t\t 0.7235\t\t 0.0021\n",
      "2.475\t 0.7214\t\t 0.7235\t\t 0.0021\n",
      "2.525\t 0.7214\t\t 0.7235\t\t 0.0021\n",
      "2.576\t 0.7214\t\t 0.7235\t\t 0.0021\n",
      "2.626\t 0.7214\t\t 0.7235\t\t 0.0021\n",
      "2.677\t 0.7214\t\t 0.7235\t\t 0.0021\n",
      "2.727\t 0.7214\t\t 0.7235\t\t 0.0021\n",
      "2.778\t 0.7214\t\t 0.7235\t\t 0.0021\n",
      "2.828\t 0.7214\t\t 0.7235\t\t 0.0021\n",
      "2.879\t 0.7214\t\t 0.7235\t\t 0.0021\n",
      "2.929\t 0.7214\t\t 0.7235\t\t 0.0021\n",
      "2.980\t 0.7214\t\t 0.7235\t\t 0.0021\n",
      "3.030\t 0.7214\t\t 0.7235\t\t 0.0021\n",
      "3.081\t 0.7214\t\t 0.7234\t\t 0.0021\n",
      "3.131\t 0.7214\t\t 0.7234\t\t 0.0021\n",
      "3.182\t 0.7214\t\t 0.7234\t\t 0.0021\n",
      "3.232\t 0.7214\t\t 0.7234\t\t 0.0021\n",
      "3.283\t 0.7214\t\t 0.7234\t\t 0.0021\n",
      "3.333\t 0.7214\t\t 0.7234\t\t 0.0021\n",
      "3.384\t 0.7214\t\t 0.7234\t\t 0.0021\n",
      "3.434\t 0.7214\t\t 0.7234\t\t 0.0021\n",
      "3.485\t 0.7214\t\t 0.7234\t\t 0.0021\n",
      "3.535\t 0.7214\t\t 0.7234\t\t 0.0021\n",
      "3.586\t 0.7214\t\t 0.7234\t\t 0.0021\n",
      "3.636\t 0.7214\t\t 0.7234\t\t 0.0021\n",
      "3.687\t 0.7214\t\t 0.7234\t\t 0.0021\n",
      "3.737\t 0.7214\t\t 0.7234\t\t 0.0021\n",
      "3.788\t 0.7214\t\t 0.7234\t\t 0.0021\n",
      "3.838\t 0.7214\t\t 0.7234\t\t 0.0021\n",
      "3.889\t 0.7214\t\t 0.7234\t\t 0.0021\n",
      "3.939\t 0.7214\t\t 0.7234\t\t 0.0021\n",
      "3.990\t 0.7214\t\t 0.7234\t\t 0.0021\n",
      "4.040\t 0.7214\t\t 0.7234\t\t 0.0021\n",
      "4.091\t 0.7214\t\t 0.7234\t\t 0.0021\n",
      "4.141\t 0.7214\t\t 0.7234\t\t 0.0021\n",
      "4.192\t 0.7214\t\t 0.7234\t\t 0.0021\n",
      "4.242\t 0.7214\t\t 0.7234\t\t 0.0021\n",
      "4.293\t 0.7214\t\t 0.7234\t\t 0.0021\n",
      "4.343\t 0.7214\t\t 0.7234\t\t 0.0021\n",
      "4.394\t 0.7214\t\t 0.7234\t\t 0.0021\n",
      "4.444\t 0.7214\t\t 0.7234\t\t 0.0021\n",
      "4.495\t 0.7214\t\t 0.7234\t\t 0.0021\n",
      "4.545\t 0.7214\t\t 0.7234\t\t 0.0021\n",
      "4.596\t 0.7214\t\t 0.7234\t\t 0.0021\n",
      "4.646\t 0.7214\t\t 0.7234\t\t 0.0021\n",
      "4.697\t 0.7214\t\t 0.7234\t\t 0.0021\n",
      "4.747\t 0.7214\t\t 0.7234\t\t 0.0021\n",
      "4.798\t 0.7214\t\t 0.7234\t\t 0.0021\n",
      "4.848\t 0.7214\t\t 0.7234\t\t 0.0021\n",
      "4.899\t 0.7214\t\t 0.7234\t\t 0.0021\n",
      "4.949\t 0.7214\t\t 0.7234\t\t 0.0021\n",
      "5.000\t 0.7214\t\t 0.7234\t\t 0.0021\n"
     ]
    }
   ],
   "source": [
    "print('Ridge Regression')\n",
    "print('alpha\\t RMSE_train\\t RMSE_10cv\\t Gap')\n",
    "\n",
    "alpha = np.linspace(0, 5, 100) # Generate a range of alpha values\n",
    "t_rmse = np.array([]) # Array to hold training RMSE values\n",
    "cv_rmse = np.array([]) # Array to hold cross-validated RMSE values\n",
    "\n",
    "for a in alpha:\n",
    "\n",
    "    ridge = Ridge(alpha = a) # Create Ridge regression model with current alpha\n",
    "    ridge.fit(X_train, y_train) # Fit the model on training data\n",
    "    p_train = ridge.predict(X_train) # Predict on the training set\n",
    "\n",
    "    rmse_train = np.sqrt(mean_squared_error(p_train, y_train)) # Calculate training RMSE\n",
    "    rmse_10cv = cross_validate(ridge, X_train, y_train, 10) # Perform cross-validation and calculate RMSE\n",
    "    \n",
    "    gap = rmse_10cv - rmse_train # Calculate the gap between cross-validated RMSE and training RMSE\n",
    "    \n",
    "    # Append RMSE values to array\n",
    "    t_rmse = np.append(t_rmse, [rmse_train])\n",
    "    cv_rmse = np.append(cv_rmse, [rmse_10cv])\n",
    "    \n",
    "    print('{:.3f}\\t {:.4f}\\t\\t {:.4f}\\t\\t {:.4f}'.format(a, rmse_train, rmse_10cv, gap))"
   ]
  },
  {
   "cell_type": "code",
   "execution_count": 25,
   "metadata": {},
   "outputs": [
    {
     "data": {
      "image/png": "[encoded data removed]",
      "text/plain": [
       "<Figure size 1000x500 with 1 Axes>"
      ]
     },
     "metadata": {},
     "output_type": "display_data"
    }
   ],
   "source": [
    "fig = pl.figure(figsize = (10,5))\n",
    "ax = fig.add_subplot(111)\n",
    "ax.plot(alpha, t_rmse, label = 'RMSE-Train')\n",
    "ax.plot(alpha, cv_rmse, label = 'RMSE-XVal')\n",
    "pl.legend(('RMSE-Train', 'RMSE-XVal'))\n",
    "pl.ylabel('RMSE')\n",
    "pl.xlabel('Alpha')\n",
    "pl.show()"
   ]
  },
  {
   "cell_type": "code",
   "execution_count": 26,
   "metadata": {},
   "outputs": [
    {
     "name": "stdout",
     "output_type": "stream",
     "text": [
      "Fold  1 RMSE: 0.7112\n",
      "Fold  2 RMSE: 0.6942\n",
      "Fold  3 RMSE: 0.7432\n",
      "Fold  4 RMSE: 0.7261\n",
      "Fold  5 RMSE: 0.7179\n",
      "Fold  6 RMSE: 0.6925\n",
      "Fold  7 RMSE: 0.7409\n",
      "Fold  8 RMSE: 0.7305\n",
      "Fold  9 RMSE: 0.7688\n",
      "Fold 10 RMSE: 0.7094\n"
     ]
    }
   ],
   "source": [
    "# Create Ridge regression model with alpha 0.25\n",
    "ridge = Ridge(alpha = 0.25)\n",
    "\n",
    "# Fit the model on the training set\n",
    "ridge.fit(X_train, y_train)\n",
    "\n",
    "# Predict the target values\n",
    "p_train = ridge.predict(X_train)\n",
    "p_test = ridge.predict(X_test)\n",
    "\n",
    "# Calculate the RMSE\n",
    "rmse_train = np.sqrt(mean_squared_error(p_train, y_train))\n",
    "rmse_test = np.sqrt(mean_squared_error(p_test, y_test))\n",
    "\n",
    "# Compute the mean RMSE on 10-fold cross-validation\n",
    "rmse_10cv = cross_validate(ridge, X_train, y_train, 10, verbose = True)"
   ]
  },
  {
   "cell_type": "code",
   "execution_count": 27,
   "metadata": {},
   "outputs": [
    {
     "name": "stdout",
     "output_type": "stream",
     "text": [
      "Method: Ridge Regression\n",
      "RMSE on training: 0.7214\n",
      "RMSE on testing: 0.7352\n",
      "RMSE on 10-fold CV: 0.7235\n"
     ]
    }
   ],
   "source": [
    "print('Method: %s' %'Ridge Regression')\n",
    "print('RMSE on training: %.4f' %rmse_train)\n",
    "print('RMSE on testing: %.4f' %rmse_test)\n",
    "print('RMSE on 10-fold CV: %.4f' %rmse_10cv)"
   ]
  },
  {
   "cell_type": "markdown",
   "metadata": {},
   "source": [
    "Lasso Regression"
   ]
  },
  {
   "cell_type": "code",
   "execution_count": 28,
   "metadata": {},
   "outputs": [
    {
     "name": "stdout",
     "output_type": "stream",
     "text": [
      "Fold  1 RMSE: 0.8496\n",
      "Fold  2 RMSE: 0.8323\n",
      "Fold  3 RMSE: 0.8767\n",
      "Fold  4 RMSE: 0.8514\n",
      "Fold  5 RMSE: 0.8564\n",
      "Fold  6 RMSE: 0.8170\n",
      "Fold  7 RMSE: 0.8569\n",
      "Fold  8 RMSE: 0.8525\n",
      "Fold  9 RMSE: 0.8647\n",
      "Fold 10 RMSE: 0.8309\n"
     ]
    }
   ],
   "source": [
    "# Create Ridge regression model with alpha 0.5\n",
    "lasso = Lasso(alpha = 0.5)\n",
    "\n",
    "# Fit the model on the training set\n",
    "lasso.fit(X_train, y_train)\n",
    "\n",
    "# Predict the target values\n",
    "p_train = lasso.predict(X_train)\n",
    "p_test = lasso.predict(X_test)\n",
    "\n",
    "# Calculate the RMSE\n",
    "rmse_train = np.sqrt(mean_squared_error(p_train, y_train))\n",
    "rmse_test = np.sqrt(mean_squared_error(p_test, y_test))\n",
    "\n",
    "# Compute the mean RMSE on 10-fold cross-validation\n",
    "rmse_10cv = cross_validate(lasso, X_train, y_train, 10, verbose = True)"
   ]
  },
  {
   "cell_type": "code",
   "execution_count": 29,
   "metadata": {},
   "outputs": [
    {
     "name": "stdout",
     "output_type": "stream",
     "text": [
      "Method: Lasso Regression\n",
      "RMSE on training: 0.8487\n",
      "RMSE on testing: 0.8637\n",
      "RMSE on 10-fold CV: 0.8488\n"
     ]
    }
   ],
   "source": [
    "print('Method: %s' %'Lasso Regression')\n",
    "print('RMSE on training: %.4f' %rmse_train)\n",
    "print('RMSE on testing: %.4f' %rmse_test)\n",
    "print('RMSE on 10-fold CV: %.4f' %rmse_10cv)"
   ]
  },
  {
   "cell_type": "code",
   "execution_count": 30,
   "metadata": {},
   "outputs": [
    {
     "name": "stdout",
     "output_type": "stream",
     "text": [
      "Lasso Regression\n",
      "alpha\t RMSE_train\t RMSE_10cv\t Gap\n",
      "0.000\t 0.7214\t\t 0.7235\t\t 0.0021\n",
      "0.000\t 0.7214\t\t 0.7235\t\t 0.0021\n",
      "0.000\t 0.7214\t\t 0.7235\t\t 0.0021\n",
      "0.000\t 0.7214\t\t 0.7234\t\t 0.0021\n",
      "0.000\t 0.7214\t\t 0.7234\t\t 0.0021\n",
      "0.000\t 0.7214\t\t 0.7234\t\t 0.0021\n",
      "0.000\t 0.7214\t\t 0.7234\t\t 0.0021\n",
      "0.000\t 0.7214\t\t 0.7234\t\t 0.0020\n",
      "0.000\t 0.7214\t\t 0.7234\t\t 0.0020\n",
      "0.000\t 0.7214\t\t 0.7234\t\t 0.0020\n",
      "0.000\t 0.7214\t\t 0.7234\t\t 0.0020\n",
      "0.001\t 0.7214\t\t 0.7234\t\t 0.0020\n",
      "0.001\t 0.7214\t\t 0.7234\t\t 0.0020\n",
      "0.001\t 0.7214\t\t 0.7234\t\t 0.0020\n",
      "0.001\t 0.7214\t\t 0.7234\t\t 0.0020\n",
      "0.001\t 0.7214\t\t 0.7234\t\t 0.0020\n",
      "0.001\t 0.7214\t\t 0.7234\t\t 0.0020\n",
      "0.001\t 0.7214\t\t 0.7234\t\t 0.0020\n",
      "0.001\t 0.7214\t\t 0.7234\t\t 0.0020\n",
      "0.001\t 0.7214\t\t 0.7234\t\t 0.0020\n",
      "0.001\t 0.7214\t\t 0.7234\t\t 0.0020\n",
      "0.001\t 0.7214\t\t 0.7234\t\t 0.0020\n",
      "0.001\t 0.7214\t\t 0.7234\t\t 0.0020\n",
      "0.001\t 0.7214\t\t 0.7234\t\t 0.0020\n",
      "0.001\t 0.7214\t\t 0.7234\t\t 0.0020\n",
      "0.001\t 0.7214\t\t 0.7234\t\t 0.0019\n",
      "0.001\t 0.7214\t\t 0.7234\t\t 0.0019\n",
      "0.001\t 0.7214\t\t 0.7234\t\t 0.0019\n",
      "0.001\t 0.7214\t\t 0.7234\t\t 0.0019\n",
      "0.001\t 0.7214\t\t 0.7234\t\t 0.0019\n",
      "0.001\t 0.7214\t\t 0.7234\t\t 0.0019\n",
      "0.001\t 0.7214\t\t 0.7234\t\t 0.0019\n",
      "0.001\t 0.7214\t\t 0.7234\t\t 0.0019\n",
      "0.001\t 0.7214\t\t 0.7234\t\t 0.0019\n",
      "0.001\t 0.7214\t\t 0.7233\t\t 0.0019\n",
      "0.001\t 0.7215\t\t 0.7233\t\t 0.0019\n",
      "0.002\t 0.7215\t\t 0.7233\t\t 0.0019\n",
      "0.002\t 0.7215\t\t 0.7233\t\t 0.0019\n",
      "0.002\t 0.7215\t\t 0.7233\t\t 0.0019\n",
      "0.002\t 0.7215\t\t 0.7233\t\t 0.0019\n",
      "0.002\t 0.7215\t\t 0.7233\t\t 0.0019\n",
      "0.002\t 0.7215\t\t 0.7233\t\t 0.0019\n",
      "0.002\t 0.7215\t\t 0.7233\t\t 0.0019\n",
      "0.002\t 0.7215\t\t 0.7233\t\t 0.0019\n",
      "0.002\t 0.7215\t\t 0.7233\t\t 0.0018\n",
      "0.002\t 0.7215\t\t 0.7233\t\t 0.0018\n",
      "0.002\t 0.7215\t\t 0.7233\t\t 0.0018\n",
      "0.002\t 0.7215\t\t 0.7233\t\t 0.0018\n",
      "0.002\t 0.7215\t\t 0.7233\t\t 0.0018\n",
      "0.002\t 0.7215\t\t 0.7233\t\t 0.0018\n",
      "0.002\t 0.7215\t\t 0.7233\t\t 0.0018\n",
      "0.002\t 0.7215\t\t 0.7233\t\t 0.0018\n",
      "0.002\t 0.7215\t\t 0.7233\t\t 0.0018\n",
      "0.002\t 0.7215\t\t 0.7233\t\t 0.0018\n",
      "0.002\t 0.7215\t\t 0.7233\t\t 0.0018\n",
      "0.002\t 0.7216\t\t 0.7233\t\t 0.0018\n",
      "0.002\t 0.7216\t\t 0.7233\t\t 0.0018\n",
      "0.002\t 0.7216\t\t 0.7233\t\t 0.0018\n",
      "0.002\t 0.7216\t\t 0.7233\t\t 0.0018\n",
      "0.002\t 0.7216\t\t 0.7233\t\t 0.0018\n",
      "0.002\t 0.7216\t\t 0.7234\t\t 0.0018\n",
      "0.003\t 0.7216\t\t 0.7234\t\t 0.0018\n",
      "0.003\t 0.7216\t\t 0.7234\t\t 0.0018\n",
      "0.003\t 0.7216\t\t 0.7234\t\t 0.0017\n",
      "0.003\t 0.7216\t\t 0.7234\t\t 0.0017\n",
      "0.003\t 0.7216\t\t 0.7234\t\t 0.0017\n",
      "0.003\t 0.7216\t\t 0.7234\t\t 0.0017\n",
      "0.003\t 0.7216\t\t 0.7234\t\t 0.0017\n",
      "0.003\t 0.7216\t\t 0.7234\t\t 0.0017\n",
      "0.003\t 0.7217\t\t 0.7234\t\t 0.0017\n",
      "0.003\t 0.7217\t\t 0.7234\t\t 0.0017\n",
      "0.003\t 0.7217\t\t 0.7234\t\t 0.0017\n",
      "0.003\t 0.7217\t\t 0.7234\t\t 0.0017\n",
      "0.003\t 0.7217\t\t 0.7234\t\t 0.0017\n",
      "0.003\t 0.7217\t\t 0.7234\t\t 0.0017\n",
      "0.003\t 0.7217\t\t 0.7234\t\t 0.0017\n",
      "0.003\t 0.7217\t\t 0.7234\t\t 0.0017\n",
      "0.003\t 0.7217\t\t 0.7234\t\t 0.0017\n",
      "0.003\t 0.7217\t\t 0.7234\t\t 0.0017\n",
      "0.003\t 0.7217\t\t 0.7234\t\t 0.0017\n",
      "0.003\t 0.7217\t\t 0.7234\t\t 0.0017\n",
      "0.003\t 0.7218\t\t 0.7234\t\t 0.0017\n",
      "0.003\t 0.7218\t\t 0.7234\t\t 0.0017\n",
      "0.003\t 0.7218\t\t 0.7234\t\t 0.0016\n",
      "0.003\t 0.7218\t\t 0.7234\t\t 0.0016\n",
      "0.003\t 0.7218\t\t 0.7234\t\t 0.0016\n",
      "0.003\t 0.7218\t\t 0.7234\t\t 0.0016\n",
      "0.004\t 0.7218\t\t 0.7234\t\t 0.0016\n",
      "0.004\t 0.7218\t\t 0.7234\t\t 0.0016\n",
      "0.004\t 0.7218\t\t 0.7234\t\t 0.0016\n",
      "0.004\t 0.7218\t\t 0.7235\t\t 0.0016\n",
      "0.004\t 0.7218\t\t 0.7235\t\t 0.0016\n",
      "0.004\t 0.7219\t\t 0.7235\t\t 0.0016\n",
      "0.004\t 0.7219\t\t 0.7235\t\t 0.0016\n",
      "0.004\t 0.7219\t\t 0.7235\t\t 0.0016\n",
      "0.004\t 0.7219\t\t 0.7235\t\t 0.0016\n",
      "0.004\t 0.7219\t\t 0.7235\t\t 0.0016\n",
      "0.004\t 0.7219\t\t 0.7235\t\t 0.0016\n",
      "0.004\t 0.7219\t\t 0.7235\t\t 0.0016\n",
      "0.004\t 0.7219\t\t 0.7235\t\t 0.0016\n"
     ]
    }
   ],
   "source": [
    "print('Lasso Regression')\n",
    "print('alpha\\t RMSE_train\\t RMSE_10cv\\t Gap')\n",
    "\n",
    "alpha = np.linspace(0.0001, 0.004, 100) # Generate a range of alpha values\n",
    "t_rmse = np.array([]) # Array to hold training RMSE values\n",
    "cv_rmse = np.array([]) # Array to hold cross-validated RMSE values\n",
    "\n",
    "for a in alpha:\n",
    "\n",
    "    lasso = Lasso(alpha = a) # Create Lasso regression model with current alpha\n",
    "    lasso.fit(X_train, y_train) # Fit the model on training data\n",
    "    p_train = lasso.predict(X_train) # Predict on the training set\n",
    "\n",
    "    rmse_train = np.sqrt(mean_squared_error(p_train, y_train)) # Calculate training RMSE\n",
    "    rmse_10cv = cross_validate(lasso, X_train, y_train, 10) # Perform cross-validation and calculate RMSE\n",
    "    \n",
    "    gap = rmse_10cv - rmse_train # Calculate the gap between cross-validated RMSE and training RMSE\n",
    "    \n",
    "    # Append RMSE values to array\n",
    "    t_rmse = np.append(t_rmse, [rmse_train])\n",
    "    cv_rmse = np.append(cv_rmse, [rmse_10cv])\n",
    "    \n",
    "    print('{:.3f}\\t {:.4f}\\t\\t {:.4f}\\t\\t {:.4f}'.format(a, rmse_train, rmse_10cv, gap))"
   ]
  },
  {
   "cell_type": "code",
   "execution_count": 31,
   "metadata": {},
   "outputs": [
    {
     "data": {
      "image/png": "[encoded data removed]",
      "text/plain": [
       "<Figure size 1000x500 with 1 Axes>"
      ]
     },
     "metadata": {},
     "output_type": "display_data"
    }
   ],
   "source": [
    "fig = pl.figure(figsize = (10,5))\n",
    "ax = fig.add_subplot(111)\n",
    "ax.plot(alpha, t_rmse, label = 'RMSE-Train')\n",
    "ax.plot(alpha, cv_rmse, label = 'RMSE-XVal')\n",
    "pl.legend(('RMSE-Train', 'RMSE-XVal'))\n",
    "pl.ylabel('RMSE')\n",
    "pl.xlabel('Alpha')\n",
    "pl.show()"
   ]
  },
  {
   "cell_type": "markdown",
   "metadata": {},
   "source": [
    "Elastic Net Regression"
   ]
  },
  {
   "cell_type": "code",
   "execution_count": 32,
   "metadata": {},
   "outputs": [
    {
     "name": "stdout",
     "output_type": "stream",
     "text": [
      "Fold  1 RMSE: 0.8258\n",
      "Fold  2 RMSE: 0.8074\n",
      "Fold  3 RMSE: 0.8510\n",
      "Fold  4 RMSE: 0.8256\n",
      "Fold  5 RMSE: 0.8272\n",
      "Fold  6 RMSE: 0.7871\n",
      "Fold  7 RMSE: 0.8360\n",
      "Fold  8 RMSE: 0.8257\n",
      "Fold  9 RMSE: 0.8391\n",
      "Fold 10 RMSE: 0.8040\n"
     ]
    }
   ],
   "source": [
    "# Create an Elastic Net regression model with alpha 0.5, l1_ratio 0.5\n",
    "elastic = ElasticNet(alpha = 0.5, l1_ratio = 0.5)\n",
    "\n",
    "# Fit the model on the training set\n",
    "elastic.fit(X_train, y_train)\n",
    "\n",
    "# Predict the target values\n",
    "p_train = elastic.predict(X_train)\n",
    "p_test = elastic.predict(X_test)\n",
    "\n",
    "# Calculate the RMSE\n",
    "rmse_train = np.sqrt(mean_squared_error(p_train, y_train))\n",
    "rmse_test = np.sqrt(mean_squared_error(p_test, y_test))\n",
    "\n",
    "# Compute the mean RMSE on 10-fold cross-validation\n",
    "rmse_10cv = cross_validate(elastic, X_train, y_train, 10, verbose = True)"
   ]
  },
  {
   "cell_type": "code",
   "execution_count": 33,
   "metadata": {},
   "outputs": [
    {
     "name": "stdout",
     "output_type": "stream",
     "text": [
      "Method: Elastic Net\n",
      "RMSE on training: 0.8226\n",
      "RMSE on testing: 0.8403\n",
      "RMSE on 10-fold CV: 0.8229\n"
     ]
    }
   ],
   "source": [
    "print('Method: %s' %'Elastic Net')\n",
    "print('RMSE on training: %.4f' %rmse_train)\n",
    "print('RMSE on testing: %.4f' %rmse_test)\n",
    "print('RMSE on 10-fold CV: %.4f' %rmse_10cv)"
   ]
  },
  {
   "cell_type": "code",
   "execution_count": 34,
   "metadata": {},
   "outputs": [
    {
     "name": "stdout",
     "output_type": "stream",
     "text": [
      "Elastic Net Regression\n",
      "alpha\t RMSE_train\t RMSE_10cv\t Gap\n",
      "0.000\t 0.7214\t\t 0.7235\t\t 0.0021\n",
      "0.000\t 0.7214\t\t 0.7235\t\t 0.0021\n",
      "0.000\t 0.7214\t\t 0.7234\t\t 0.0021\n",
      "0.000\t 0.7214\t\t 0.7234\t\t 0.0021\n",
      "0.000\t 0.7214\t\t 0.7234\t\t 0.0021\n",
      "0.000\t 0.7214\t\t 0.7234\t\t 0.0020\n",
      "0.000\t 0.7214\t\t 0.7234\t\t 0.0020\n",
      "0.001\t 0.7214\t\t 0.7234\t\t 0.0020\n",
      "0.001\t 0.7214\t\t 0.7234\t\t 0.0020\n",
      "0.001\t 0.7214\t\t 0.7234\t\t 0.0020\n",
      "0.001\t 0.7214\t\t 0.7234\t\t 0.0020\n",
      "0.001\t 0.7214\t\t 0.7234\t\t 0.0020\n",
      "0.001\t 0.7214\t\t 0.7234\t\t 0.0020\n",
      "0.001\t 0.7214\t\t 0.7234\t\t 0.0020\n",
      "0.001\t 0.7214\t\t 0.7234\t\t 0.0020\n",
      "0.001\t 0.7214\t\t 0.7234\t\t 0.0020\n",
      "0.001\t 0.7214\t\t 0.7234\t\t 0.0020\n",
      "0.001\t 0.7214\t\t 0.7233\t\t 0.0019\n",
      "0.001\t 0.7214\t\t 0.7233\t\t 0.0019\n",
      "0.001\t 0.7214\t\t 0.7233\t\t 0.0019\n",
      "0.001\t 0.7214\t\t 0.7233\t\t 0.0019\n",
      "0.001\t 0.7214\t\t 0.7233\t\t 0.0019\n",
      "0.001\t 0.7214\t\t 0.7233\t\t 0.0019\n",
      "0.001\t 0.7214\t\t 0.7233\t\t 0.0019\n",
      "0.002\t 0.7214\t\t 0.7233\t\t 0.0019\n",
      "0.002\t 0.7214\t\t 0.7233\t\t 0.0019\n",
      "0.002\t 0.7214\t\t 0.7233\t\t 0.0019\n",
      "0.002\t 0.7214\t\t 0.7233\t\t 0.0019\n",
      "0.002\t 0.7214\t\t 0.7233\t\t 0.0019\n",
      "0.002\t 0.7214\t\t 0.7233\t\t 0.0019\n",
      "0.002\t 0.7214\t\t 0.7233\t\t 0.0018\n",
      "0.002\t 0.7214\t\t 0.7233\t\t 0.0018\n",
      "0.002\t 0.7215\t\t 0.7233\t\t 0.0018\n",
      "0.002\t 0.7215\t\t 0.7233\t\t 0.0018\n",
      "0.002\t 0.7215\t\t 0.7233\t\t 0.0018\n",
      "0.002\t 0.7215\t\t 0.7233\t\t 0.0018\n",
      "0.002\t 0.7215\t\t 0.7233\t\t 0.0018\n",
      "0.002\t 0.7215\t\t 0.7233\t\t 0.0018\n",
      "0.002\t 0.7215\t\t 0.7233\t\t 0.0018\n",
      "0.002\t 0.7215\t\t 0.7233\t\t 0.0018\n",
      "0.002\t 0.7215\t\t 0.7233\t\t 0.0018\n",
      "0.003\t 0.7215\t\t 0.7233\t\t 0.0018\n",
      "0.003\t 0.7215\t\t 0.7233\t\t 0.0018\n",
      "0.003\t 0.7215\t\t 0.7233\t\t 0.0018\n",
      "0.003\t 0.7215\t\t 0.7233\t\t 0.0018\n",
      "0.003\t 0.7215\t\t 0.7233\t\t 0.0017\n",
      "0.003\t 0.7215\t\t 0.7233\t\t 0.0017\n",
      "0.003\t 0.7215\t\t 0.7233\t\t 0.0017\n",
      "0.003\t 0.7215\t\t 0.7233\t\t 0.0017\n",
      "0.003\t 0.7215\t\t 0.7233\t\t 0.0017\n",
      "0.003\t 0.7216\t\t 0.7233\t\t 0.0017\n",
      "0.003\t 0.7216\t\t 0.7233\t\t 0.0017\n",
      "0.003\t 0.7216\t\t 0.7233\t\t 0.0017\n",
      "0.003\t 0.7216\t\t 0.7233\t\t 0.0017\n",
      "0.003\t 0.7216\t\t 0.7233\t\t 0.0017\n",
      "0.003\t 0.7216\t\t 0.7233\t\t 0.0017\n",
      "0.003\t 0.7216\t\t 0.7233\t\t 0.0017\n",
      "0.003\t 0.7216\t\t 0.7233\t\t 0.0017\n",
      "0.004\t 0.7216\t\t 0.7233\t\t 0.0017\n",
      "0.004\t 0.7216\t\t 0.7233\t\t 0.0017\n",
      "0.004\t 0.7216\t\t 0.7233\t\t 0.0016\n",
      "0.004\t 0.7216\t\t 0.7233\t\t 0.0016\n",
      "0.004\t 0.7216\t\t 0.7233\t\t 0.0016\n",
      "0.004\t 0.7216\t\t 0.7233\t\t 0.0016\n",
      "0.004\t 0.7217\t\t 0.7233\t\t 0.0016\n",
      "0.004\t 0.7217\t\t 0.7233\t\t 0.0016\n",
      "0.004\t 0.7217\t\t 0.7233\t\t 0.0016\n",
      "0.004\t 0.7217\t\t 0.7233\t\t 0.0016\n",
      "0.004\t 0.7217\t\t 0.7233\t\t 0.0016\n",
      "0.004\t 0.7217\t\t 0.7233\t\t 0.0016\n",
      "0.004\t 0.7217\t\t 0.7233\t\t 0.0016\n",
      "0.004\t 0.7217\t\t 0.7233\t\t 0.0016\n",
      "0.004\t 0.7217\t\t 0.7233\t\t 0.0016\n",
      "0.004\t 0.7217\t\t 0.7233\t\t 0.0016\n",
      "0.005\t 0.7217\t\t 0.7233\t\t 0.0016\n",
      "0.005\t 0.7217\t\t 0.7233\t\t 0.0016\n",
      "0.005\t 0.7218\t\t 0.7233\t\t 0.0015\n",
      "0.005\t 0.7218\t\t 0.7233\t\t 0.0015\n",
      "0.005\t 0.7218\t\t 0.7233\t\t 0.0015\n",
      "0.005\t 0.7218\t\t 0.7233\t\t 0.0015\n",
      "0.005\t 0.7218\t\t 0.7233\t\t 0.0015\n",
      "0.005\t 0.7218\t\t 0.7233\t\t 0.0015\n",
      "0.005\t 0.7218\t\t 0.7233\t\t 0.0015\n",
      "0.005\t 0.7218\t\t 0.7233\t\t 0.0015\n",
      "0.005\t 0.7218\t\t 0.7233\t\t 0.0015\n",
      "0.005\t 0.7218\t\t 0.7233\t\t 0.0015\n",
      "0.005\t 0.7219\t\t 0.7233\t\t 0.0015\n",
      "0.005\t 0.7219\t\t 0.7233\t\t 0.0015\n",
      "0.005\t 0.7219\t\t 0.7233\t\t 0.0015\n",
      "0.005\t 0.7219\t\t 0.7234\t\t 0.0015\n",
      "0.005\t 0.7219\t\t 0.7234\t\t 0.0015\n",
      "0.006\t 0.7219\t\t 0.7234\t\t 0.0015\n",
      "0.006\t 0.7219\t\t 0.7234\t\t 0.0015\n",
      "0.006\t 0.7219\t\t 0.7234\t\t 0.0015\n",
      "0.006\t 0.7219\t\t 0.7234\t\t 0.0014\n",
      "0.006\t 0.7219\t\t 0.7234\t\t 0.0014\n",
      "0.006\t 0.7220\t\t 0.7234\t\t 0.0014\n",
      "0.006\t 0.7220\t\t 0.7234\t\t 0.0014\n",
      "0.006\t 0.7220\t\t 0.7234\t\t 0.0014\n",
      "0.006\t 0.7220\t\t 0.7234\t\t 0.0014\n"
     ]
    }
   ],
   "source": [
    "print('Elastic Net Regression')\n",
    "print('alpha\\t RMSE_train\\t RMSE_10cv\\t Gap')\n",
    "\n",
    "alpha = np.linspace(0.0001, 0.006, 100) # Generate a range of alpha values\n",
    "t_rmse = np.array([]) # Array to hold training RMSE values\n",
    "cv_rmse = np.array([]) # Array to hold cross-validated RMSE values\n",
    "\n",
    "for a in alpha:\n",
    "\n",
    "    elastic = ElasticNet(alpha = a, l1_ratio = 0.5) # Create Elastic Net regression model with current alpha\n",
    "    elastic.fit(X_train, y_train) # Fit the model on training data\n",
    "    p_train = elastic.predict(X_train) # Predict on the training set\n",
    "\n",
    "    rmse_train = np.sqrt(mean_squared_error(p_train, y_train)) # Calculate training RMSE\n",
    "    rmse_10cv = cross_validate(elastic, X_train, y_train, 10) # Perform cross-validation and calculate RMSE\n",
    "    \n",
    "    gap = rmse_10cv - rmse_train # Calculate the gap between cross-validated RMSE and training RMSE\n",
    "    \n",
    "    # Append RMSE values to array\n",
    "    t_rmse = np.append(t_rmse, [rmse_train])\n",
    "    cv_rmse = np.append(cv_rmse, [rmse_10cv])\n",
    "    \n",
    "    print('{:.3f}\\t {:.4f}\\t\\t {:.4f}\\t\\t {:.4f}'.format(a, rmse_train, rmse_10cv, gap))"
   ]
  },
  {
   "cell_type": "code",
   "execution_count": 35,
   "metadata": {},
   "outputs": [
    {
     "data": {
      "image/png": "[encoded data removed]",
      "text/plain": [
       "<Figure size 1000x500 with 1 Axes>"
      ]
     },
     "metadata": {},
     "output_type": "display_data"
    }
   ],
   "source": [
    "fig = pl.figure(figsize = (10,5))\n",
    "ax = fig.add_subplot(111)\n",
    "ax.plot(alpha, t_rmse, label = 'RMSE-Train')\n",
    "ax.plot(alpha, cv_rmse, label = 'RMSE-XVal')\n",
    "pl.legend(('RMSE-Train', 'RMSE-XVal'))\n",
    "pl.ylabel('RMSE')\n",
    "pl.xlabel('Alpha')\n",
    "pl.show()"
   ]
  },
  {
   "cell_type": "code",
   "execution_count": null,
   "metadata": {},
   "outputs": [],
   "source": []
  }
 ],
 "metadata": {
  "kernelspec": {
   "display_name": "Python 3 (ipykernel)",
   "language": "python",
   "name": "python3"
  },
  "language_info": {
   "codemirror_mode": {
    "name": "ipython",
    "version": 3
   },
   "file_extension": ".py",
   "mimetype": "text/x-python",
   "name": "python",
   "nbconvert_exporter": "python",
   "pygments_lexer": "ipython3",
   "version": "3.9.11"
  }
 },
 "nbformat": 4,
 "nbformat_minor": 4
}
